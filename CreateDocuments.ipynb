{
 "cells": [
  {
   "cell_type": "code",
   "execution_count": 137,
   "metadata": {
    "scrolled": true
   },
   "outputs": [
    {
     "name": "stdout",
     "output_type": "stream",
     "text": [
      "http://www.econtalk.org/archives/2018/06/moises_velasque.html\n",
      "http://www.econtalk.org/archives/2018/06/janet_golden_on.html\n",
      "http://www.econtalk.org/archives/2018/05/iain_mcgilchris.html\n",
      "http://www.econtalk.org/archives/2018/05/glen_weyl_on_ra.html\n",
      "http://www.econtalk.org/archives/2018/05/peter_boettke_o.html\n",
      "http://www.econtalk.org/archives/2018/05/joel_peterson_o.html\n",
      "http://www.econtalk.org/archives/2018/04/ryan_holiday_on_1.html\n",
      "http://www.econtalk.org/archives/2018/04/jonah_goldberg.html\n",
      "http://www.econtalk.org/archives/2018/04/jerry_muller_on.html\n",
      "http://www.econtalk.org/archives/2018/04/vincent_rajkuma.html\n",
      "http://www.econtalk.org/archives/2018/04/michael_munger_5.html\n",
      "http://www.econtalk.org/archives/2018/03/edward_glaeser.html\n",
      "http://www.econtalk.org/archives/2018/03/beth_redbird_on.html\n",
      "http://www.econtalk.org/archives/2018/03/arnold_kling_on_2.html\n",
      "http://www.econtalk.org/archives/2018/03/nassim_nicholas_2.html\n",
      "http://www.econtalk.org/archives/2018/02/elizabeth_ander.html\n",
      "http://www.econtalk.org/archives/2018/02/jordan_peterson.html\n",
      "http://www.econtalk.org/archives/2018/02/bryan_caplan_on_1.html\n",
      "http://www.econtalk.org/archives/2018/02/helen_pluckrose.html\n",
      "http://www.econtalk.org/archives/2018/01/marian_goodell.html\n",
      "http://www.econtalk.org/archives/2018/01/john_ioannidis.html\n",
      "http://www.econtalk.org/archives/2018/01/bill_james_on_b.html\n",
      "http://www.econtalk.org/archives/2018/01/dick_carpenter.html\n",
      "http://www.econtalk.org/archives/2018/01/kelly_weinersmi.html\n",
      "http://www.econtalk.org/archives/2017/12/matt_stoller_on.html\n",
      "http://www.econtalk.org/archives/2017/12/brink_lindsey_a.html\n",
      "http://www.econtalk.org/archives/2017/12/john_cogan_on_e.html\n",
      "http://www.econtalk.org/archives/2017/12/rachel_laudan_o_1.html\n",
      "http://www.econtalk.org/archives/2017/11/simeon_djankov.html\n",
      "http://www.econtalk.org/archives/2017/11/anthony_gill_on_1.html\n",
      "http://www.econtalk.org/archives/2017/11/dennis_rasmusse.html\n",
      "http://www.econtalk.org/archives/2017/10/michael_munger_4.html\n",
      "http://www.econtalk.org/archives/2017/10/jennifer_burns.html\n",
      "http://www.econtalk.org/archives/2017/10/megan_mcardle_o.html\n",
      "http://www.econtalk.org/archives/2017/10/tim_oreilly_on_1.html\n",
      "http://www.econtalk.org/archives/2017/10/_robert_wright.html\n",
      "http://www.econtalk.org/archives/2017/09/philip_auerswal.html\n",
      "http://www.econtalk.org/archives/2017/09/gabriel_zucman.html\n",
      "http://www.econtalk.org/archives/2017/09/gillian_hadfiel.html\n",
      "http://www.econtalk.org/archives/2017/09/rob_reich_on_fo.html\n",
      "http://www.econtalk.org/archives/2017/08/benedict_evans.html\n",
      "http://www.econtalk.org/archives/2017/08/john_mcwhorter.html\n",
      "http://www.econtalk.org/archives/2017/08/nassim_nicholas_1.html\n",
      "http://www.econtalk.org/archives/2017/08/tyler_cowen_on_2.html\n",
      "http://www.econtalk.org/archives/2017/07/alex_guarnasche.html\n",
      "http://www.econtalk.org/archives/2017/07/sally_satel_on.html\n",
      "http://www.econtalk.org/archives/2017/07/tamar_haspel_on.html\n",
      "http://www.econtalk.org/archives/2017/07/martha_nussbaum_1.html\n",
      "http://www.econtalk.org/archives/2017/07/chris_blattman_2.html\n",
      "http://www.econtalk.org/archives/2017/06/robin_feldman_o.html\n",
      "http://www.econtalk.org/archives/2017/06/thomas_ricks_on.html\n",
      "http://www.econtalk.org/archives/2017/06/don_boudreaux_m.html\n",
      "http://www.econtalk.org/archives/2017/06/christy_ford_ch.html\n",
      "http://www.econtalk.org/archives/2017/05/david_boaz_pj_o.html\n",
      "http://www.econtalk.org/archives/2017/05/lant_pritchett_1.html\n",
      "http://www.econtalk.org/archives/2017/05/cass_sunstein_o.html\n",
      "http://www.econtalk.org/archives/2017/05/tyler_cowen_on_1.html\n",
      "http://www.econtalk.org/archives/2017/05/jennifer_pahlka.html\n",
      "http://www.econtalk.org/archives/2017/04/elizabeth_pape.html\n",
      "http://www.econtalk.org/archives/2017/04/rana_foroohar_o.html\n",
      "http://www.econtalk.org/archives/2017/04/erica_sandberg.html\n",
      "http://www.econtalk.org/archives/2017/04/vanessa_william.html\n",
      "http://www.econtalk.org/archives/2017/03/jason_barr_on_b.html\n",
      "http://www.econtalk.org/archives/2017/03/andrew_gelman_o.html\n",
      "http://www.econtalk.org/archives/2017/03/robert_whaples.html\n",
      "http://www.econtalk.org/archives/2017/03/crafts_garicano.html\n",
      "http://www.econtalk.org/archives/2017/02/paul_bloom_on_e.html\n",
      "http://www.econtalk.org/archives/2017/02/tom_wainwright.html\n",
      "http://www.econtalk.org/archives/2017/02/jim_epstein_on.html\n",
      "http://www.econtalk.org/archives/2017/02/gary_taubes_on.html\n",
      "http://www.econtalk.org/archives/2017/01/george_borjas_o.html\n",
      "http://www.econtalk.org/archives/2017/01/sam_quinones_on.html\n",
      "http://www.econtalk.org/archives/2017/01/michael_munger_3.html\n",
      "http://www.econtalk.org/archives/2017/01/robert_hall_on.html\n",
      "http://www.econtalk.org/archives/2017/01/mark_warshawsky.html\n",
      "http://www.econtalk.org/archives/2016/12/chris_blattman_1.html\n",
      "http://www.econtalk.org/archives/2016/12/terry_anderson_1.html\n",
      "http://www.econtalk.org/archives/2016/12/bruce_bueno_de_1.html\n",
      "http://www.econtalk.org/archives/2016/12/thomas_leonard.html\n",
      "http://www.econtalk.org/archives/2016/11/doug_lemov_on_r.html\n",
      "http://www.econtalk.org/archives/2016/11/erik_hurst_on_w.html\n",
      "http://www.econtalk.org/archives/2016/11/david_gelernter.html\n",
      "http://www.econtalk.org/archives/2016/10/judith_donath_o.html\n",
      "http://www.econtalk.org/archives/2016/10/casey_mulligan.html\n",
      "http://www.econtalk.org/archives/2016/10/chris_arnade_on.html\n",
      "http://www.econtalk.org/archives/2016/10/angus_deaton_on.html\n",
      "http://www.econtalk.org/archives/2016/10/cathy_oneil_on_1.html\n",
      "http://www.econtalk.org/archives/2016/09/john_cochrane_o.html\n",
      "http://www.econtalk.org/archives/2016/09/eric_wakin_on_a.html\n",
      "http://www.econtalk.org/archives/2016/09/susan_athey_on.html\n",
      "http://www.econtalk.org/archives/2016/09/terry_moe_on_th.html\n",
      "http://www.econtalk.org/archives/2016/08/leo_katz_on_why.html\n",
      "http://www.econtalk.org/archives/2016/08/munger_on_slave.html\n",
      "http://www.econtalk.org/archives/2016/08/chuck_klosterma.html\n",
      "http://www.econtalk.org/archives/2016/08/adam_dangelo_on.html\n",
      "http://www.econtalk.org/archives/2016/08/matthew_futterm.html\n",
      "http://www.econtalk.org/archives/2016/07/angela_duckwort.html\n",
      "http://www.econtalk.org/archives/2016/07/ryan_holiday_on.html\n",
      "http://www.econtalk.org/archives/2016/07/jonathan_skinne.html\n",
      "http://www.econtalk.org/archives/2016/07/yuval_levin_on_1.html\n",
      "http://www.econtalk.org/archives/2016/06/richard_epstein_3.html\n",
      "http://www.econtalk.org/archives/2016/06/kevin_kelly_on_1.html\n",
      "http://www.econtalk.org/archives/2016/06/abby_smith_rums.html\n",
      "http://www.econtalk.org/archives/2016/06/jason_zweig_on.html\n",
      "http://www.econtalk.org/archives/2016/05/david_beckworth.html\n",
      "http://www.econtalk.org/archives/2016/05/james_bessen_on.html\n",
      "http://www.econtalk.org/archives/2016/05/leif_wenar_on_b.html\n",
      "http://www.econtalk.org/archives/2016/05/pedro_domingos.html\n",
      "http://www.econtalk.org/archives/2016/05/arnold_kling_on_1.html\n",
      "http://www.econtalk.org/archives/2016/04/alberto_alesina.html\n",
      "http://www.econtalk.org/archives/2016/04/gary_belsky_on.html\n",
      "http://www.econtalk.org/archives/2016/04/robert_frank_on_4.html\n",
      "http://www.econtalk.org/archives/2016/04/richard_jones_o.html\n",
      "http://www.econtalk.org/archives/2016/03/jayson_lusk_on.html\n",
      "http://www.econtalk.org/archives/2016/03/marina_krakovsk.html\n",
      "http://www.econtalk.org/archives/2016/03/david_autor_on_1.html\n",
      "http://www.econtalk.org/archives/2016/03/will_davies_on.html\n",
      "http://www.econtalk.org/archives/2016/02/alison_wolf_on.html\n",
      "http://www.econtalk.org/archives/2016/02/matt_ridley_on_1.html\n",
      "http://www.econtalk.org/archives/2016/02/adam_cifu_on_en.html\n",
      "http://www.econtalk.org/archives/2016/02/adam_ozimek_on.html\n",
      "http://www.econtalk.org/archives/2016/02/timothy_taylor.html\n",
      "http://www.econtalk.org/archives/2016/01/james_heckman_o.html\n",
      "http://www.econtalk.org/archives/2016/01/josh_luber_on_s.html\n",
      "http://www.econtalk.org/archives/2016/01/greg_ip_on_fool.html\n",
      "http://www.econtalk.org/archives/2016/01/robert_frank_on_3.html\n",
      "http://www.econtalk.org/archives/2015/12/noah_smith_on_w.html\n",
      "http://www.econtalk.org/archives/2015/12/philip_tetlock.html\n",
      "http://www.econtalk.org/archives/2015/12/george_selgin_o.html\n",
      "http://www.econtalk.org/archives/2015/12/canice_prenderg.html\n",
      "http://www.econtalk.org/archives/2015/11/david_mindell_o.html\n",
      "http://www.econtalk.org/archives/2015/11/michael_munger_2.html\n"
     ]
    },
    {
     "name": "stdout",
     "output_type": "stream",
     "text": [
      "http://www.econtalk.org/archives/2015/11/brian_nosek_on.html\n",
      "http://www.econtalk.org/archives/2015/11/michael_matheso.html\n",
      "http://www.econtalk.org/archives/2015/10/cesar_hidalgo_o.html\n",
      "http://www.econtalk.org/archives/2015/10/yuval_harari_on.html\n",
      "http://www.econtalk.org/archives/2015/10/pete_boettke_on.html\n",
      "http://www.econtalk.org/archives/2015/10/tim_oreilly_on.html\n",
      "http://www.econtalk.org/archives/2015/09/pete_geddes_on.html\n",
      "http://www.econtalk.org/archives/2015/09/tina_rosenberg.html\n",
      "http://www.econtalk.org/archives/2015/09/mitch_weiss_on.html\n",
      "http://www.econtalk.org/archives/2015/09/william_macaski.html\n",
      "http://www.econtalk.org/archives/2015/08/paul_robinson_o.html\n",
      "http://www.econtalk.org/archives/2015/08/jesse_ausubel_o.html\n",
      "http://www.econtalk.org/archives/2015/08/rachel_laudan_o.html\n",
      "http://www.econtalk.org/archives/2015/08/summer_brennan.html\n",
      "http://www.econtalk.org/archives/2015/08/roger_berkowitz.html\n",
      "http://www.econtalk.org/archives/2015/07/eric_hanushek_o.html\n",
      "http://www.econtalk.org/archives/2015/07/wences_casares.html\n",
      "http://www.econtalk.org/archives/2015/07/lee_ohanian_arn.html\n",
      "http://www.econtalk.org/archives/2015/07/alvin_roth_on_m.html\n",
      "http://www.econtalk.org/archives/2015/06/matt_ridley_on.html\n",
      "http://www.econtalk.org/archives/2015/06/morten_jerven_o.html\n",
      "http://www.econtalk.org/archives/2015/06/adam_davidson_o_1.html\n",
      "http://www.econtalk.org/archives/2015/06/nathaniel_poppe.html\n",
      "http://www.econtalk.org/archives/2015/06/martin_weitzman.html\n",
      "http://www.econtalk.org/archives/2015/05/bent_flyvbjerg.html\n",
      "http://www.econtalk.org/archives/2015/05/nicholas_vincen.html\n",
      "http://www.econtalk.org/archives/2015/05/eric_topol_on_t.html\n",
      "http://www.econtalk.org/archives/2015/05/michael_ohare_o.html\n",
      "http://www.econtalk.org/archives/2015/04/leonard_wong_on.html\n",
      "http://www.econtalk.org/archives/2015/04/scott_sumner_on.html\n",
      "http://www.econtalk.org/archives/2015/04/phil_rosenzweig.html\n",
      "http://www.econtalk.org/archives/2015/04/vernon_smith_an.html\n",
      "http://www.econtalk.org/archives/2015/03/david_skarbek_o.html\n",
      "http://www.econtalk.org/archives/2015/03/paul_romer_on_u.html\n",
      "http://www.econtalk.org/archives/2015/03/lawrence_h_whit.html\n",
      "http://www.econtalk.org/archives/2015/03/david_zetland_o.html\n",
      "http://www.econtalk.org/archives/2015/02/michael_munger_1.html\n",
      "http://www.econtalk.org/archives/2015/02/benn_steil_on_t.html\n",
      "http://www.econtalk.org/archives/2015/02/daniel_sumner_o.html\n",
      "http://www.econtalk.org/archives/2015/02/luigi_zingales_1.html\n",
      "http://www.econtalk.org/archives/2015/01/alex_tabarrok_o.html\n",
      "http://www.econtalk.org/archives/2015/01/nassim_nicholas.html\n",
      "http://www.econtalk.org/archives/2015/01/greg_page_on_fo.html\n",
      "http://www.econtalk.org/archives/2015/01/joshua_greene_o.html\n",
      "http://www.econtalk.org/archives/2014/12/james_tooley_on.html\n",
      "http://www.econtalk.org/archives/2014/12/joshua_angrist.html\n",
      "http://www.econtalk.org/archives/2014/12/gary_marcus_on.html\n",
      "http://www.econtalk.org/archives/2014/12/james_otteson_o.html\n",
      "http://www.econtalk.org/archives/2014/12/nick_bostrom_on.html\n",
      "http://www.econtalk.org/archives/2014/11/emily_oster_on.html\n",
      "http://www.econtalk.org/archives/2014/11/vernon_smith_on_2.html\n",
      "http://www.econtalk.org/archives/2014/11/becky_liddicoat.html\n",
      "http://www.econtalk.org/archives/2014/11/daron_acemoglu.html\n",
      "http://www.econtalk.org/archives/2014/10/robert_solow_on.html\n",
      "http://www.econtalk.org/archives/2014/10/luigi_zingales.html\n",
      "http://www.econtalk.org/archives/2014/10/russ_roberts_an.html\n",
      "http://www.econtalk.org/archives/2014/10/david_autor_on.html\n",
      "http://www.econtalk.org/archives/2014/09/martha_nussbaum.html\n",
      "http://www.econtalk.org/archives/2014/09/thomas_piketty.html\n",
      "http://www.econtalk.org/archives/2014/09/elizabeth_green.html\n",
      "http://www.econtalk.org/archives/2014/09/paul_pfleiderer.html\n",
      "http://www.econtalk.org/archives/2014/09/nathan_blecharc.html\n",
      "http://www.econtalk.org/archives/2014/08/daphne_koller_o.html\n",
      "http://www.econtalk.org/archives/2014/08/terry_anderson.html\n",
      "http://www.econtalk.org/archives/2014/08/barry_weingast.html\n",
      "http://www.econtalk.org/archives/2014/08/reid_hoffman_an.html\n",
      "http://www.econtalk.org/archives/2014/07/sam_altman_on_s.html\n",
      "http://www.econtalk.org/archives/2014/07/chris_blattman.html\n",
      "http://www.econtalk.org/archives/2014/07/dg_myers_on_can.html\n",
      "http://www.econtalk.org/archives/2014/07/michael_munger.html\n",
      "http://www.econtalk.org/archives/2014/06/hansen_on_risk.html\n",
      "http://www.econtalk.org/archives/2014/06/gregory_zuckerm.html\n",
      "http://www.econtalk.org/archives/2014/06/william_easterl.html\n",
      "http://www.econtalk.org/archives/2014/06/edward_lazear_o.html\n",
      "http://www.econtalk.org/archives/2014/06/mcafee_mcardle.html\n",
      "http://www.econtalk.org/archives/2014/05/yuval_levin_on.html\n",
      "http://www.econtalk.org/archives/2014/05/marc_andreessen.html\n",
      "http://www.econtalk.org/archives/2014/05/charles_marohn.html\n",
      "http://www.econtalk.org/archives/2014/05/gavin_andresen.html\n",
      "http://www.econtalk.org/archives/2014/04/diane_coyle_on.html\n",
      "http://www.econtalk.org/archives/2014/04/mcardle_on_fail.html\n",
      "http://www.econtalk.org/archives/2014/04/steven_teles_on.html\n",
      "http://www.econtalk.org/archives/2014/04/bryan_caplan_on.html\n",
      "http://www.econtalk.org/archives/2014/03/cochrane_on_edu.html\n",
      "http://www.econtalk.org/archives/2014/03/john_christy_an.html\n",
      "http://www.econtalk.org/archives/2014/03/jeffrey_sachs_o.html\n",
      "http://www.econtalk.org/archives/2014/03/richard_epstein_2.html\n",
      "http://www.econtalk.org/archives/2014/03/velasquez-manof.html\n",
      "http://www.econtalk.org/archives/2014/02/robert_frank_on_2.html\n",
      "http://www.econtalk.org/archives/2014/02/calomiris_and_h.html\n",
      "http://www.econtalk.org/archives/2014/02/paul_sabin_on_e.html\n",
      "http://www.econtalk.org/archives/2014/02/brynjolfsson_on.html\n",
      "http://www.econtalk.org/archives/2014/01/nina_munk_on_po.html\n",
      "http://www.econtalk.org/archives/2014/01/jonathan_haidt.html\n",
      "http://www.econtalk.org/archives/2014/01/laurence_kotlik.html\n",
      "http://www.econtalk.org/archives/2014/01/anthony_gill_on.html\n",
      "http://www.econtalk.org/archives/2013/12/richard_fisher.html\n",
      "http://www.econtalk.org/archives/2013/12/judith_curry_on.html\n",
      "http://www.econtalk.org/archives/2013/12/wally_thurman_o.html\n",
      "http://www.econtalk.org/archives/2013/12/doug_lemov_on_t.html\n",
      "http://www.econtalk.org/archives/2013/12/lant_pritchett.html\n",
      "http://www.econtalk.org/archives/2013/11/joel_mokyr_on_g.html\n",
      "http://www.econtalk.org/archives/2013/11/deaton_on_healt.html\n",
      "http://www.econtalk.org/archives/2013/11/edmund_phelps_o.html\n",
      "http://www.econtalk.org/archives/2013/11/john_ralston_sa.html\n",
      "http://www.econtalk.org/archives/2013/10/boudreaux_on_co.html\n",
      "http://www.econtalk.org/archives/2013/10/calvo_on_the_cr.html\n",
      "http://www.econtalk.org/archives/2013/10/winston_on_tran.html\n",
      "http://www.econtalk.org/archives/2013/10/oster_on_pregna.html\n",
      "http://www.econtalk.org/archives/2013/09/tyler_cowen_on.html\n",
      "http://www.econtalk.org/archives/2013/09/david_epstein_o.html\n",
      "http://www.econtalk.org/archives/2013/09/david_laidler_o.html\n",
      "http://www.econtalk.org/archives/2013/09/taleb_on_skin_i.html\n",
      "http://www.econtalk.org/archives/2013/09/capitalism_gove.html\n",
      "http://www.econtalk.org/archives/2013/09/munger_on_milk.html\n",
      "http://www.econtalk.org/archives/2013/08/hanushek_on_edu_3.html\n",
      "http://www.econtalk.org/archives/2013/08/bhagwati_on_ind.html\n",
      "http://www.econtalk.org/archives/2013/08/weingast_on_the.html\n",
      "http://www.econtalk.org/archives/2013/08/pindyck_on_clim.html\n",
      "http://www.econtalk.org/archives/2013/07/narlikar_on_fai.html\n",
      "http://www.econtalk.org/archives/2013/07/michael_lind_on.html\n",
      "http://www.econtalk.org/archives/2013/07/clemens_on_aid.html\n",
      "http://www.econtalk.org/archives/2013/07/morris_fiorina.html\n",
      "http://www.econtalk.org/archives/2013/07/munger_on_sport.html\n",
      "http://www.econtalk.org/archives/2013/06/stevenson_and_w.html\n",
      "http://www.econtalk.org/archives/2013/06/schneier_on_pow.html\n",
      "http://www.econtalk.org/archives/2013/06/kling_on_the_th.html\n",
      "http://www.econtalk.org/archives/2013/05/jim_manzi_on_th.html\n",
      "http://www.econtalk.org/archives/2013/05/epstein_on_the_1.html\n",
      "http://www.econtalk.org/archives/2013/05/frakt_on_medica.html\n",
      "http://www.econtalk.org/archives/2013/04/galbraith_on_in.html\n",
      "http://www.econtalk.org/archives/2013/04/glaeser_on_citi.html\n",
      "http://www.econtalk.org/archives/2013/04/sachs_on_the_cr.html\n"
     ]
    },
    {
     "name": "stdout",
     "output_type": "stream",
     "text": [
      "http://www.econtalk.org/archives/2013/04/admati_on_bank.html\n",
      "http://www.econtalk.org/archives/2013/04/topol_on_the_cr.html\n",
      "http://www.econtalk.org/archives/2013/03/sumner_on_money_1.html\n",
      "http://www.econtalk.org/archives/2013/03/burgin_on_hayek.html\n",
      "http://www.econtalk.org/archives/2013/03/searls_on_the_i.html\n",
      "http://www.econtalk.org/archives/2013/03/leigh_steinberg.html\n",
      "http://www.econtalk.org/archives/2013/02/varoufakis_on_v.html\n",
      "http://www.econtalk.org/archives/2013/02/glenn_reynolds.html\n",
      "http://www.econtalk.org/archives/2013/02/cathy_oneil_on.html\n",
      "http://www.econtalk.org/archives/2013/02/seidman_on_the.html\n",
      "http://www.econtalk.org/archives/2013/01/boettke_on_livi.html\n",
      "http://www.econtalk.org/archives/2013/01/kelly_on_the_fu.html\n",
      "http://www.econtalk.org/archives/2013/01/esther_dyson_on.html\n",
      "http://www.econtalk.org/archives/2013/01/jerven_on_measu.html\n",
      "http://www.econtalk.org/archives/2012/12/pettit_on_the_p.html\n",
      "http://www.econtalk.org/archives/2012/12/lisa_turner_on.html\n",
      "http://www.econtalk.org/archives/2012/12/boudreaux_on_re.html\n",
      "http://www.econtalk.org/archives/2012/12/chris_anderson_2.html\n",
      "http://www.econtalk.org/archives/2012/12/mulligan_on_red.html\n",
      "http://www.econtalk.org/archives/2012/11/angell_on_big_p.html\n",
      "http://www.econtalk.org/archives/2012/11/munger_on_john.html\n",
      "http://www.econtalk.org/archives/2012/11/joshua_rauh_on.html\n",
      "http://www.econtalk.org/archives/2012/10/hanke_on_hyperi.html\n",
      "http://www.econtalk.org/archives/2012/10/rodden_on_the_g.html\n",
      "http://www.econtalk.org/archives/2012/10/kling_on_educat.html\n",
      "http://www.econtalk.org/archives/2012/10/garett_jones_on_2.html\n",
      "http://www.econtalk.org/archives/2012/10/robert_skidelsk.html\n",
      "http://www.econtalk.org/archives/2012/09/frank_and_rober.html\n",
      "http://www.econtalk.org/archives/2012/09/paul_tough_on_h.html\n",
      "http://www.econtalk.org/archives/2012/09/nosek_on_truth.html\n",
      "http://www.econtalk.org/archives/2012/09/barofsky_on_bai.html\n",
      "http://www.econtalk.org/archives/2012/08/roger_noll_on_t.html\n",
      "http://www.econtalk.org/archives/2012/08/ohanian_on_the.html\n",
      "http://www.econtalk.org/archives/2012/08/frisby_on_tax_r.html\n",
      "http://www.econtalk.org/archives/2012/08/ober_on_the_anc.html\n",
      "http://www.econtalk.org/archives/2012/07/scott_atlas_on.html\n",
      "http://www.econtalk.org/archives/2012/07/brady_on_the_20.html\n",
      "http://www.econtalk.org/archives/2012/07/taubes_on_why_w.html\n",
      "http://www.econtalk.org/archives/2012/07/stiglitz_on_ine.html\n",
      "http://www.econtalk.org/archives/2012/07/zingales_on_cap.html\n",
      "http://www.econtalk.org/archives/2012/06/moretti_on_jobs.html\n",
      "http://www.econtalk.org/archives/2012/06/manzi_on_knowle.html\n",
      "http://www.econtalk.org/archives/2012/06/jonah_lehrer_on.html\n",
      "http://www.econtalk.org/archives/2012/06/yong_on_science.html\n",
      "http://www.econtalk.org/archives/2012/05/larry_white_on_1.html\n",
      "http://www.econtalk.org/archives/2012/05/coase_on_extern.html\n",
      "http://www.econtalk.org/archives/2012/05/owen_on_parenti.html\n",
      "http://www.econtalk.org/archives/2012/05/schmidtz_on_raw.html\n",
      "http://www.econtalk.org/archives/2012/04/taylor_on_rules.html\n",
      "http://www.econtalk.org/archives/2012/04/cowen_on_food.html\n",
      "http://www.econtalk.org/archives/2012/04/autor_on_disabi.html\n",
      "http://www.econtalk.org/archives/2012/04/burkhauser_on_t.html\n",
      "http://www.econtalk.org/archives/2012/04/eugene_white_on.html\n",
      "http://www.econtalk.org/archives/2012/03/boudreaux_on_pu.html\n",
      "http://www.econtalk.org/archives/2012/03/acemoglu_on_why.html\n",
      "http://www.econtalk.org/archives/2012/03/derman_on_theor.html\n",
      "http://www.econtalk.org/archives/2012/03/calomiris_on_ca.html\n",
      "http://www.econtalk.org/archives/2012/02/weinberger_on_t.html\n",
      "http://www.econtalk.org/archives/2012/02/adam_davidson_o.html\n",
      "http://www.econtalk.org/archives/2012/02/david_owen_on_t.html\n",
      "http://www.econtalk.org/archives/2012/02/william_black_o.html\n",
      "http://www.econtalk.org/archives/2012/01/fama_on_finance.html\n",
      "http://www.econtalk.org/archives/2012/01/david_rose_on_t.html\n",
      "http://www.econtalk.org/archives/2012/01/taleb_on_antifr.html\n",
      "http://www.econtalk.org/archives/2012/01/dean_baker_on_t.html\n",
      "http://www.econtalk.org/archives/2012/01/sumner_on_money.html\n",
      "http://www.econtalk.org/archives/2011/12/tabarrok_on_inn.html\n",
      "http://www.econtalk.org/archives/2011/12/klein_on_knowle.html\n",
      "http://www.econtalk.org/archives/2011/12/munger_on_profi.html\n",
      "http://www.econtalk.org/archives/2011/12/cowen_on_the_eu.html\n",
      "http://www.econtalk.org/archives/2011/11/simon_johnson_o.html\n",
      "http://www.econtalk.org/archives/2011/11/taubes_on_fat_s.html\n",
      "http://www.econtalk.org/archives/2011/11/baumeister_on_g.html\n",
      "http://www.econtalk.org/archives/2011/11/kaplan_on_the_i.html\n",
      "http://www.econtalk.org/archives/2011/10/avent_on_cities.html\n",
      "http://www.econtalk.org/archives/2011/10/ramey_on_stimul.html\n",
      "http://www.econtalk.org/archives/2011/10/wapshott_on_key.html\n",
      "http://www.econtalk.org/archives/2011/10/frank_rose_on_s.html\n",
      "http://www.econtalk.org/archives/2011/10/bruce_meyer_on.html\n",
      "http://www.econtalk.org/archives/2011/09/rosenberg_on_th.html\n",
      "http://www.econtalk.org/archives/2011/09/garett_jones_on_1.html\n",
      "http://www.econtalk.org/archives/2011/09/frank_on_compet.html\n",
      "http://www.econtalk.org/archives/2011/09/winston_on_lawy.html\n",
      "http://www.econtalk.org/archives/2011/08/hanushek_on_tea.html\n",
      "http://www.econtalk.org/archives/2011/08/odonohoe_on_pot.html\n",
      "http://www.econtalk.org/archives/2011/08/brady_on_the_el.html\n",
      "http://www.econtalk.org/archives/2011/08/satz_on_markets.html\n",
      "http://www.econtalk.org/archives/2011/08/admati_on_finan.html\n",
      "http://www.econtalk.org/archives/2011/07/hennessey_on_th.html\n",
      "http://www.econtalk.org/archives/2011/07/taylor_on_fisca.html\n",
      "http://www.econtalk.org/archives/2011/07/banerjee_on_pov.html\n",
      "http://www.econtalk.org/archives/2011/07/skeel_on_bankru.html\n",
      "http://www.econtalk.org/archives/2011/06/otteson_on_adam.html\n",
      "http://www.econtalk.org/archives/2011/06/munger_on_excha.html\n",
      "http://www.econtalk.org/archives/2011/06/buchholz_on_com.html\n",
      "http://www.econtalk.org/archives/2011/06/eichengreen_on.html\n",
      "http://www.econtalk.org/archives/2011/05/easterly_on_ben.html\n",
      "http://www.econtalk.org/archives/2011/05/harford_on_adap.html\n",
      "http://www.econtalk.org/archives/2011/05/byers_on_the_bl.html\n",
      "http://www.econtalk.org/archives/2011/05/caplan_on_paren.html\n",
      "http://www.econtalk.org/archives/2011/05/papola_on_the_k.html\n",
      "http://www.econtalk.org/archives/2011/04/rubinstein_on_g.html\n",
      "http://www.econtalk.org/archives/2011/04/munger_on_micro.html\n",
      "http://www.econtalk.org/archives/2011/04/rodrik_on_globa.html\n",
      "http://www.econtalk.org/archives/2011/04/andresen_on_bit.html\n",
      "http://www.econtalk.org/archives/2011/03/vincent_reinhar.html\n",
      "http://www.econtalk.org/archives/2011/03/coyle_on_the_ec.html\n",
      "http://www.econtalk.org/archives/2011/03/townsend_on_dev.html\n",
      "http://www.econtalk.org/archives/2011/03/dyson_on_heresy.html\n",
      "http://www.econtalk.org/archives/2011/02/george_will_on.html\n",
      "http://www.econtalk.org/archives/2011/02/acemoglu_on_ine.html\n",
      "http://www.econtalk.org/archives/2011/02/cowen_on_the_gr.html\n",
      "http://www.econtalk.org/archives/2011/02/kling_on_patter.html\n",
      "http://www.econtalk.org/archives/2011/01/deer_on_autism.html\n",
      "http://www.econtalk.org/archives/2011/01/fazzari_on_stim.html\n",
      "http://www.econtalk.org/archives/2011/01/boudreaux_on_mo.html\n",
      "http://www.econtalk.org/archives/2011/01/caldwell_on_hay.html\n",
      "http://www.econtalk.org/archives/2011/01/hanson_on_the_t.html\n",
      "http://www.econtalk.org/archives/2010/12/boettke_on_mise.html\n",
      "http://www.econtalk.org/archives/2010/12/nocera_on_the_c.html\n",
      "http://www.econtalk.org/archives/2010/12/abdallah_on_hai.html\n",
      "http://www.econtalk.org/archives/2010/12/selgin_on_the_f.html\n",
      "http://www.econtalk.org/archives/2010/11/kelly_on_techno.html\n",
      "http://www.econtalk.org/archives/2010/11/phillipson_on_a.html\n",
      "http://www.econtalk.org/archives/2010/11/robert_frank_on_1.html\n",
      "http://www.econtalk.org/archives/2010/11/don_boudreaux_o_4.html\n",
      "http://www.econtalk.org/archives/2010/11/quiggin_on_zomb.html\n",
      "http://www.econtalk.org/archives/2010/10/hazlett_on_appl.html\n",
      "http://www.econtalk.org/archives/2010/10/ridley_on_trade.html\n",
      "http://www.econtalk.org/archives/2010/10/irwin_on_the_gr.html\n",
      "http://www.econtalk.org/archives/2010/10/caplan_on_immig.html\n",
      "http://www.econtalk.org/archives/2010/09/greenberg_on_de.html\n",
      "http://www.econtalk.org/archives/2010/09/richard_epstein_1.html\n"
     ]
    },
    {
     "name": "stdout",
     "output_type": "stream",
     "text": [
      "http://www.econtalk.org/archives/2010/09/de_botton_on_th.html\n",
      "http://www.econtalk.org/archives/2010/09/kling_on_knowle.html\n",
      "http://www.econtalk.org/archives/2010/08/daniel_pink_on.html\n",
      "http://www.econtalk.org/archives/2010/08/munger_on_priva.html\n",
      "http://www.econtalk.org/archives/2010/08/kennedy_on_the.html\n",
      "http://www.econtalk.org/archives/2010/08/laughlin_on_the.html\n",
      "http://www.econtalk.org/archives/2010/08/brady_on_the_st.html\n",
      "http://www.econtalk.org/archives/2010/07/robert_service.html\n",
      "http://www.econtalk.org/archives/2010/07/taylor_on_the_s.html\n",
      "http://www.econtalk.org/archives/2010/07/gregory_on_poli.html\n",
      "http://www.econtalk.org/archives/2010/07/kling_on_the_un.html\n",
      "http://www.econtalk.org/archives/2010/06/caplan_on_hayek.html\n",
      "http://www.econtalk.org/archives/2010/06/sumner_on_growt.html\n",
      "http://www.econtalk.org/archives/2010/06/blakely_on_fash.html\n",
      "http://www.econtalk.org/archives/2010/06/okrent_on_prohi.html\n",
      "http://www.econtalk.org/archives/2010/05/menand_on_psych.html\n",
      "http://www.econtalk.org/archives/2010/05/belsky_on_journ.html\n",
      "http://www.econtalk.org/archives/2010/05/roberts_on_the_2.html\n",
      "http://www.econtalk.org/archives/2010/05/leamer_on_the_s.html\n",
      "http://www.econtalk.org/archives/2010/05/taleb_on_black_1.html\n",
      "http://www.econtalk.org/archives/2010/04/romer_on_charte.html\n",
      "http://www.econtalk.org/archives/2010/04/munger_on_love.html\n",
      "http://www.econtalk.org/archives/2010/04/ravitch_on_educ.html\n",
      "http://www.econtalk.org/archives/2010/04/benkler_on_net.html\n",
      "http://www.econtalk.org/archives/2010/03/de_vany_on_ster.html\n",
      "http://www.econtalk.org/archives/2010/03/meyer_on_the_mu.html\n",
      "http://www.econtalk.org/archives/2010/03/don_boudreaux_o_3.html\n",
      "http://www.econtalk.org/archives/2010/03/newman_on_low-w.html\n",
      "http://www.econtalk.org/archives/2010/03/ritholtz_on_bai.html\n",
      "http://www.econtalk.org/archives/2010/02/garett_jones_on.html\n",
      "http://www.econtalk.org/archives/2010/02/phelps_on_unemp.html\n",
      "http://www.econtalk.org/archives/2010/02/roberts_on_smit.html\n",
      "http://www.econtalk.org/archives/2010/02/larry_white_on.html\n",
      "http://www.econtalk.org/archives/2010/01/spence_on_growt.html\n",
      "http://www.econtalk.org/archives/2010/01/munger_on_many.html\n",
      "http://www.econtalk.org/archives/2010/01/belongia_on_the.html\n",
      "http://www.econtalk.org/archives/2010/01/rustici_on_smoo.html\n",
      "http://www.econtalk.org/archives/2009/12/winston_on_mark.html\n",
      "http://www.econtalk.org/archives/2009/12/hamilton_on_deb.html\n",
      "http://www.econtalk.org/archives/2009/12/kling_on_prospe.html\n",
      "http://www.econtalk.org/archives/2009/12/mcardle_on_debt.html\n",
      "http://www.econtalk.org/archives/2009/11/boettke_on_elin.html\n",
      "http://www.econtalk.org/archives/2009/11/reinhart_on_fin.html\n",
      "http://www.econtalk.org/archives/2009/11/posner_on_the_f.html\n",
      "http://www.econtalk.org/archives/2009/11/sumner_on_monet.html\n",
      "http://www.econtalk.org/archives/2009/11/heller_on_gridl.html\n",
      "http://www.econtalk.org/archives/2009/10/calomiris_on_th.html\n",
      "http://www.econtalk.org/archives/2009/10/munger_on_short.html\n",
      "http://www.econtalk.org/archives/2009/10/willingham_on_e.html\n",
      "http://www.econtalk.org/archives/2009/10/gary_stern_on_t.html\n",
      "http://www.econtalk.org/archives/2009/09/cohan_on_the_li.html\n",
      "http://www.econtalk.org/archives/2009/09/buchheit_on_goo.html\n",
      "http://www.econtalk.org/archives/2009/09/nye_on_the_grea.html\n",
      "http://www.econtalk.org/archives/2009/09/cowen_on_cultur.html\n",
      "http://www.econtalk.org/archives/2009/08/munger_on_cultu.html\n",
      "http://www.econtalk.org/archives/2009/08/brady_on_health.html\n",
      "http://www.econtalk.org/archives/2009/08/hitchens_on_orw.html\n",
      "http://www.econtalk.org/archives/2009/08/hanushek_on_tes.html\n",
      "http://www.econtalk.org/archives/2009/08/graham_on_start.html\n",
      "http://www.econtalk.org/archives/2009/07/peter_henry_on.html\n",
      "http://www.econtalk.org/archives/2009/07/john_taylor_on_1.html\n",
      "http://www.econtalk.org/archives/2009/07/justin_fox_on_t.html\n",
      "http://www.econtalk.org/archives/2009/07/collier_on_demo.html\n",
      "http://www.econtalk.org/archives/2009/06/helprin_on_copy.html\n",
      "http://www.econtalk.org/archives/2009/06/munger_on_franc.html\n",
      "http://www.econtalk.org/archives/2009/06/platt_on_workin.html\n",
      "http://www.econtalk.org/archives/2009/06/rebonato_on_ris.html\n",
      "http://www.econtalk.org/archives/2009/06/epstein_on_the.html\n",
      "http://www.econtalk.org/archives/2009/05/klein_on_the_th_5.html\n",
      "http://www.econtalk.org/archives/2009/05/leeson_on_pirat.html\n",
      "http://www.econtalk.org/archives/2009/05/boldrin_on_inte.html\n",
      "http://www.econtalk.org/archives/2009/05/klein_on_the_th_4.html\n",
      "http://www.econtalk.org/archives/2009/05/wolfe_on_libera.html\n",
      "http://www.econtalk.org/archives/2009/05/leamer_on_macro.html\n",
      "http://www.econtalk.org/archives/2009/04/klein_on_the_th_3.html\n",
      "http://www.econtalk.org/archives/2009/04/reis_on_keynes.html\n",
      "http://www.econtalk.org/archives/2009/04/klein_on_the_th_2.html\n",
      "http://www.econtalk.org/archives/2009/04/roberts_on_weal.html\n",
      "http://www.econtalk.org/archives/2009/04/klein_on_the_th_1.html\n",
      "http://www.econtalk.org/archives/2009/04/don_boudreaux_o_2.html\n",
      "http://www.econtalk.org/archives/2009/04/klein_on_the_th.html\n",
      "http://www.econtalk.org/archives/2009/03/brink_lindsey_o.html\n",
      "http://www.econtalk.org/archives/2009/03/taleb_on_the_fi.html\n",
      "http://www.econtalk.org/archives/2009/03/klein_on_truth.html\n",
      "http://www.econtalk.org/archives/2009/03/wales_on_wikipe.html\n",
      "http://www.econtalk.org/archives/2009/03/zywicki_on_debt.html\n",
      "http://www.econtalk.org/archives/2009/02/meltzer_on_infl.html\n",
      "http://www.econtalk.org/archives/2009/02/bhide_on_outsou.html\n",
      "http://www.econtalk.org/archives/2009/02/acemoglu_on_the.html\n",
      "http://www.econtalk.org/archives/2009/02/cochrane_on_the.html\n",
      "http://www.econtalk.org/archives/2009/01/roberts_and_han.html\n",
      "http://www.econtalk.org/archives/2009/01/eric_raymond_on.html\n",
      "http://www.econtalk.org/archives/2009/01/fazzari_on_keyn.html\n",
      "http://www.econtalk.org/archives/2009/01/boettke_on_the.html\n",
      "http://www.econtalk.org/archives/2008/12/srour_on_educat.html\n",
      "http://www.econtalk.org/archives/2008/12/higgs_on_the_gr.html\n",
      "http://www.econtalk.org/archives/2008/12/lipstein_on_hos.html\n",
      "http://www.econtalk.org/archives/2008/12/rauchway_on_the.html\n",
      "http://www.econtalk.org/archives/2008/11/hazlett_on_tele.html\n",
      "http://www.econtalk.org/archives/2008/11/selgin_on_free.html\n",
      "http://www.econtalk.org/archives/2008/11/kling_on_credit.html\n",
      "http://www.econtalk.org/archives/2008/11/richard_epstein.html\n",
      "http://www.econtalk.org/archives/2008/10/munger_on_middl.html\n",
      "http://www.econtalk.org/archives/2008/10/shirky_on_coase.html\n",
      "http://www.econtalk.org/archives/2008/10/patri_friedman.html\n",
      "http://www.econtalk.org/archives/2008/10/bernstein_on_in.html\n",
      "http://www.econtalk.org/archives/2008/09/kling_on_freddi.html\n",
      "http://www.econtalk.org/archives/2008/09/karol_boudreaux_1.html\n",
      "http://www.econtalk.org/archives/2008/09/shiller_on_hous.html\n",
      "http://www.econtalk.org/archives/2008/09/ellis_on_americ.html\n",
      "http://www.econtalk.org/archives/2008/09/rauch_on_the_vo.html\n",
      "http://www.econtalk.org/archives/2008/08/roberts_on_the_1.html\n",
      "http://www.econtalk.org/archives/2008/08/john_taylor_on.html\n",
      "http://www.econtalk.org/archives/2008/08/bueno_de_mesqui_1.html\n",
      "http://www.econtalk.org/archives/2008/08/barro_on_disast.html\n",
      "http://www.econtalk.org/archives/2008/07/varian_on_techn.html\n",
      "http://www.econtalk.org/archives/2008/07/rivers_on_polli.html\n",
      "http://www.econtalk.org/archives/2008/07/hanushek_on_edu_2.html\n",
      "http://www.econtalk.org/archives/2008/07/munger_on_the_p.html\n",
      "http://www.econtalk.org/archives/2008/06/kling_on_hospit.html\n",
      "http://www.econtalk.org/archives/2008/06/mckenzie_on_pri.html\n",
      "http://www.econtalk.org/archives/2008/06/don_boudreaux_o_1.html\n",
      "http://www.econtalk.org/archives/2008/06/cole_on_the_mar.html\n",
      "http://www.econtalk.org/archives/2008/06/gene_epstein_on.html\n",
      "http://www.econtalk.org/archives/2008/05/hanson_on_signa.html\n",
      "http://www.econtalk.org/archives/2008/05/meltzer_on_the.html\n",
      "http://www.econtalk.org/archives/2008/05/chris_anderson_1.html\n",
      "http://www.econtalk.org/archives/2008/05/nye_on_wine_war.html\n",
      "http://www.econtalk.org/archives/2008/04/bernstein_on_th.html\n",
      "http://www.econtalk.org/archives/2008/04/roberts_on_the.html\n",
      "http://www.econtalk.org/archives/2008/04/coyle_on_the_so.html\n",
      "http://www.econtalk.org/archives/2008/04/coyne_on_export.html\n"
     ]
    },
    {
     "name": "stdout",
     "output_type": "stream",
     "text": [
      "http://www.econtalk.org/archives/2008/03/mccloskey_on_ca.html\n",
      "http://www.econtalk.org/archives/2008/03/munger_on_subsi.html\n",
      "http://www.econtalk.org/archives/2008/03/cowen_on_moneta.html\n",
      "http://www.econtalk.org/archives/2008/03/marglin_on_mark.html\n",
      "http://www.econtalk.org/archives/2008/03/vernon_smith_on_1.html\n",
      "http://www.econtalk.org/archives/2008/02/sowell_on_econo.html\n",
      "http://www.econtalk.org/archives/2008/02/brook_on_vermee.html\n",
      "http://www.econtalk.org/archives/2008/02/easterly_on_gro.html\n",
      "http://www.econtalk.org/archives/2008/02/dan_klein_on_co.html\n",
      "http://www.econtalk.org/archives/2008/01/collier_on_the.html\n",
      "http://www.econtalk.org/archives/2008/01/don_boudreaux_o.html\n",
      "http://www.econtalk.org/archives/2008/01/munger_on_the_n.html\n",
      "http://www.econtalk.org/archives/2008/01/edward_castrono.html\n",
      "http://www.econtalk.org/archives/2007/12/duggan_on_strat_1.html\n",
      "http://www.econtalk.org/archives/2007/12/karol_boudreaux.html\n",
      "http://www.econtalk.org/archives/2007/12/boettke_on_aust.html\n",
      "http://www.econtalk.org/archives/2007/12/munger_on_fair.html\n",
      "http://www.econtalk.org/archives/2007/11/botkin_on_natur.html\n",
      "http://www.econtalk.org/archives/2007/11/sunstein_on_wor_1.html\n",
      "http://www.econtalk.org/archives/2007/11/waldfogel_on_ma.html\n",
      "http://www.econtalk.org/archives/2007/11/arnold_kling_on.html\n",
      "http://www.econtalk.org/archives/2007/10/yandle_on_the_t.html\n",
      "http://www.econtalk.org/archives/2007/10/ayres_on_super.html\n",
      "http://www.econtalk.org/archives/2007/10/robert_frank_on.html\n",
      "http://www.econtalk.org/archives/2007/10/mccraw_on_schum.html\n",
      "http://www.econtalk.org/archives/2007/10/boudreaux_on_ma.html\n",
      "http://www.econtalk.org/archives/2007/09/grab_bag_munger.html\n",
      "http://www.econtalk.org/archives/2007/09/epstein_on_prop.html\n",
      "http://www.econtalk.org/archives/2007/08/romer_on_growth.html\n",
      "http://www.econtalk.org/archives/2007/08/gordon_on_ants.html\n",
      "http://www.econtalk.org/archives/2007/08/hanushek_on_edu_1.html\n",
      "http://www.econtalk.org/archives/2007/07/bueno_de_mesqui.html\n",
      "http://www.econtalk.org/archives/2007/07/ticket_prices_a.html\n",
      "http://www.econtalk.org/archives/2007/07/leamer_on_outso.html\n",
      "http://www.econtalk.org/archives/2007/07/munger_on_recyc.html\n",
      "http://www.econtalk.org/archives/2007/06/weinberger_on_e.html\n",
      "http://www.econtalk.org/archives/2007/06/dan_pink_on_how.html\n",
      "http://www.econtalk.org/archives/2007/05/vernon_smith_on.html\n",
      "http://www.econtalk.org/archives/2007/05/sunstein_on_inf.html\n",
      "http://www.econtalk.org/archives/2007/05/allison_on_stra.html\n",
      "http://www.econtalk.org/archives/2007/04/taleb_on_black.html\n",
      "http://www.econtalk.org/archives/2007/04/rabushka_on_the.html\n",
      "http://www.econtalk.org/archives/2007/04/boudreaux_on_th.html\n",
      "http://www.econtalk.org/archives/2007/04/mike_munger_on.html\n",
      "http://www.econtalk.org/archives/2007/03/kevin_kelly_on.html\n",
      "http://www.econtalk.org/archives/2007/03/david_leonhardt_1.html\n",
      "http://www.econtalk.org/archives/2007/03/cowen_on_libert_1.html\n",
      "http://www.econtalk.org/archives/2007/03/easterbrook_on.html\n",
      "http://www.econtalk.org/archives/2007/02/viviana_zelizer.html\n",
      "http://www.econtalk.org/archives/2007/02/richard_epstein.html\n",
      "http://www.econtalk.org/archives/2007/02/bruce_bueno_de.html\n",
      "http://www.econtalk.org/archives/2007/02/lucas_on_growth.html\n",
      "http://www.econtalk.org/archives/2007/01/michael_lewis_o_1.html\n",
      "http://www.econtalk.org/archives/2007/01/greg_mankiw_on.html\n",
      "http://www.econtalk.org/archives/2007/01/bruce_yandle_on.html\n",
      "http://www.econtalk.org/archives/2007/01/munger_on_price_1.html\n",
      "http://www.econtalk.org/archives/2006/12/boettke_on_katr.html\n",
      "http://www.econtalk.org/archives/2006/12/boudreaux_on_la.html\n",
      "http://www.econtalk.org/archives/2006/12/caplan_on_discr.html\n",
      "http://www.econtalk.org/archives/2006/11/postrel_on_styl.html\n",
      "http://www.econtalk.org/archives/2006/11/engerman_on_sla.html\n",
      "http://www.econtalk.org/archives/2006/11/peltzman_on_reg.html\n",
      "http://www.econtalk.org/archives/2006/11/richard_thaler_1.html\n",
      "http://www.econtalk.org/archives/2006/10/clint_bolick_de.html\n",
      "http://www.econtalk.org/archives/2006/10/the_economics_o_8.html\n",
      "http://www.econtalk.org/archives/2006/10/walter_williams.html\n"
     ]
    }
   ],
   "source": [
    "from bs4 import BeautifulSoup\n",
    "import requests\n",
    "import urllib.request as urllib2\n",
    "import re\n",
    "#import dateparser\n",
    "import datetime as dt\n",
    "import json\n",
    "from collections import defaultdict\n",
    "\n",
    "\n",
    "counter = 0\n",
    "\n",
    "with open('econtalk.json') as json_data:\n",
    "    episodes = json.load(json_data)\n",
    "    \n",
    "for date in episodes:\n",
    "    for title in episodes[date]:\n",
    "        print(episodes[date][title])\n",
    "        counter += 1\n",
    "        paragraph = 0\n",
    "        file_1 = open('econtalk_{}_part1.txt'.format(counter),'w')\n",
    "        file_2 = open('econtalk_{}_part2.txt'.format(counter),'w')\n",
    "        page = urllib2.urlopen(episodes[date][title]).read()\n",
    "        soup = BeautifulSoup(page,'html.parser')\n",
    "        content = soup.find(\"tbody\", attrs=dict(id=\"unique\"))\n",
    "        for trcontent in content.find_all(\"tr\"):\n",
    "            paragraph += 1\n",
    "            if (paragraph<=5):\n",
    "                file_1.write(trcontent.text.strip())\n",
    "            else:\n",
    "                file_2.write(trcontent.text.strip())    \n",
    "        file_1.close()\n",
    "        file_2.close()"
   ]
  },
  {
   "cell_type": "code",
   "execution_count": null,
   "metadata": {
    "collapsed": true
   },
   "outputs": [],
   "source": []
  },
  {
   "cell_type": "code",
   "execution_count": null,
   "metadata": {
    "collapsed": true
   },
   "outputs": [],
   "source": []
  },
  {
   "cell_type": "code",
   "execution_count": null,
   "metadata": {
    "collapsed": true
   },
   "outputs": [],
   "source": []
  },
  {
   "cell_type": "code",
   "execution_count": null,
   "metadata": {
    "collapsed": true
   },
   "outputs": [],
   "source": []
  },
  {
   "cell_type": "code",
   "execution_count": null,
   "metadata": {
    "collapsed": true
   },
   "outputs": [],
   "source": []
  },
  {
   "cell_type": "code",
   "execution_count": null,
   "metadata": {
    "collapsed": true
   },
   "outputs": [],
   "source": []
  },
  {
   "cell_type": "code",
   "execution_count": null,
   "metadata": {
    "collapsed": true
   },
   "outputs": [],
   "source": []
  },
  {
   "cell_type": "code",
   "execution_count": null,
   "metadata": {
    "collapsed": true
   },
   "outputs": [],
   "source": []
  },
  {
   "cell_type": "code",
   "execution_count": null,
   "metadata": {
    "collapsed": true
   },
   "outputs": [],
   "source": []
  },
  {
   "cell_type": "code",
   "execution_count": null,
   "metadata": {
    "collapsed": true
   },
   "outputs": [],
   "source": []
  },
  {
   "cell_type": "code",
   "execution_count": null,
   "metadata": {
    "collapsed": true
   },
   "outputs": [],
   "source": []
  },
  {
   "cell_type": "code",
   "execution_count": null,
   "metadata": {
    "collapsed": true
   },
   "outputs": [],
   "source": []
  },
  {
   "cell_type": "code",
   "execution_count": null,
   "metadata": {
    "collapsed": true
   },
   "outputs": [],
   "source": []
  },
  {
   "cell_type": "code",
   "execution_count": null,
   "metadata": {
    "collapsed": true
   },
   "outputs": [],
   "source": []
  },
  {
   "cell_type": "code",
   "execution_count": null,
   "metadata": {
    "collapsed": true
   },
   "outputs": [],
   "source": []
  },
  {
   "cell_type": "code",
   "execution_count": null,
   "metadata": {
    "collapsed": true
   },
   "outputs": [],
   "source": []
  },
  {
   "cell_type": "code",
   "execution_count": null,
   "metadata": {
    "collapsed": true
   },
   "outputs": [],
   "source": []
  },
  {
   "cell_type": "code",
   "execution_count": null,
   "metadata": {
    "collapsed": true
   },
   "outputs": [],
   "source": []
  },
  {
   "cell_type": "code",
   "execution_count": null,
   "metadata": {
    "collapsed": true
   },
   "outputs": [],
   "source": []
  },
  {
   "cell_type": "code",
   "execution_count": null,
   "metadata": {
    "collapsed": true
   },
   "outputs": [],
   "source": []
  },
  {
   "cell_type": "code",
   "execution_count": null,
   "metadata": {
    "collapsed": true
   },
   "outputs": [],
   "source": []
  },
  {
   "cell_type": "code",
   "execution_count": null,
   "metadata": {
    "collapsed": true
   },
   "outputs": [],
   "source": []
  },
  {
   "cell_type": "code",
   "execution_count": null,
   "metadata": {
    "collapsed": true
   },
   "outputs": [],
   "source": []
  },
  {
   "cell_type": "code",
   "execution_count": null,
   "metadata": {
    "collapsed": true
   },
   "outputs": [],
   "source": []
  },
  {
   "cell_type": "code",
   "execution_count": null,
   "metadata": {
    "collapsed": true
   },
   "outputs": [],
   "source": []
  },
  {
   "cell_type": "code",
   "execution_count": null,
   "metadata": {
    "collapsed": true
   },
   "outputs": [],
   "source": []
  },
  {
   "cell_type": "code",
   "execution_count": null,
   "metadata": {
    "collapsed": true
   },
   "outputs": [],
   "source": []
  },
  {
   "cell_type": "code",
   "execution_count": null,
   "metadata": {
    "collapsed": true
   },
   "outputs": [],
   "source": []
  },
  {
   "cell_type": "code",
   "execution_count": null,
   "metadata": {
    "collapsed": true
   },
   "outputs": [],
   "source": []
  },
  {
   "cell_type": "code",
   "execution_count": null,
   "metadata": {
    "collapsed": true
   },
   "outputs": [],
   "source": []
  },
  {
   "cell_type": "code",
   "execution_count": null,
   "metadata": {
    "collapsed": true
   },
   "outputs": [],
   "source": []
  },
  {
   "cell_type": "code",
   "execution_count": null,
   "metadata": {
    "collapsed": true
   },
   "outputs": [],
   "source": []
  },
  {
   "cell_type": "code",
   "execution_count": null,
   "metadata": {
    "collapsed": true
   },
   "outputs": [],
   "source": []
  },
  {
   "cell_type": "code",
   "execution_count": null,
   "metadata": {
    "collapsed": true
   },
   "outputs": [],
   "source": []
  },
  {
   "cell_type": "code",
   "execution_count": null,
   "metadata": {
    "collapsed": true
   },
   "outputs": [],
   "source": []
  },
  {
   "cell_type": "code",
   "execution_count": null,
   "metadata": {
    "collapsed": true
   },
   "outputs": [],
   "source": []
  },
  {
   "cell_type": "code",
   "execution_count": null,
   "metadata": {
    "collapsed": true
   },
   "outputs": [],
   "source": []
  },
  {
   "cell_type": "code",
   "execution_count": null,
   "metadata": {
    "collapsed": true
   },
   "outputs": [],
   "source": []
  },
  {
   "cell_type": "code",
   "execution_count": null,
   "metadata": {
    "collapsed": true
   },
   "outputs": [],
   "source": []
  },
  {
   "cell_type": "code",
   "execution_count": null,
   "metadata": {
    "collapsed": true
   },
   "outputs": [],
   "source": []
  },
  {
   "cell_type": "code",
   "execution_count": null,
   "metadata": {
    "collapsed": true
   },
   "outputs": [],
   "source": []
  },
  {
   "cell_type": "code",
   "execution_count": null,
   "metadata": {
    "collapsed": true
   },
   "outputs": [],
   "source": []
  },
  {
   "cell_type": "code",
   "execution_count": null,
   "metadata": {
    "collapsed": true
   },
   "outputs": [],
   "source": []
  },
  {
   "cell_type": "code",
   "execution_count": null,
   "metadata": {
    "collapsed": true
   },
   "outputs": [],
   "source": []
  },
  {
   "cell_type": "code",
   "execution_count": null,
   "metadata": {
    "collapsed": true
   },
   "outputs": [],
   "source": []
  },
  {
   "cell_type": "code",
   "execution_count": null,
   "metadata": {
    "collapsed": true
   },
   "outputs": [],
   "source": []
  },
  {
   "cell_type": "code",
   "execution_count": null,
   "metadata": {
    "collapsed": true
   },
   "outputs": [],
   "source": []
  },
  {
   "cell_type": "code",
   "execution_count": null,
   "metadata": {
    "collapsed": true
   },
   "outputs": [],
   "source": []
  },
  {
   "cell_type": "code",
   "execution_count": null,
   "metadata": {
    "collapsed": true
   },
   "outputs": [],
   "source": []
  },
  {
   "cell_type": "code",
   "execution_count": null,
   "metadata": {
    "collapsed": true
   },
   "outputs": [],
   "source": []
  },
  {
   "cell_type": "code",
   "execution_count": null,
   "metadata": {
    "collapsed": true
   },
   "outputs": [],
   "source": []
  },
  {
   "cell_type": "code",
   "execution_count": null,
   "metadata": {
    "collapsed": true
   },
   "outputs": [],
   "source": []
  },
  {
   "cell_type": "code",
   "execution_count": null,
   "metadata": {
    "collapsed": true
   },
   "outputs": [],
   "source": []
  },
  {
   "cell_type": "code",
   "execution_count": null,
   "metadata": {
    "collapsed": true
   },
   "outputs": [],
   "source": []
  },
  {
   "cell_type": "code",
   "execution_count": null,
   "metadata": {
    "collapsed": true
   },
   "outputs": [],
   "source": []
  },
  {
   "cell_type": "code",
   "execution_count": null,
   "metadata": {
    "collapsed": true
   },
   "outputs": [],
   "source": []
  },
  {
   "cell_type": "code",
   "execution_count": null,
   "metadata": {
    "collapsed": true
   },
   "outputs": [],
   "source": []
  },
  {
   "cell_type": "code",
   "execution_count": null,
   "metadata": {
    "collapsed": true
   },
   "outputs": [],
   "source": []
  },
  {
   "cell_type": "code",
   "execution_count": null,
   "metadata": {
    "collapsed": true
   },
   "outputs": [],
   "source": []
  },
  {
   "cell_type": "code",
   "execution_count": null,
   "metadata": {
    "collapsed": true
   },
   "outputs": [],
   "source": []
  },
  {
   "cell_type": "code",
   "execution_count": null,
   "metadata": {
    "collapsed": true
   },
   "outputs": [],
   "source": []
  },
  {
   "cell_type": "code",
   "execution_count": null,
   "metadata": {
    "collapsed": true
   },
   "outputs": [],
   "source": []
  },
  {
   "cell_type": "code",
   "execution_count": null,
   "metadata": {
    "collapsed": true
   },
   "outputs": [],
   "source": []
  },
  {
   "cell_type": "code",
   "execution_count": null,
   "metadata": {
    "collapsed": true
   },
   "outputs": [],
   "source": []
  },
  {
   "cell_type": "code",
   "execution_count": null,
   "metadata": {
    "collapsed": true
   },
   "outputs": [],
   "source": []
  },
  {
   "cell_type": "code",
   "execution_count": null,
   "metadata": {
    "collapsed": true
   },
   "outputs": [],
   "source": []
  },
  {
   "cell_type": "code",
   "execution_count": null,
   "metadata": {
    "collapsed": true
   },
   "outputs": [],
   "source": []
  },
  {
   "cell_type": "code",
   "execution_count": null,
   "metadata": {
    "collapsed": true
   },
   "outputs": [],
   "source": []
  },
  {
   "cell_type": "code",
   "execution_count": null,
   "metadata": {
    "collapsed": true
   },
   "outputs": [],
   "source": []
  },
  {
   "cell_type": "code",
   "execution_count": null,
   "metadata": {
    "collapsed": true
   },
   "outputs": [],
   "source": []
  },
  {
   "cell_type": "code",
   "execution_count": null,
   "metadata": {
    "collapsed": true
   },
   "outputs": [],
   "source": []
  },
  {
   "cell_type": "code",
   "execution_count": null,
   "metadata": {
    "collapsed": true
   },
   "outputs": [],
   "source": []
  },
  {
   "cell_type": "code",
   "execution_count": null,
   "metadata": {
    "collapsed": true
   },
   "outputs": [],
   "source": []
  },
  {
   "cell_type": "code",
   "execution_count": null,
   "metadata": {
    "collapsed": true
   },
   "outputs": [],
   "source": []
  },
  {
   "cell_type": "code",
   "execution_count": null,
   "metadata": {
    "collapsed": true
   },
   "outputs": [],
   "source": []
  },
  {
   "cell_type": "code",
   "execution_count": null,
   "metadata": {
    "collapsed": true
   },
   "outputs": [],
   "source": []
  },
  {
   "cell_type": "code",
   "execution_count": null,
   "metadata": {
    "collapsed": true
   },
   "outputs": [],
   "source": []
  },
  {
   "cell_type": "code",
   "execution_count": null,
   "metadata": {
    "collapsed": true
   },
   "outputs": [],
   "source": []
  },
  {
   "cell_type": "code",
   "execution_count": null,
   "metadata": {
    "collapsed": true
   },
   "outputs": [],
   "source": []
  },
  {
   "cell_type": "code",
   "execution_count": null,
   "metadata": {
    "collapsed": true
   },
   "outputs": [],
   "source": []
  },
  {
   "cell_type": "code",
   "execution_count": null,
   "metadata": {
    "collapsed": true
   },
   "outputs": [],
   "source": []
  },
  {
   "cell_type": "code",
   "execution_count": null,
   "metadata": {
    "collapsed": true
   },
   "outputs": [],
   "source": []
  },
  {
   "cell_type": "code",
   "execution_count": null,
   "metadata": {
    "collapsed": true
   },
   "outputs": [],
   "source": []
  },
  {
   "cell_type": "code",
   "execution_count": null,
   "metadata": {
    "collapsed": true
   },
   "outputs": [],
   "source": []
  },
  {
   "cell_type": "code",
   "execution_count": null,
   "metadata": {
    "collapsed": true
   },
   "outputs": [],
   "source": []
  },
  {
   "cell_type": "code",
   "execution_count": null,
   "metadata": {
    "collapsed": true
   },
   "outputs": [],
   "source": []
  },
  {
   "cell_type": "code",
   "execution_count": null,
   "metadata": {
    "collapsed": true
   },
   "outputs": [],
   "source": []
  },
  {
   "cell_type": "code",
   "execution_count": null,
   "metadata": {
    "collapsed": true
   },
   "outputs": [],
   "source": []
  },
  {
   "cell_type": "code",
   "execution_count": null,
   "metadata": {
    "collapsed": true
   },
   "outputs": [],
   "source": []
  },
  {
   "cell_type": "code",
   "execution_count": null,
   "metadata": {
    "collapsed": true
   },
   "outputs": [],
   "source": []
  },
  {
   "cell_type": "code",
   "execution_count": null,
   "metadata": {
    "collapsed": true
   },
   "outputs": [],
   "source": []
  },
  {
   "cell_type": "code",
   "execution_count": null,
   "metadata": {
    "collapsed": true
   },
   "outputs": [],
   "source": []
  },
  {
   "cell_type": "code",
   "execution_count": null,
   "metadata": {
    "collapsed": true
   },
   "outputs": [],
   "source": []
  },
  {
   "cell_type": "code",
   "execution_count": null,
   "metadata": {
    "collapsed": true
   },
   "outputs": [],
   "source": []
  },
  {
   "cell_type": "code",
   "execution_count": null,
   "metadata": {
    "collapsed": true
   },
   "outputs": [],
   "source": []
  },
  {
   "cell_type": "code",
   "execution_count": null,
   "metadata": {
    "collapsed": true
   },
   "outputs": [],
   "source": []
  },
  {
   "cell_type": "code",
   "execution_count": null,
   "metadata": {
    "collapsed": true
   },
   "outputs": [],
   "source": []
  },
  {
   "cell_type": "code",
   "execution_count": null,
   "metadata": {
    "collapsed": true
   },
   "outputs": [],
   "source": []
  },
  {
   "cell_type": "code",
   "execution_count": null,
   "metadata": {
    "collapsed": true
   },
   "outputs": [],
   "source": []
  },
  {
   "cell_type": "code",
   "execution_count": null,
   "metadata": {
    "collapsed": true
   },
   "outputs": [],
   "source": []
  },
  {
   "cell_type": "code",
   "execution_count": null,
   "metadata": {
    "collapsed": true
   },
   "outputs": [],
   "source": []
  },
  {
   "cell_type": "code",
   "execution_count": null,
   "metadata": {
    "collapsed": true
   },
   "outputs": [],
   "source": []
  },
  {
   "cell_type": "code",
   "execution_count": null,
   "metadata": {
    "collapsed": true
   },
   "outputs": [],
   "source": []
  },
  {
   "cell_type": "code",
   "execution_count": null,
   "metadata": {
    "collapsed": true
   },
   "outputs": [],
   "source": []
  },
  {
   "cell_type": "code",
   "execution_count": null,
   "metadata": {
    "collapsed": true
   },
   "outputs": [],
   "source": []
  },
  {
   "cell_type": "code",
   "execution_count": null,
   "metadata": {
    "collapsed": true
   },
   "outputs": [],
   "source": []
  },
  {
   "cell_type": "code",
   "execution_count": null,
   "metadata": {
    "collapsed": true
   },
   "outputs": [],
   "source": []
  },
  {
   "cell_type": "code",
   "execution_count": null,
   "metadata": {
    "collapsed": true
   },
   "outputs": [],
   "source": []
  },
  {
   "cell_type": "code",
   "execution_count": null,
   "metadata": {
    "collapsed": true
   },
   "outputs": [],
   "source": []
  },
  {
   "cell_type": "code",
   "execution_count": null,
   "metadata": {
    "collapsed": true
   },
   "outputs": [],
   "source": []
  },
  {
   "cell_type": "code",
   "execution_count": null,
   "metadata": {
    "collapsed": true
   },
   "outputs": [],
   "source": []
  },
  {
   "cell_type": "code",
   "execution_count": null,
   "metadata": {
    "collapsed": true
   },
   "outputs": [],
   "source": []
  },
  {
   "cell_type": "code",
   "execution_count": null,
   "metadata": {
    "collapsed": true
   },
   "outputs": [],
   "source": []
  },
  {
   "cell_type": "code",
   "execution_count": null,
   "metadata": {
    "collapsed": true
   },
   "outputs": [],
   "source": []
  },
  {
   "cell_type": "code",
   "execution_count": null,
   "metadata": {
    "collapsed": true
   },
   "outputs": [],
   "source": []
  },
  {
   "cell_type": "code",
   "execution_count": null,
   "metadata": {
    "collapsed": true
   },
   "outputs": [],
   "source": []
  },
  {
   "cell_type": "code",
   "execution_count": null,
   "metadata": {
    "collapsed": true
   },
   "outputs": [],
   "source": []
  },
  {
   "cell_type": "code",
   "execution_count": null,
   "metadata": {
    "collapsed": true
   },
   "outputs": [],
   "source": []
  },
  {
   "cell_type": "code",
   "execution_count": null,
   "metadata": {
    "collapsed": true
   },
   "outputs": [],
   "source": []
  },
  {
   "cell_type": "code",
   "execution_count": null,
   "metadata": {
    "collapsed": true
   },
   "outputs": [],
   "source": []
  },
  {
   "cell_type": "code",
   "execution_count": null,
   "metadata": {
    "collapsed": true
   },
   "outputs": [],
   "source": []
  },
  {
   "cell_type": "code",
   "execution_count": null,
   "metadata": {
    "collapsed": true
   },
   "outputs": [],
   "source": []
  },
  {
   "cell_type": "code",
   "execution_count": null,
   "metadata": {
    "collapsed": true
   },
   "outputs": [],
   "source": []
  },
  {
   "cell_type": "code",
   "execution_count": null,
   "metadata": {
    "collapsed": true
   },
   "outputs": [],
   "source": [
    "    "
   ]
  },
  {
   "cell_type": "code",
   "execution_count": null,
   "metadata": {
    "collapsed": true
   },
   "outputs": [],
   "source": []
  },
  {
   "cell_type": "code",
   "execution_count": null,
   "metadata": {
    "collapsed": true
   },
   "outputs": [],
   "source": []
  },
  {
   "cell_type": "code",
   "execution_count": null,
   "metadata": {
    "collapsed": true
   },
   "outputs": [],
   "source": []
  },
  {
   "cell_type": "code",
   "execution_count": null,
   "metadata": {
    "collapsed": true
   },
   "outputs": [],
   "source": []
  },
  {
   "cell_type": "code",
   "execution_count": null,
   "metadata": {
    "collapsed": true
   },
   "outputs": [],
   "source": [
    "urllib"
   ]
  },
  {
   "cell_type": "code",
   "execution_count": null,
   "metadata": {
    "collapsed": true
   },
   "outputs": [],
   "source": []
  },
  {
   "cell_type": "code",
   "execution_count": null,
   "metadata": {
    "collapsed": true
   },
   "outputs": [],
   "source": []
  },
  {
   "cell_type": "code",
   "execution_count": null,
   "metadata": {
    "collapsed": true
   },
   "outputs": [],
   "source": []
  },
  {
   "cell_type": "code",
   "execution_count": null,
   "metadata": {
    "collapsed": true
   },
   "outputs": [],
   "source": []
  },
  {
   "cell_type": "code",
   "execution_count": null,
   "metadata": {
    "collapsed": true
   },
   "outputs": [],
   "source": []
  },
  {
   "cell_type": "code",
   "execution_count": null,
   "metadata": {
    "collapsed": true
   },
   "outputs": [],
   "source": []
  },
  {
   "cell_type": "code",
   "execution_count": null,
   "metadata": {
    "collapsed": true
   },
   "outputs": [],
   "source": []
  },
  {
   "cell_type": "code",
   "execution_count": null,
   "metadata": {
    "collapsed": true
   },
   "outputs": [],
   "source": []
  },
  {
   "cell_type": "code",
   "execution_count": null,
   "metadata": {
    "collapsed": true
   },
   "outputs": [],
   "source": []
  },
  {
   "cell_type": "code",
   "execution_count": null,
   "metadata": {
    "collapsed": true
   },
   "outputs": [],
   "source": []
  },
  {
   "cell_type": "code",
   "execution_count": null,
   "metadata": {
    "collapsed": true
   },
   "outputs": [],
   "source": []
  },
  {
   "cell_type": "code",
   "execution_count": null,
   "metadata": {
    "collapsed": true
   },
   "outputs": [],
   "source": []
  },
  {
   "cell_type": "code",
   "execution_count": null,
   "metadata": {
    "collapsed": true
   },
   "outputs": [],
   "source": []
  },
  {
   "cell_type": "code",
   "execution_count": null,
   "metadata": {
    "collapsed": true
   },
   "outputs": [],
   "source": []
  },
  {
   "cell_type": "code",
   "execution_count": null,
   "metadata": {
    "collapsed": true
   },
   "outputs": [],
   "source": []
  }
 ],
 "metadata": {
  "kernelspec": {
   "display_name": "Python 3",
   "language": "python",
   "name": "python3"
  },
  "language_info": {
   "codemirror_mode": {
    "name": "ipython",
    "version": 3
   },
   "file_extension": ".py",
   "mimetype": "text/x-python",
   "name": "python",
   "nbconvert_exporter": "python",
   "pygments_lexer": "ipython3",
   "version": "3.6.2"
  }
 },
 "nbformat": 4,
 "nbformat_minor": 2
}
