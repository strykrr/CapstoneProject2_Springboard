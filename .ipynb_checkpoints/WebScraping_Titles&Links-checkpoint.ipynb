{
 "cells": [
  {
   "cell_type": "code",
   "execution_count": 8,
   "metadata": {},
   "outputs": [
    {
     "name": "stderr",
     "output_type": "stream",
     "text": [
      "C:\\Users\\CHAITSU\\Anaconda3\\lib\\site-packages\\bs4\\__init__.py:181: UserWarning: No parser was explicitly specified, so I'm using the best available HTML parser for this system (\"lxml\"). This usually isn't a problem, but if you run this code on another system, or in a different virtual environment, it may use a different parser and behave differently.\n",
      "\n",
      "The code that caused this warning is on line 193 of the file C:\\Users\\CHAITSU\\Anaconda3\\lib\\runpy.py. To get rid of this warning, change code that looks like this:\n",
      "\n",
      " BeautifulSoup(YOUR_MARKUP})\n",
      "\n",
      "to this:\n",
      "\n",
      " BeautifulSoup(YOUR_MARKUP, \"lxml\")\n",
      "\n",
      "  markup_type=markup_type))\n"
     ]
    }
   ],
   "source": [
    "from bs4 import BeautifulSoup\n",
    "import requests\n",
    "import dateparser\n",
    "import datetime as dt\n",
    "import json\n",
    "from collections import defaultdict\n",
    "\n",
    "page = requests.get('http://www.econtalk.org/archives.html')\n",
    "\n",
    "soup = BeautifulSoup(page.text)\n",
    "\n",
    "table = soup.find(\"table\", attrs=dict(border=\"1\", \n",
    "                        cellspacing=\"2\",\n",
    "                        cellpadding=\"2\",\n",
    "                        width=\"100%\"))\n",
    "\n",
    "headings = [th.get_text() for th in table.find(\"tr\").find_all(\"th\")]\n",
    "\n",
    "data = defaultdict(lambda: defaultdict(dict))\n",
    "for row in table.find_all(\"tr\")[1:]:\n",
    "    date, episode, _ = row.find_all(\"td\")\n",
    "    links = episode.find_all(\"a\")\n",
    "    if len(links):\n",
    "        date = dateparser.parse(date.text)\n",
    "        data[int(date.month)][int(date.day)][int(date.year)] = (links[0].text, links[0].attrs['href'])\n",
    "\n",
    "with open(\"econtalk.json\", 'w') as f:\n",
    "    json.dump(data, f)"
   ]
  }
 ],
 "metadata": {
  "kernelspec": {
   "display_name": "Python 3",
   "language": "python",
   "name": "python3"
  },
  "language_info": {
   "codemirror_mode": {
    "name": "ipython",
    "version": 3
   },
   "file_extension": ".py",
   "mimetype": "text/x-python",
   "name": "python",
   "nbconvert_exporter": "python",
   "pygments_lexer": "ipython3",
   "version": "3.6.2"
  }
 },
 "nbformat": 4,
 "nbformat_minor": 2
}
