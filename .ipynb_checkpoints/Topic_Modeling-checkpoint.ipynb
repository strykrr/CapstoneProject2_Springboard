{
 "cells": [
  {
   "cell_type": "code",
   "execution_count": 6,
   "metadata": {},
   "outputs": [
    {
     "name": "stdout",
     "output_type": "stream",
     "text": [
      "[nltk_data] Downloading package wordnet to\n",
      "[nltk_data]     C:\\Users\\CHAITSU\\AppData\\Roaming\\nltk_data...\n",
      "[nltk_data]   Package wordnet is already up-to-date!\n"
     ]
    }
   ],
   "source": [
    "import gensim\n",
    "from gensim.utils import simple_preprocess\n",
    "from gensim.parsing.preprocessing import STOPWORDS\n",
    "from nltk.stem import WordNetLemmatizer, SnowballStemmer\n",
    "from nltk.stem.porter import  *\n",
    "import numpy as np\n",
    "import pandas as pd\n",
    "from pprint import pprint\n",
    "np.random.seed(2018)\n",
    "\n",
    "import nltk\n",
    "nltk.download('wordnet')\n",
    "\n",
    "from gensim.models import CoherenceModel\n",
    "from gensim.models.wrappers.ldamallet import malletmodel2ldamodel\n",
    "\n",
    "# spacy for lemmatization\n",
    "#import spacy\n",
    "\n",
    "# Plotting tools\n",
    "import pyLDAvis\n",
    "import pyLDAvis.sklearn \n",
    "#import pyLDAvis.gensim\n",
    "#import pyLDAvis.graphlab\n",
    "#import pyLDAvis.graphlab as gl\n",
    "import matplotlib.pyplot as plt\n",
    "%matplotlib inline\n",
    "\n",
    "# Enable logging for gensim - optional\n",
    "import logging\n",
    "logging.basicConfig(format='%(asctime)s : %(levelname)s : %(message)s', level=logging.ERROR)\n",
    "\n",
    "import warnings\n",
    "warnings.filterwarnings(\"ignore\",category=DeprecationWarning)\n"
   ]
  },
  {
   "cell_type": "code",
   "execution_count": 9,
   "metadata": {
    "collapsed": true
   },
   "outputs": [],
   "source": [
    "# lemmatize the text to address thrird person words and convert verbs to simple present tense\n",
    "def lemmatize_stemming(text):\n",
    "    lemmatizer = WordNetLemmatizer()\n",
    "    return lemmatizer.lemmatize(text,pos='v')\n",
    "\n",
    "# preprocess to break senetences into words, lower case words and remove puntuation\n",
    "def preprocess(text):\n",
    "    result = []\n",
    "    for token in gensim.utils.simple_preprocess(text):\n",
    "        if token not in gensim.parsing.preprocessing.STOPWORDS and len(token) > 3:\n",
    "            result.append(lemmatize_stemming(token))\n",
    "    return result"
   ]
  },
  {
   "cell_type": "code",
   "execution_count": 12,
   "metadata": {},
   "outputs": [
    {
     "name": "stdout",
     "output_type": "stream",
     "text": [
      "['russ', 'talk', 'minute', 'feedback', 'loop', 'problems', 'welfare', 'state', 'get', 'bigger', 'private', 'ways', 'help', 'get', 'smaller', 'charity', 'family', 'incentives', 'marry', 'smaller']\n"
     ]
    }
   ],
   "source": [
    "# Read multiple files from the directory and create the Tokens\n",
    "import glob\n",
    "import errno\n",
    "path = 'C:/Users/CHAITSU/Git_Repo/EconTalk/*.txt'\n",
    "files_list = glob.glob(path)\n",
    "processed_docs = []\n",
    "#print(files_list)\n",
    "for file in files_list:\n",
    "    try:\n",
    "        with open(file,'r') as f:\n",
    "            processed_docs.append(preprocess(f.read()))\n",
    "            f.close()\n",
    "    except Exception as e:\n",
    "            print(\"Error {0}\".format(str(e.args[0])).encode(\"utf-8\"))\n",
    "print(processed_docs[1][:20])"
   ]
  },
  {
   "cell_type": "code",
   "execution_count": 13,
   "metadata": {},
   "outputs": [
    {
     "name": "stdout",
     "output_type": "stream",
     "text": [
      "0 absolutely\n",
      "1 accept\n",
      "2 achieve\n",
      "3 acknowledge\n",
      "4 actually\n",
      "5 additions\n",
      "6 address\n",
      "7 advocate\n",
      "8 agenda\n",
      "9 agree\n",
      "10 alongside\n"
     ]
    }
   ],
   "source": [
    "#processed_docs = list(map(preprocess,doc_sample))\n",
    "dictionary = gensim.corpora.Dictionary(processed_docs)\n",
    "#print(processed_docs[3])\n",
    "count = 0\n",
    "for k, v in dictionary.iteritems():\n",
    "    print(k, v)\n",
    "    count += 1\n",
    "    if count > 10:\n",
    "        break"
   ]
  },
  {
   "cell_type": "code",
   "execution_count": 15,
   "metadata": {},
   "outputs": [
    {
     "name": "stdout",
     "output_type": "stream",
     "text": [
      "Dictionary(29463 unique tokens: ['absolutely', 'accept', 'achieve', 'acknowledge', 'additions']...)\n",
      "[(5, 1), (10, 10), (11, 15), (12, 3), (16, 6), (19, 8), (24, 4), (25, 1), (26, 2), (28, 1)]\n"
     ]
    }
   ],
   "source": [
    "# Frquency count of the words\n",
    "dictionary.filter_extremes(no_below=1, no_above=0.5, keep_n=100000)\n",
    "print(dictionary)\n",
    "bow_corpus = [dictionary.doc2bow(doc) for doc in processed_docs]\n",
    "print(bow_corpus[1][:10])"
   ]
  },
  {
   "cell_type": "code",
   "execution_count": 9,
   "metadata": {},
   "outputs": [
    {
     "name": "stdout",
     "output_type": "stream",
     "text": [
      "Word 5 (\"address\") appears 1 time.\n",
      "Word 10 (\"america\") appears 10 time.\n",
      "Word 11 (\"american\") appears 15 time.\n",
      "Word 12 (\"americans\") appears 3 time.\n",
      "Word 16 (\"appeal\") appears 6 time.\n",
      "Word 19 (\"approach\") appears 8 time.\n",
      "Word 24 (\"articulate\") appears 4 time.\n",
      "Word 25 (\"ask\") appears 1 time.\n",
      "Word 26 (\"associations\") appears 2 time.\n",
      "Word 28 (\"attitudes\") appears 1 time.\n",
      "Word 31 (\"backward\") appears 1 time.\n",
      "Word 34 (\"be\") appears 1 time.\n"
     ]
    }
   ],
   "source": [
    "# Display the Frequency of Word Counts from the Documnets\n",
    "bow_doc_1 = bow_corpus[1]\n",
    "for i in range(len(bow_doc_1)):\n",
    "    print(\"Word {} (\\\"{}\\\") appears {} time.\".format(bow_doc_1[i][0], \n",
    "                                               dictionary[bow_doc_1[i][0]], \n",
    "                                                     bow_doc_1[i][1]))\n",
    "    if i > 10:\n",
    "        break "
   ]
  },
  {
   "cell_type": "code",
   "execution_count": 16,
   "metadata": {},
   "outputs": [
    {
     "name": "stdout",
     "output_type": "stream",
     "text": [
      "[(0, 0.011138036522428679), (1, 0.0073929494950034898), (2, 0.035036335605631089), (3, 0.035406409501597132), (4, 0.035201604233899529), (5, 0.044845420349273718), (6, 0.012344724937143409), (7, 0.052025216640025268), (8, 0.023168516858227531), (9, 0.019631532983742699), (10, 0.089698780231477121), (11, 0.019214850601473415), (12, 0.040151661828693876), (13, 0.0097258309368538388), (14, 0.01725438526808467), (15, 0.030630228374548301), (16, 0.011176735053582338), (17, 0.013972792153664598), (18, 0.023074263900659964), (19, 0.014981893718923764)]\n"
     ]
    }
   ],
   "source": [
    "# Apply the TFIDF on the Corpus to add Weights\n",
    "from gensim import corpora, models\n",
    "tfidf = models.TfidfModel(bow_corpus)\n",
    "corpus_tfidf = tfidf[bow_corpus]\n",
    "print(corpus_tfidf[0][:20])"
   ]
  },
  {
   "cell_type": "code",
   "execution_count": 20,
   "metadata": {},
   "outputs": [
    {
     "name": "stdout",
     "output_type": "stream",
     "text": [
      "LDA Multicore using Bag of Words with 50 Iterations\n",
      "\n",
      "Perplexity:  -8.82252025645\n",
      "\n",
      "Coherence Score:  0.28935264277\n",
      "----------------------------------------------------------------------------------------------------------------------\n",
      "LDA Multicore using Bag of Words with 1000 Iterations\n",
      "\n",
      "Perplexity:  -8.69042170166\n",
      "\n",
      "Coherence Score:  0.285320998119\n",
      "----------------------------------------------------------------------------------------------------------------------\n"
     ]
    }
   ],
   "source": [
    "# using bag of words in LDA Model\n",
    "lda_model1 = gensim.models.LdaMulticore(bow_corpus, num_topics=20, id2word=dictionary, passes=2, workers=2,iterations=50)\n",
    "print(\"LDA Multicore using Bag of Words with 50 Iterations\")\n",
    "# Compute Perplexity\n",
    "print('\\nPerplexity: ', lda_model1.log_perplexity(bow_corpus))  # a measure of how good the model is. lower the better.\n",
    "\n",
    "# Compute Coherence Score\n",
    "coherence_model_lda = CoherenceModel(model=lda_model1, texts=processed_docs, dictionary=dictionary, coherence='c_v')\n",
    "coherence_lda = coherence_model_lda.get_coherence()\n",
    "print('\\nCoherence Score: ', coherence_lda)\n",
    "print(\"----------------------------------------------------------------------------------------------------------------------\")\n",
    "\n",
    "lda_model2 = gensim.models.LdaMulticore(bow_corpus, num_topics=20, id2word=dictionary, passes=2, workers=2,iterations=1000)\n",
    "print(\"LDA Multicore using Bag of Words with 1000 Iterations\")\n",
    "# Compute Perplexity\n",
    "print('\\nPerplexity: ', lda_model2.log_perplexity(bow_corpus))  # a measure of how good the model is. lower the better.\n",
    "\n",
    "# Compute Coherence Score\n",
    "coherence_model_lda = CoherenceModel(model=lda_model2, texts=processed_docs, dictionary=dictionary, coherence='c_v')\n",
    "coherence_lda = coherence_model_lda.get_coherence()\n",
    "print('\\nCoherence Score: ', coherence_lda)\n",
    "print(\"----------------------------------------------------------------------------------------------------------------------\")\n"
   ]
  },
  {
   "cell_type": "code",
   "execution_count": 22,
   "metadata": {},
   "outputs": [
    {
     "name": "stdout",
     "output_type": "stream",
     "text": [
      "LDA Multicore using TFIDF with 50 Iterations\n",
      "\n",
      "Perplexity:  -17.0504401459\n",
      "\n",
      "Coherence Score:  0.382404178098\n",
      "----------------------------------------------------------------------------------------------------------------------\n",
      "LDA Multicore using TFIDF with 1000 Iterations\n",
      "\n",
      "Perplexity:  -16.2631868571\n",
      "\n",
      "Coherence Score:  0.40684507144\n",
      "----------------------------------------------------------------------------------------------------------------------\n"
     ]
    }
   ],
   "source": [
    "# Build the LDA Multiocore Model using the TFIDF with  50 Iterations \n",
    "lda_model_tfidf1 = gensim.models.LdaMulticore(corpus_tfidf, num_topics=20, id2word=dictionary, passes=2, workers=4,iterations=50)\n",
    "#for idx, topic in lda_model_tfidf.print_topics(-1):\n",
    "#    print('Topic: {} Word: {}'.format(idx, topic))\n",
    "print(\"LDA Multicore using TFIDF with 50 Iterations\")\n",
    "# Compute Perplexity\n",
    "print('\\nPerplexity: ', lda_model_tfidf1.log_perplexity(corpus_tfidf))  # a measure of how good the model is. lower the better.\n",
    "\n",
    "# Compute Coherence Score\n",
    "coherence_model_lda = CoherenceModel(model=lda_model_tfidf1, texts=processed_docs, dictionary=dictionary, coherence='c_v')\n",
    "coherence_lda = coherence_model_lda.get_coherence()\n",
    "print('\\nCoherence Score: ', coherence_lda)\n",
    "print(\"----------------------------------------------------------------------------------------------------------------------\")\n",
    "\n",
    "# Build the LDA Multiocore Model using the TFIDF with  1000 Iterations \n",
    "lda_model_tfidf2 = gensim.models.LdaMulticore(corpus_tfidf, num_topics=20, id2word=dictionary, passes=2, workers=4,iterations=1000)\n",
    "print(\"LDA Multicore using TFIDF with 1000 Iterations\")\n",
    "# Compute Perplexity\n",
    "print('\\nPerplexity: ', lda_model_tfidf2.log_perplexity(corpus_tfidf))  # a measure of how good the model is. lower the better.\n",
    "\n",
    "# Compute Coherence Score\n",
    "coherence_model_lda = CoherenceModel(model=lda_model_tfidf2, texts=processed_docs, dictionary=dictionary, coherence='c_v')\n",
    "coherence_lda = coherence_model_lda.get_coherence()\n",
    "print('\\nCoherence Score: ', coherence_lda)\n",
    "print(\"----------------------------------------------------------------------------------------------------------------------\")\n",
    "\n"
   ]
  },
  {
   "cell_type": "code",
   "execution_count": 58,
   "metadata": {},
   "outputs": [
    {
     "data": {
      "text/plain": [
       "[(5, 0.57029849), (9, 0.10026167), (16, 0.18147592), (18, 0.13114551)]"
      ]
     },
     "execution_count": 58,
     "metadata": {},
     "output_type": "execute_result"
    }
   ],
   "source": [
    "lda_model_tfidf2.get_document_topics(bow_corpus[0])\n",
    "#print(processed_docs[0])\n",
    "lda_model_tfidf2.get_document_topics(bow_corpus[2])\n",
    "#print(processed_docs[2])"
   ]
  },
  {
   "cell_type": "code",
   "execution_count": 59,
   "metadata": {
    "collapsed": true
   },
   "outputs": [],
   "source": [
    "# Visualize the topics for the LDA Model with Number Topics as 20\n",
    "pyLDAvis.enable_notebook()\n",
    "#vis = pyLDAvis.sklearn.prepare(lda_model_tfidf2, bow_corpus, dictionary)\n",
    "vis = pyLDAvis.gensim.prepare(lda_model_tfidf2, bow_corpus, dictionary)\n",
    "from IPython.display import HTML\n",
    "HTML(filename=\"C:/Users/CHAITSU/Documents/LDAvis.html\")\n"
   ]
  },
  {
   "cell_type": "code",
   "execution_count": 1,
   "metadata": {},
   "outputs": [],
   "source": [
    "#pyLDAvis.prepared_data_to_html(vis)\n",
    "#print(type(dir(vis)))\n",
    "#pprint(vis)\n",
    "\n",
    "#pyLDAvis.show(vis,local=True)\n",
    "#pyLDAvis.display(vis)"
   ]
  },
  {
   "cell_type": "code",
   "execution_count": 17,
   "metadata": {
    "collapsed": true
   },
   "outputs": [],
   "source": [
    "# Download File: http://mallet.cs.umass.edu/dist/mallet-2.0.8.zip\n",
    "import os\n",
    "os.environ.update({'MALLET_HOME': r'C:/Users/CHAITSU/mallet-2.0.8/'})\n",
    "mallet_path = 'C:/Users/CHAITSU/mallet-2.0.8/bin/mallet'\n",
    "ldamallet = gensim.models.wrappers.LdaMallet(mallet_path, corpus=bow_corpus, num_topics=20, id2word=dictionary,iterations=50)"
   ]
  },
  {
   "cell_type": "code",
   "execution_count": 23,
   "metadata": {},
   "outputs": [
    {
     "name": "stdout",
     "output_type": "stream",
     "text": [
      "(4,\n",
      " [('health', 0.025285269709543569),\n",
      "  ('doctor', 0.017686721991701244),\n",
      "  ('women', 0.015612033195020747),\n",
      "  ('insurance', 0.011203319502074689),\n",
      "  ('medical', 0.0092064315352697098),\n",
      "  ('heart', 0.008609958506224067),\n",
      "  ('munger', 0.0085321576763485469),\n",
      "  ('michael', 0.0078838174273858919),\n",
      "  ('disease', 0.0078319502074688796),\n",
      "  ('cancer', 0.0076763485477178419)])\n",
      "\n",
      "Coherence Score:  0.50125087472\n"
     ]
    }
   ],
   "source": [
    "# Topic Distribution and Coherence using LDA Mallet Wrapper for a Random set of Topics\n",
    "pprint(ldamallet.show_topics(formatted=False)[5])\n",
    "\n",
    "# Compute Coherence Score\n",
    "coherence_model_ldamallet = CoherenceModel(model=ldamallet, texts=processed_docs, dictionary=dictionary, coherence='c_v')\n",
    "coherence_ldamallet = coherence_model_ldamallet.get_coherence()\n",
    "print('\\nCoherence Score: ', coherence_ldamallet)"
   ]
  },
  {
   "cell_type": "code",
   "execution_count": 33,
   "metadata": {
    "collapsed": true
   },
   "outputs": [],
   "source": [
    "# Build a model to compute Coherence score for different set of Topics Using LDA Mallet Wrapper\n",
    "def mallet_coherence_score(dictionary, corpus, texts, limit=40, start=2, step=6):\n",
    "    coherence_values = []\n",
    "    model_list = []\n",
    "    for num_topics in range(start, limit, step):\n",
    "        model = gensim.models.wrappers.LdaMallet(mallet_path, corpus=bow_corpus, num_topics=num_topics, id2word=dictionary,\n",
    "                                                 iterations=1000)\n",
    "        model_list.append(model)\n",
    "        coherencemodel = CoherenceModel(model=model, texts=processed_docs, dictionary=dictionary, coherence='c_v')\n",
    "        coherence_values.append(coherencemodel.get_coherence())\n",
    "    return model_list, coherence_values"
   ]
  },
  {
   "cell_type": "code",
   "execution_count": 34,
   "metadata": {
    "collapsed": true
   },
   "outputs": [],
   "source": [
    "model_list1, coherence_values1 = mallet_coherence_score(dictionary=dictionary, corpus=bow_corpus, texts=processed_docs, start=2, limit=40, step=6)"
   ]
  },
  {
   "cell_type": "code",
   "execution_count": 35,
   "metadata": {},
   "outputs": [
    {
     "data": {
      "image/png": "[encoded data removed]",
      "text/plain": [
       "<matplotlib.figure.Figure object at 0x000000F139EF9908>"
      ]
     },
     "metadata": {},
     "output_type": "display_data"
    }
   ],
   "source": [
    "# Compare the Coherence score for different Topics\n",
    "limit=40; start=2; step=6;\n",
    "x = range(start, limit, step)\n",
    "plt.plot(x, coherence_values1)\n",
    "plt.xlabel(\"Num Topics\")\n",
    "plt.ylabel(\"Coherence score\")\n",
    "plt.legend((\"coherence_values\"), loc='best')\n",
    "plt.show()"
   ]
  },
  {
   "cell_type": "code",
   "execution_count": 36,
   "metadata": {},
   "outputs": [
    {
     "name": "stdout",
     "output_type": "stream",
     "text": [
      "Num Topics = 2  has Coherence Value of 0.3598\n",
      "Num Topics = 8  has Coherence Value of 0.4824\n",
      "Num Topics = 14  has Coherence Value of 0.5283\n",
      "Num Topics = 20  has Coherence Value of 0.545\n",
      "Num Topics = 26  has Coherence Value of 0.5444\n",
      "Num Topics = 32  has Coherence Value of 0.5568\n",
      "Num Topics = 38  has Coherence Value of 0.5418\n"
     ]
    }
   ],
   "source": [
    "# Print the coherence scores\n",
    "for m, cv in zip(x, coherence_values1):\n",
    "    print(\"Num Topics =\", m, \" has Coherence Value of\", round(cv, 4))"
   ]
  },
  {
   "cell_type": "code",
   "execution_count": 37,
   "metadata": {},
   "outputs": [
    {
     "name": "stdout",
     "output_type": "stream",
     "text": [
      "[(0,\n",
      "  '0.032*\"food\" + 0.017*\"water\" + 0.013*\"farm\" + 0.011*\"land\" + '\n",
      "  '0.009*\"farmers\" + 0.007*\"fish\" + 0.006*\"corn\" + 0.006*\"plant\" + '\n",
      "  '0.006*\"local\" + 0.005*\"crop\"'),\n",
      " (1,\n",
      "  '0.028*\"data\" + 0.027*\"study\" + 0.014*\"evidence\" + 0.011*\"experiment\" + '\n",
      "  '0.011*\"paper\" + 0.011*\"science\" + 0.010*\"research\" + 0.008*\"bias\" + '\n",
      "  '0.008*\"analysis\" + 0.008*\"measure\"'),\n",
      " (2,\n",
      "  '0.064*\"school\" + 0.026*\"education\" + 0.022*\"kid\" + 0.020*\"teach\" + '\n",
      "  '0.017*\"students\" + 0.016*\"class\" + 0.015*\"college\" + 0.014*\"teachers\" + '\n",
      "  '0.012*\"test\" + 0.012*\"parent\"'),\n",
      " (3,\n",
      "  '0.024*\"hayek\" + 0.015*\"theory\" + 0.012*\"ideas\" + 0.010*\"keynes\" + '\n",
      "  '0.008*\"friedman\" + 0.007*\"role\" + 0.007*\"knowledge\" + 0.007*\"debate\" + '\n",
      "  '0.006*\"plan\" + 0.006*\"economist\"'),\n",
      " (4,\n",
      "  '0.019*\"rule\" + 0.013*\"private\" + 0.011*\"regulation\" + 0.010*\"legal\" + '\n",
      "  '0.010*\"license\" + 0.006*\"competition\" + 0.006*\"innovation\" + 0.006*\"patent\" '\n",
      "  '+ 0.005*\"court\" + 0.005*\"provide\"')]\n"
     ]
    }
   ],
   "source": [
    "# Select the model and print the topics\n",
    "optimal_model1 = model_list1[3]\n",
    "#model_topics = optimal_model1.show_topics(formatted=False)\n",
    "pprint(optimal_model1.print_topics(num_words=10)[:5])"
   ]
  },
  {
   "cell_type": "code",
   "execution_count": 38,
   "metadata": {
    "collapsed": true
   },
   "outputs": [],
   "source": [
    "# Convert LDA Mallet to LDA model to compute Coherence score for Visualizationa and comparision of Coherence Scores\n",
    "def mallet2lda_coherence_scores(dictionary, corpus, texts, limit=40, start=2, step=6):\n",
    "    coherence_values = []\n",
    "    model_list = []\n",
    "    for num_topics in range(start, limit, step):\n",
    "        mallet_model = gensim.models.wrappers.LdaMallet(mallet_path, corpus=bow_corpus, num_topics=num_topics, id2word=dictionary,\n",
    "                                                 iterations=1000)\n",
    "        lda_model = malletmodel2ldamodel(mallet_model)\n",
    "        model_list.append(lda_model)\n",
    "        coherencemodel = CoherenceModel(model=lda_model, texts=processed_docs, dictionary=dictionary, coherence='c_v')\n",
    "        coherence_values.append(coherencemodel.get_coherence())\n",
    "    return model_list, coherence_values"
   ]
  },
  {
   "cell_type": "code",
   "execution_count": 39,
   "metadata": {
    "collapsed": true
   },
   "outputs": [],
   "source": [
    "model_list2, coherence_values2 = mallet2lda_coherence_scores(dictionary=dictionary, corpus=bow_corpus, texts=processed_docs, start=2, limit=40, step=6)"
   ]
  },
  {
   "cell_type": "code",
   "execution_count": 40,
   "metadata": {},
   "outputs": [
    {
     "data": {
      "image/png": "[encoded data removed]",
      "text/plain": [
       "<matplotlib.figure.Figure object at 0x000000F14B9A9588>"
      ]
     },
     "metadata": {},
     "output_type": "display_data"
    }
   ],
   "source": [
    "# Compare the Coherence score for different Topics\n",
    "limit=40; start=2; step=6;\n",
    "x = range(start, limit, step)\n",
    "plt.plot(x, coherence_values2)\n",
    "plt.xlabel(\"Num Topics\")\n",
    "plt.ylabel(\"Coherence score\")\n",
    "plt.legend((\"coherence_values\"), loc='best')\n",
    "plt.show()"
   ]
  },
  {
   "cell_type": "code",
   "execution_count": 41,
   "metadata": {},
   "outputs": [
    {
     "name": "stdout",
     "output_type": "stream",
     "text": [
      "Num Topics = 2  has Coherence Value of 0.7394\n",
      "Num Topics = 8  has Coherence Value of 0.7067\n",
      "Num Topics = 14  has Coherence Value of 0.7001\n",
      "Num Topics = 20  has Coherence Value of 0.7048\n",
      "Num Topics = 26  has Coherence Value of 0.7138\n",
      "Num Topics = 32  has Coherence Value of 0.7104\n",
      "Num Topics = 38  has Coherence Value of 0.7076\n"
     ]
    }
   ],
   "source": [
    "# Print the coherence scores\n",
    "for m, cv in zip(x, coherence_values2):\n",
    "    print(\"Num Topics =\", m, \" has Coherence Value of\", round(cv, 4))"
   ]
  },
  {
   "cell_type": "code",
   "execution_count": 125,
   "metadata": {
    "collapsed": true
   },
   "outputs": [],
   "source": [
    "#dir(tm2)\n",
    "#optimal_model = model_list2[3]\n",
    "#vis2 = pyLDAvis.gensim.prepare(optimal_model, bow_corpus, dictionary) \n",
    "#pyLDAvis.show(vis2)"
   ]
  },
  {
   "cell_type": "code",
   "execution_count": 43,
   "metadata": {},
   "outputs": [
    {
     "name": "stdout",
     "output_type": "stream",
     "text": [
      "[(0,\n",
      "  '0.000*\"foment\" + 0.000*\"toothache\" + 0.000*\"overindulge\" + '\n",
      "  '0.000*\"untethered\" + 0.000*\"subcategory\" + 0.000*\"equal\" + 0.000*\"husk\" + '\n",
      "  '0.000*\"cellblock\" + 0.000*\"banners\" + 0.000*\"conventions\"'),\n",
      " (1,\n",
      "  '0.000*\"embracement\" + 0.000*\"whammy\" + 0.000*\"motto\" + 0.000*\"nevadan\" + '\n",
      "  '0.000*\"smellular\" + 0.000*\"wary\" + 0.000*\"toothpick\" + 0.000*\"redistribute\" '\n",
      "  '+ 0.000*\"scratchy\" + 0.000*\"informants\"'),\n",
      " (2,\n",
      "  '0.000*\"whomsoever\" + 0.000*\"microns\" + 0.000*\"abnormalities\" + '\n",
      "  '0.000*\"burnham\" + 0.000*\"mortensen\" + 0.000*\"militant\" + 0.000*\"mccord\" + '\n",
      "  '0.000*\"hotbot\" + 0.000*\"arcana\" + 0.000*\"yugoslavia\"'),\n",
      " (3,\n",
      "  '0.000*\"fenway\" + 0.000*\"addendum\" + 0.000*\"rottenberg\" + 0.000*\"carole\" + '\n",
      "  '0.000*\"reservations\" + 0.000*\"shaquille\" + 0.000*\"forgettable\" + '\n",
      "  '0.000*\"admire\" + 0.000*\"darpa\" + 0.000*\"sleeves\"'),\n",
      " (4,\n",
      "  '0.000*\"laborer\" + 0.000*\"toilets\" + 0.000*\"arbiter\" + 0.000*\"heroine\" + '\n",
      "  '0.000*\"syrups\" + 0.000*\"reagan\" + 0.000*\"dcatch\" + 0.000*\"unchangeable\" + '\n",
      "  '0.000*\"sirloin\" + 0.000*\"republic\"')]\n"
     ]
    }
   ],
   "source": [
    "# Select the model and print the topics\n",
    "optimal_model2 = model_list2[3]\n",
    "#model_topics = optimal_model2.show_topics(formatted=False)\n",
    "pprint(optimal_model2.print_topics(num_words=10)[:5])"
   ]
  },
  {
   "cell_type": "code",
   "execution_count": 44,
   "metadata": {},
   "outputs": [
    {
     "data": {
      "text/html": [
       "<div>\n",
       "<style>\n",
       "    .dataframe thead tr:only-child th {\n",
       "        text-align: right;\n",
       "    }\n",
       "\n",
       "    .dataframe thead th {\n",
       "        text-align: left;\n",
       "    }\n",
       "\n",
       "    .dataframe tbody tr th {\n",
       "        vertical-align: top;\n",
       "    }\n",
       "</style>\n",
       "<table border=\"1\" class=\"dataframe\">\n",
       "  <thead>\n",
       "    <tr style=\"text-align: right;\">\n",
       "      <th></th>\n",
       "      <th>Document_No</th>\n",
       "      <th>Dominant_Topic</th>\n",
       "      <th>Topic_Perc_Contrib</th>\n",
       "      <th>Keywords</th>\n",
       "      <th>Text</th>\n",
       "    </tr>\n",
       "  </thead>\n",
       "  <tbody>\n",
       "    <tr>\n",
       "      <th>0</th>\n",
       "      <td>0</td>\n",
       "      <td>18.0</td>\n",
       "      <td>0.3286</td>\n",
       "      <td>smith, moral, society, social, adam, wealth, n...</td>\n",
       "      <td>[intro, record, date, june, russ, ambitious, b...</td>\n",
       "    </tr>\n",
       "    <tr>\n",
       "      <th>1</th>\n",
       "      <td>1</td>\n",
       "      <td>18.0</td>\n",
       "      <td>0.3301</td>\n",
       "      <td>smith, moral, society, social, adam, wealth, n...</td>\n",
       "      <td>[russ, talk, minute, feedback, loop, problems,...</td>\n",
       "    </tr>\n",
       "    <tr>\n",
       "      <th>2</th>\n",
       "      <td>2</td>\n",
       "      <td>9.0</td>\n",
       "      <td>0.2596</td>\n",
       "      <td>city, cities, project, private, cars, york, dr...</td>\n",
       "      <td>[intro, record, date, june, russ, topic, today...</td>\n",
       "    </tr>\n",
       "    <tr>\n",
       "      <th>3</th>\n",
       "      <td>3</td>\n",
       "      <td>6.0</td>\n",
       "      <td>0.2680</td>\n",
       "      <td>growth, labor, income, countries, workers, tra...</td>\n",
       "      <td>[russ, actually, make, clear, try, away, littl...</td>\n",
       "    </tr>\n",
       "    <tr>\n",
       "      <th>4</th>\n",
       "      <td>4</td>\n",
       "      <td>10.0</td>\n",
       "      <td>0.4733</td>\n",
       "      <td>technology, machine, information, knowledge, b...</td>\n",
       "      <td>[intro, record, date, june, russ, inevitable, ...</td>\n",
       "    </tr>\n",
       "    <tr>\n",
       "      <th>5</th>\n",
       "      <td>5</td>\n",
       "      <td>10.0</td>\n",
       "      <td>0.5235</td>\n",
       "      <td>technology, machine, information, knowledge, b...</td>\n",
       "      <td>[russ, okay, point, people, book, human, be, p...</td>\n",
       "    </tr>\n",
       "    <tr>\n",
       "      <th>6</th>\n",
       "      <td>6</td>\n",
       "      <td>10.0</td>\n",
       "      <td>0.4614</td>\n",
       "      <td>technology, machine, information, knowledge, b...</td>\n",
       "      <td>[intro, record, date, russ, practical, work, q...</td>\n",
       "    </tr>\n",
       "    <tr>\n",
       "      <th>7</th>\n",
       "      <td>7</td>\n",
       "      <td>10.0</td>\n",
       "      <td>0.3359</td>\n",
       "      <td>technology, machine, information, knowledge, b...</td>\n",
       "      <td>[russ, want, twitter, question, mention, book,...</td>\n",
       "    </tr>\n",
       "    <tr>\n",
       "      <th>8</th>\n",
       "      <td>8</td>\n",
       "      <td>11.0</td>\n",
       "      <td>0.1993</td>\n",
       "      <td>love, experience, watch, remember, attention, ...</td>\n",
       "      <td>[intro, record, date, russ, ambrose, bierce, b...</td>\n",
       "    </tr>\n",
       "    <tr>\n",
       "      <th>9</th>\n",
       "      <td>9</td>\n",
       "      <td>11.0</td>\n",
       "      <td>0.2117</td>\n",
       "      <td>love, experience, watch, remember, attention, ...</td>\n",
       "      <td>[russ, want, read, definition, read, definitio...</td>\n",
       "    </tr>\n",
       "  </tbody>\n",
       "</table>\n",
       "</div>"
      ],
      "text/plain": [
       "   Document_No  Dominant_Topic  Topic_Perc_Contrib  \\\n",
       "0            0            18.0              0.3286   \n",
       "1            1            18.0              0.3301   \n",
       "2            2             9.0              0.2596   \n",
       "3            3             6.0              0.2680   \n",
       "4            4            10.0              0.4733   \n",
       "5            5            10.0              0.5235   \n",
       "6            6            10.0              0.4614   \n",
       "7            7            10.0              0.3359   \n",
       "8            8            11.0              0.1993   \n",
       "9            9            11.0              0.2117   \n",
       "\n",
       "                                            Keywords  \\\n",
       "0  smith, moral, society, social, adam, wealth, n...   \n",
       "1  smith, moral, society, social, adam, wealth, n...   \n",
       "2  city, cities, project, private, cars, york, dr...   \n",
       "3  growth, labor, income, countries, workers, tra...   \n",
       "4  technology, machine, information, knowledge, b...   \n",
       "5  technology, machine, information, knowledge, b...   \n",
       "6  technology, machine, information, knowledge, b...   \n",
       "7  technology, machine, information, knowledge, b...   \n",
       "8  love, experience, watch, remember, attention, ...   \n",
       "9  love, experience, watch, remember, attention, ...   \n",
       "\n",
       "                                                Text  \n",
       "0  [intro, record, date, june, russ, ambitious, b...  \n",
       "1  [russ, talk, minute, feedback, loop, problems,...  \n",
       "2  [intro, record, date, june, russ, topic, today...  \n",
       "3  [russ, actually, make, clear, try, away, littl...  \n",
       "4  [intro, record, date, june, russ, inevitable, ...  \n",
       "5  [russ, okay, point, people, book, human, be, p...  \n",
       "6  [intro, record, date, russ, practical, work, q...  \n",
       "7  [russ, want, twitter, question, mention, book,...  \n",
       "8  [intro, record, date, russ, ambrose, bierce, b...  \n",
       "9  [russ, want, read, definition, read, definitio...  "
      ]
     },
     "execution_count": 44,
     "metadata": {},
     "output_type": "execute_result"
    }
   ],
   "source": [
    "# Most Dominant Topic for each of the Documents\n",
    "def format_topics_sentences(ldamodel,corpus,texts):\n",
    "    # Init output\n",
    "    sent_topics_df = pd.DataFrame()\n",
    "\n",
    "    # Get main topic in each document\n",
    "    for i, row in enumerate(ldamodel[corpus]):\n",
    "        row = sorted(row, key=lambda x: (x[1]), reverse=True)\n",
    "        # Get the Dominant topic, Perc Contribution and Keywords for each document\n",
    "        for j, (topic_num, prop_topic) in enumerate(row):\n",
    "            if j == 0:  # => dominant topic\n",
    "                wp = ldamodel.show_topic(topic_num)\n",
    "                topic_keywords = \", \".join([word for word, prop in wp])\n",
    "                sent_topics_df = sent_topics_df.append(pd.Series([int(topic_num), round(prop_topic,4), topic_keywords]), ignore_index=True)\n",
    "            else:\n",
    "                break\n",
    "    sent_topics_df.columns = ['Dominant_Topic', 'Perc_Contribution', 'Topic_Keywords']\n",
    "\n",
    "    # Add original text to the end of the output\n",
    "    contents = pd.Series(texts)\n",
    "    sent_topics_df = pd.concat([sent_topics_df, contents], axis=1)\n",
    "    return(sent_topics_df)\n",
    "\n",
    "\n",
    "df_topic_sents_keywords = format_topics_sentences(ldamodel=optimal_model1, corpus=bow_corpus, texts=processed_docs)\n",
    "\n",
    "# Format\n",
    "df_dominant_topic = df_topic_sents_keywords.reset_index()\n",
    "df_dominant_topic.columns = ['Document_No', 'Dominant_Topic', 'Topic_Perc_Contrib', 'Keywords', 'Text']\n",
    "\n",
    "# Show\n",
    "df_dominant_topic.head(10)"
   ]
  },
  {
   "cell_type": "code",
   "execution_count": 45,
   "metadata": {},
   "outputs": [
    {
     "data": {
      "text/html": [
       "<div>\n",
       "<style>\n",
       "    .dataframe thead tr:only-child th {\n",
       "        text-align: right;\n",
       "    }\n",
       "\n",
       "    .dataframe thead th {\n",
       "        text-align: left;\n",
       "    }\n",
       "\n",
       "    .dataframe tbody tr th {\n",
       "        vertical-align: top;\n",
       "    }\n",
       "</style>\n",
       "<table border=\"1\" class=\"dataframe\">\n",
       "  <thead>\n",
       "    <tr style=\"text-align: right;\">\n",
       "      <th></th>\n",
       "      <th>Topic_Num</th>\n",
       "      <th>Topic_Perc_Contrib</th>\n",
       "      <th>Keywords</th>\n",
       "      <th>Text</th>\n",
       "    </tr>\n",
       "  </thead>\n",
       "  <tbody>\n",
       "    <tr>\n",
       "      <th>0</th>\n",
       "      <td>0.0</td>\n",
       "      <td>0.6315</td>\n",
       "      <td>food, water, farm, land, farmers, fish, corn, ...</td>\n",
       "      <td>[intro, record, date, december, russ, begin, w...</td>\n",
       "    </tr>\n",
       "    <tr>\n",
       "      <th>1</th>\n",
       "      <td>1.0</td>\n",
       "      <td>0.8580</td>\n",
       "      <td>data, study, evidence, experiment, paper, scie...</td>\n",
       "      <td>[intro, record, date, december, russ, roberts,...</td>\n",
       "    </tr>\n",
       "    <tr>\n",
       "      <th>2</th>\n",
       "      <td>2.0</td>\n",
       "      <td>0.6393</td>\n",
       "      <td>school, education, kid, teach, students, class...</td>\n",
       "      <td>[intro, record, date, september, russ, book, h...</td>\n",
       "    </tr>\n",
       "    <tr>\n",
       "      <th>3</th>\n",
       "      <td>3.0</td>\n",
       "      <td>0.6794</td>\n",
       "      <td>hayek, theory, ideas, keynes, friedman, role, ...</td>\n",
       "      <td>[write, paper, call, socialist, calculation, d...</td>\n",
       "    </tr>\n",
       "    <tr>\n",
       "      <th>4</th>\n",
       "      <td>4.0</td>\n",
       "      <td>0.6467</td>\n",
       "      <td>rule, private, regulation, legal, license, com...</td>\n",
       "      <td>[russ, number, table, book, prison, gang, memb...</td>\n",
       "    </tr>\n",
       "  </tbody>\n",
       "</table>\n",
       "</div>"
      ],
      "text/plain": [
       "   Topic_Num  Topic_Perc_Contrib  \\\n",
       "0        0.0              0.6315   \n",
       "1        1.0              0.8580   \n",
       "2        2.0              0.6393   \n",
       "3        3.0              0.6794   \n",
       "4        4.0              0.6467   \n",
       "\n",
       "                                            Keywords  \\\n",
       "0  food, water, farm, land, farmers, fish, corn, ...   \n",
       "1  data, study, evidence, experiment, paper, scie...   \n",
       "2  school, education, kid, teach, students, class...   \n",
       "3  hayek, theory, ideas, keynes, friedman, role, ...   \n",
       "4  rule, private, regulation, legal, license, com...   \n",
       "\n",
       "                                                Text  \n",
       "0  [intro, record, date, december, russ, begin, w...  \n",
       "1  [intro, record, date, december, russ, roberts,...  \n",
       "2  [intro, record, date, september, russ, book, h...  \n",
       "3  [write, paper, call, socialist, calculation, d...  \n",
       "4  [russ, number, table, book, prison, gang, memb...  "
      ]
     },
     "execution_count": 45,
     "metadata": {},
     "output_type": "execute_result"
    }
   ],
   "source": [
    "# Most Representative Document for each topic #\n",
    "# Group top 5 Documents under each Topic\n",
    "sent_topics_sorteddf_mallet = pd.DataFrame()\n",
    "\n",
    "sent_topics_outdf_grpd = df_topic_sents_keywords.groupby('Dominant_Topic')\n",
    "\n",
    "for i, grp in sent_topics_outdf_grpd:\n",
    "    sent_topics_sorteddf_mallet = pd.concat([sent_topics_sorteddf_mallet, \n",
    "                                             grp.sort_values(['Perc_Contribution'], ascending=[0]).head(1)], \n",
    "                                            axis=0)\n",
    "\n",
    "# Reset Index    \n",
    "sent_topics_sorteddf_mallet.reset_index(drop=True, inplace=True)\n",
    "\n",
    "# Format\n",
    "sent_topics_sorteddf_mallet.columns = ['Topic_Num', \"Topic_Perc_Contrib\", \"Keywords\", \"Text\"]\n",
    "\n",
    "# Show\n",
    "sent_topics_sorteddf_mallet.head()"
   ]
  },
  {
   "cell_type": "code",
   "execution_count": 46,
   "metadata": {},
   "outputs": [
    {
     "data": {
      "text/html": [
       "<div>\n",
       "<style>\n",
       "    .dataframe thead tr:only-child th {\n",
       "        text-align: right;\n",
       "    }\n",
       "\n",
       "    .dataframe thead th {\n",
       "        text-align: left;\n",
       "    }\n",
       "\n",
       "    .dataframe tbody tr th {\n",
       "        vertical-align: top;\n",
       "    }\n",
       "</style>\n",
       "<table border=\"1\" class=\"dataframe\">\n",
       "  <thead>\n",
       "    <tr style=\"text-align: right;\">\n",
       "      <th></th>\n",
       "      <th>Dominant_Topic</th>\n",
       "      <th>Topic_Keywords</th>\n",
       "      <th>Num_Documents</th>\n",
       "      <th>Perc_Documents</th>\n",
       "    </tr>\n",
       "  </thead>\n",
       "  <tbody>\n",
       "    <tr>\n",
       "      <th>0</th>\n",
       "      <td>18.0</td>\n",
       "      <td>smith, moral, society, social, adam, wealth, n...</td>\n",
       "      <td>56.0</td>\n",
       "      <td>0.0538</td>\n",
       "    </tr>\n",
       "    <tr>\n",
       "      <th>1</th>\n",
       "      <td>18.0</td>\n",
       "      <td>smith, moral, society, social, adam, wealth, n...</td>\n",
       "      <td>49.0</td>\n",
       "      <td>0.0471</td>\n",
       "    </tr>\n",
       "    <tr>\n",
       "      <th>2</th>\n",
       "      <td>9.0</td>\n",
       "      <td>city, cities, project, private, cars, york, dr...</td>\n",
       "      <td>56.0</td>\n",
       "      <td>0.0538</td>\n",
       "    </tr>\n",
       "    <tr>\n",
       "      <th>3</th>\n",
       "      <td>6.0</td>\n",
       "      <td>growth, labor, income, countries, workers, tra...</td>\n",
       "      <td>48.0</td>\n",
       "      <td>0.0462</td>\n",
       "    </tr>\n",
       "    <tr>\n",
       "      <th>4</th>\n",
       "      <td>10.0</td>\n",
       "      <td>technology, machine, information, knowledge, b...</td>\n",
       "      <td>42.0</td>\n",
       "      <td>0.0404</td>\n",
       "    </tr>\n",
       "    <tr>\n",
       "      <th>5</th>\n",
       "      <td>10.0</td>\n",
       "      <td>technology, machine, information, knowledge, b...</td>\n",
       "      <td>21.0</td>\n",
       "      <td>0.0202</td>\n",
       "    </tr>\n",
       "    <tr>\n",
       "      <th>6</th>\n",
       "      <td>10.0</td>\n",
       "      <td>technology, machine, information, knowledge, b...</td>\n",
       "      <td>108.0</td>\n",
       "      <td>0.1038</td>\n",
       "    </tr>\n",
       "    <tr>\n",
       "      <th>7</th>\n",
       "      <td>10.0</td>\n",
       "      <td>technology, machine, information, knowledge, b...</td>\n",
       "      <td>35.0</td>\n",
       "      <td>0.0337</td>\n",
       "    </tr>\n",
       "    <tr>\n",
       "      <th>8</th>\n",
       "      <td>11.0</td>\n",
       "      <td>love, experience, watch, remember, attention, ...</td>\n",
       "      <td>42.0</td>\n",
       "      <td>0.0404</td>\n",
       "    </tr>\n",
       "    <tr>\n",
       "      <th>9</th>\n",
       "      <td>11.0</td>\n",
       "      <td>love, experience, watch, remember, attention, ...</td>\n",
       "      <td>40.0</td>\n",
       "      <td>0.0385</td>\n",
       "    </tr>\n",
       "    <tr>\n",
       "      <th>10</th>\n",
       "      <td>14.0</td>\n",
       "      <td>rate, monetary, rat, inflation, demand, supply...</td>\n",
       "      <td>49.0</td>\n",
       "      <td>0.0471</td>\n",
       "    </tr>\n",
       "    <tr>\n",
       "      <th>11</th>\n",
       "      <td>14.0</td>\n",
       "      <td>rate, monetary, rat, inflation, demand, supply...</td>\n",
       "      <td>52.0</td>\n",
       "      <td>0.0500</td>\n",
       "    </tr>\n",
       "    <tr>\n",
       "      <th>12</th>\n",
       "      <td>6.0</td>\n",
       "      <td>growth, labor, income, countries, workers, tra...</td>\n",
       "      <td>39.0</td>\n",
       "      <td>0.0375</td>\n",
       "    </tr>\n",
       "    <tr>\n",
       "      <th>13</th>\n",
       "      <td>6.0</td>\n",
       "      <td>growth, labor, income, countries, workers, tra...</td>\n",
       "      <td>88.0</td>\n",
       "      <td>0.0846</td>\n",
       "    </tr>\n",
       "    <tr>\n",
       "      <th>14</th>\n",
       "      <td>19.0</td>\n",
       "      <td>rule, constitution, property, contract, social...</td>\n",
       "      <td>87.0</td>\n",
       "      <td>0.0837</td>\n",
       "    </tr>\n",
       "    <tr>\n",
       "      <th>15</th>\n",
       "      <td>15.0</td>\n",
       "      <td>history, country, europe, american, century, c...</td>\n",
       "      <td>39.0</td>\n",
       "      <td>0.0375</td>\n",
       "    </tr>\n",
       "    <tr>\n",
       "      <th>16</th>\n",
       "      <td>10.0</td>\n",
       "      <td>technology, machine, information, knowledge, b...</td>\n",
       "      <td>48.0</td>\n",
       "      <td>0.0462</td>\n",
       "    </tr>\n",
       "    <tr>\n",
       "      <th>17</th>\n",
       "      <td>10.0</td>\n",
       "      <td>technology, machine, information, knowledge, b...</td>\n",
       "      <td>58.0</td>\n",
       "      <td>0.0558</td>\n",
       "    </tr>\n",
       "    <tr>\n",
       "      <th>18</th>\n",
       "      <td>14.0</td>\n",
       "      <td>rate, monetary, rat, inflation, demand, supply...</td>\n",
       "      <td>48.0</td>\n",
       "      <td>0.0462</td>\n",
       "    </tr>\n",
       "    <tr>\n",
       "      <th>19</th>\n",
       "      <td>9.0</td>\n",
       "      <td>city, cities, project, private, cars, york, dr...</td>\n",
       "      <td>35.0</td>\n",
       "      <td>0.0337</td>\n",
       "    </tr>\n",
       "  </tbody>\n",
       "</table>\n",
       "</div>"
      ],
      "text/plain": [
       "    Dominant_Topic                                     Topic_Keywords  \\\n",
       "0             18.0  smith, moral, society, social, adam, wealth, n...   \n",
       "1             18.0  smith, moral, society, social, adam, wealth, n...   \n",
       "2              9.0  city, cities, project, private, cars, york, dr...   \n",
       "3              6.0  growth, labor, income, countries, workers, tra...   \n",
       "4             10.0  technology, machine, information, knowledge, b...   \n",
       "5             10.0  technology, machine, information, knowledge, b...   \n",
       "6             10.0  technology, machine, information, knowledge, b...   \n",
       "7             10.0  technology, machine, information, knowledge, b...   \n",
       "8             11.0  love, experience, watch, remember, attention, ...   \n",
       "9             11.0  love, experience, watch, remember, attention, ...   \n",
       "10            14.0  rate, monetary, rat, inflation, demand, supply...   \n",
       "11            14.0  rate, monetary, rat, inflation, demand, supply...   \n",
       "12             6.0  growth, labor, income, countries, workers, tra...   \n",
       "13             6.0  growth, labor, income, countries, workers, tra...   \n",
       "14            19.0  rule, constitution, property, contract, social...   \n",
       "15            15.0  history, country, europe, american, century, c...   \n",
       "16            10.0  technology, machine, information, knowledge, b...   \n",
       "17            10.0  technology, machine, information, knowledge, b...   \n",
       "18            14.0  rate, monetary, rat, inflation, demand, supply...   \n",
       "19             9.0  city, cities, project, private, cars, york, dr...   \n",
       "\n",
       "    Num_Documents  Perc_Documents  \n",
       "0            56.0          0.0538  \n",
       "1            49.0          0.0471  \n",
       "2            56.0          0.0538  \n",
       "3            48.0          0.0462  \n",
       "4            42.0          0.0404  \n",
       "5            21.0          0.0202  \n",
       "6           108.0          0.1038  \n",
       "7            35.0          0.0337  \n",
       "8            42.0          0.0404  \n",
       "9            40.0          0.0385  \n",
       "10           49.0          0.0471  \n",
       "11           52.0          0.0500  \n",
       "12           39.0          0.0375  \n",
       "13           88.0          0.0846  \n",
       "14           87.0          0.0837  \n",
       "15           39.0          0.0375  \n",
       "16           48.0          0.0462  \n",
       "17           58.0          0.0558  \n",
       "18           48.0          0.0462  \n",
       "19           35.0          0.0337  "
      ]
     },
     "execution_count": 46,
     "metadata": {},
     "output_type": "execute_result"
    }
   ],
   "source": [
    "#### Topic Distribution across Documents ####\n",
    "# Number of Documents for Each Topic\n",
    "topic_counts = df_topic_sents_keywords['Dominant_Topic'].value_counts()\n",
    "\n",
    "# Percentage of Documents for Each Topic\n",
    "topic_contribution = round(topic_counts/topic_counts.sum(), 4)\n",
    "\n",
    "# Topic Number and Keywords\n",
    "topic_num_keywords = df_topic_sents_keywords[['Dominant_Topic', 'Topic_Keywords']]\n",
    "\n",
    "# Concatenate Column wise\n",
    "df_dominant_topics = pd.concat([topic_num_keywords, topic_counts, topic_contribution], axis=1)\n",
    "\n",
    "# Change Column names\n",
    "df_dominant_topics.columns = ['Dominant_Topic', 'Topic_Keywords', 'Num_Documents', 'Perc_Documents']\n",
    "\n",
    "# Show\n",
    "df_dominant_topics.head(20)"
   ]
  }
 ],
 "metadata": {
  "kernelspec": {
   "display_name": "Python 3",
   "language": "python",
   "name": "python3"
  },
  "language_info": {
   "codemirror_mode": {
    "name": "ipython",
    "version": 3
   },
   "file_extension": ".py",
   "mimetype": "text/x-python",
   "name": "python",
   "nbconvert_exporter": "python",
   "pygments_lexer": "ipython3",
   "version": "3.6.2"
  }
 },
 "nbformat": 4,
 "nbformat_minor": 2
}
