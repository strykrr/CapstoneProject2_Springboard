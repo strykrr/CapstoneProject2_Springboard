{
 "cells": [
  {
   "cell_type": "code",
   "execution_count": 1,
   "metadata": {},
   "outputs": [
    {
     "name": "stderr",
     "output_type": "stream",
     "text": [
      "C:\\Users\\CHAITSU\\Anaconda3\\lib\\site-packages\\gensim\\utils.py:1197: UserWarning: detected Windows; aliasing chunkize to chunkize_serial\n",
      "  warnings.warn(\"detected Windows; aliasing chunkize to chunkize_serial\")\n"
     ]
    },
    {
     "name": "stdout",
     "output_type": "stream",
     "text": [
      "[nltk_data] Downloading package wordnet to\n",
      "[nltk_data]     C:\\Users\\CHAITSU\\AppData\\Roaming\\nltk_data...\n",
      "[nltk_data]   Package wordnet is already up-to-date!\n"
     ]
    }
   ],
   "source": [
    "import gensim\n",
    "from gensim.utils import simple_preprocess\n",
    "from gensim.parsing.preprocessing import STOPWORDS\n",
    "from nltk.stem import WordNetLemmatizer, SnowballStemmer\n",
    "from nltk.stem.porter import  *\n",
    "import numpy as np\n",
    "import pandas as pd\n",
    "from pprint import pprint\n",
    "np.random.seed(2018)\n",
    "\n",
    "import nltk\n",
    "nltk.download('wordnet')\n",
    "\n",
    "from gensim.models import CoherenceModel\n",
    "from gensim.models.wrappers.ldamallet import malletmodel2ldamodel\n",
    "\n",
    "# spacy for lemmatization\n",
    "#import spacy\n",
    "\n",
    "# Plotting tools\n",
    "import pyLDAvis\n",
    "import pyLDAvis.sklearn \n",
    "#import pyLDAvis.gensim\n",
    "#import pyLDAvis.graphlab\n",
    "#import pyLDAvis.graphlab as gl\n",
    "import matplotlib.pyplot as plt\n",
    "%matplotlib inline\n",
    "\n",
    "# Enable logging for gensim - optional\n",
    "import logging\n",
    "logging.basicConfig(format='%(asctime)s : %(levelname)s : %(message)s', level=logging.ERROR)\n",
    "\n",
    "import warnings\n",
    "warnings.filterwarnings(\"ignore\",category=DeprecationWarning)\n"
   ]
  },
  {
   "cell_type": "code",
   "execution_count": 8,
   "metadata": {
    "collapsed": true
   },
   "outputs": [],
   "source": [
    "# lemmatize the text to address thrird person words and convert verbs to simple present tense\n",
    "def lemmatize(text):\n",
    "    lemmatizer = WordNetLemmatizer()\n",
    "    return lemmatizer.lemmatize(text,pos='v')\n",
    "\n",
    "# preprocess to break senetences into words, lower case words and remove puntuation\n",
    "def preprocess(text):\n",
    "    result = []\n",
    "    for token in gensim.utils.simple_preprocess(text):\n",
    "        if token not in gensim.parsing.preprocessing.STOPWORDS and len(token) > 3:\n",
    "            result.append(lemmatize(token))\n",
    "    return result"
   ]
  },
  {
   "cell_type": "code",
   "execution_count": 26,
   "metadata": {},
   "outputs": [],
   "source": [
    "# Read multiple files from the directory and create the Tokens\n",
    "import glob\n",
    "import errno\n",
    "path = 'C:/Users/CHAITSU/Git_Repo/EconTalk/*.txt'\n",
    "files_list = glob.glob(path)\n",
    "processed_docs = []\n",
    "raw_docs=[]\n",
    "#print(files_list)\n",
    "for file in files_list:\n",
    "    try:\n",
    "        raw_docs.append(text_file)\n",
    "        with open(file,'r') as f:\n",
    "            processed_docs.append(preprocess(f.read()))\n",
    "    except Exception as e:\n",
    "            print(\"Error {0}\".format(str(e.args[0])).encode(\"utf-8\"))\n",
    "\n"
   ]
  },
  {
   "cell_type": "code",
   "execution_count": 49,
   "metadata": {},
   "outputs": [
    {
     "name": "stdout",
     "output_type": "stream",
     "text": [
      "Processed documents after lemmatization and removing Stopwords\n",
      "['intro', 'record', 'date', 'june', 'russ', 'ambitious', 'book', 'try', 'analyze', 'america', 'go', 'think', 'provoke', 'start', 'america', 'argue', 'republicans', 'democrats', 'suffer', 'nostalgia', 'past', 'explain', 'guest', 'right', 'book', 'begin', 'intense', 'frustration', 'overwhelm', 'public', 'life', 'america']\n"
     ]
    }
   ],
   "source": [
    "raw_docs=[]\n",
    "for file in files_list:\n",
    "    try:\n",
    "        text_file = open(file, \"r\")\n",
    "        lines = text_file.readlines()\n",
    "        raw_docs.append(lines)\n",
    "        text_file.close()\n",
    "    except Exception as e:\n",
    "            print(\"Error {0}\".format(str(e.args[0])).encode(\"utf-8\"))\n",
    "print(\"Processed documents after lemmatization and removing Stopwords\")\n",
    "print(processed_docs[0][:32])  "
   ]
  },
  {
   "cell_type": "code",
   "execution_count": 43,
   "metadata": {},
   "outputs": [
    {
     "name": "stdout",
     "output_type": "stream",
     "text": [
      "0 absolutely\n",
      "1 accept\n",
      "2 achieve\n",
      "3 acknowledge\n",
      "4 actually\n",
      "5 additions\n",
      "6 address\n",
      "7 advocate\n",
      "8 agenda\n",
      "9 agree\n",
      "10 alongside\n"
     ]
    }
   ],
   "source": [
    "#processed_docs = list(map(preprocess,doc_sample))\n",
    "dictionary = gensim.corpora.Dictionary(processed_docs)\n",
    "#print(processed_docs[3])\n",
    "count = 0\n",
    "for k, v in dictionary.iteritems():\n",
    "    print(k, v)\n",
    "    count += 1\n",
    "    if count > 10:\n",
    "        break"
   ]
  },
  {
   "cell_type": "code",
   "execution_count": 44,
   "metadata": {},
   "outputs": [
    {
     "name": "stdout",
     "output_type": "stream",
     "text": [
      "Dictionary(29463 unique tokens: ['absolutely', 'accept', 'achieve', 'acknowledge', 'additions']...)\n",
      "[(5, 1), (10, 10), (11, 15), (12, 3), (16, 6), (19, 8), (24, 4), (25, 1), (26, 2), (28, 1)]\n"
     ]
    }
   ],
   "source": [
    "# Frquency count of the words\n",
    "dictionary.filter_extremes(no_below=1, no_above=0.5, keep_n=100000)\n",
    "print(dictionary)\n",
    "bow_corpus = [dictionary.doc2bow(doc) for doc in processed_docs]\n",
    "print(bow_corpus[1][:10])"
   ]
  },
  {
   "cell_type": "code",
   "execution_count": 45,
   "metadata": {},
   "outputs": [
    {
     "name": "stdout",
     "output_type": "stream",
     "text": [
      "Word 5 (\"address\") appears 1 time.\n",
      "Word 10 (\"america\") appears 10 time.\n",
      "Word 11 (\"american\") appears 15 time.\n",
      "Word 12 (\"americans\") appears 3 time.\n",
      "Word 16 (\"appeal\") appears 6 time.\n",
      "Word 19 (\"approach\") appears 8 time.\n",
      "Word 24 (\"articulate\") appears 4 time.\n",
      "Word 25 (\"ask\") appears 1 time.\n",
      "Word 26 (\"associations\") appears 2 time.\n",
      "Word 28 (\"attitudes\") appears 1 time.\n",
      "Word 31 (\"backward\") appears 1 time.\n",
      "Word 34 (\"be\") appears 1 time.\n"
     ]
    }
   ],
   "source": [
    "# Display the Frequency of Word Counts from the Documnets\n",
    "bow_doc_1 = bow_corpus[1]\n",
    "for i in range(len(bow_doc_1)):\n",
    "    print(\"Word {} (\\\"{}\\\") appears {} time.\".format(bow_doc_1[i][0], \n",
    "                                               dictionary[bow_doc_1[i][0]], \n",
    "                                                     bow_doc_1[i][1]))\n",
    "    if i > 10:\n",
    "        break "
   ]
  },
  {
   "cell_type": "code",
   "execution_count": 50,
   "metadata": {},
   "outputs": [
    {
     "name": "stdout",
     "output_type": "stream",
     "text": [
      "[(0, 0.011138036522428679), (1, 0.0073929494950034898), (2, 0.035036335605631089), (3, 0.035406409501597132), (4, 0.035201604233899529), (5, 0.044845420349273718), (6, 0.012344724937143409), (7, 0.052025216640025268), (8, 0.023168516858227531), (9, 0.019631532983742699), (10, 0.089698780231477121), (11, 0.019214850601473415), (12, 0.040151661828693876), (13, 0.0097258309368538388), (14, 0.01725438526808467), (15, 0.030630228374548301), (16, 0.011176735053582338), (17, 0.013972792153664598), (18, 0.023074263900659964), (19, 0.014981893718923764)]\n"
     ]
    }
   ],
   "source": [
    "# Apply the TFIDF on the Corpus to add Weights\n",
    "from gensim import corpora, models\n",
    "tfidf = models.TfidfModel(bow_corpus)\n",
    "corpus_tfidf = tfidf[bow_corpus]\n",
    "print(corpus_tfidf[0][:20])"
   ]
  },
  {
   "cell_type": "code",
   "execution_count": 47,
   "metadata": {},
   "outputs": [
    {
     "name": "stdout",
     "output_type": "stream",
     "text": [
      "LDA Multicore using Term Frequencey/Bag of Words with 50 Iterations\n",
      "\n",
      "Perplexity:  -8.81633093226\n",
      "\n",
      "Coherence Score:  0.284944638799\n",
      "----------------------------------------------------------------------------------------------------------------------\n",
      "LDA Multicore using Term Frequencey/Bag of Words with 1000 Iterations\n",
      "\n",
      "Perplexity:  -8.69479286738\n",
      "\n",
      "Coherence Score:  0.326117334745\n",
      "----------------------------------------------------------------------------------------------------------------------\n"
     ]
    }
   ],
   "source": [
    "# using Term Frequencey/bag of words in LDA Model\n",
    "lda_model1 = gensim.models.LdaMulticore(bow_corpus, num_topics=20, id2word=dictionary, passes=2, workers=2,iterations=50)\n",
    "print(\"LDA Multicore using Term Frequencey/Bag of Words with 50 Iterations\")\n",
    "# Compute Perplexity\n",
    "print('\\nPerplexity: ', lda_model1.log_perplexity(bow_corpus))  # a measure of how good the model is. lower the better.\n",
    "\n",
    "# Compute Coherence Score\n",
    "coherence_model_lda = CoherenceModel(model=lda_model1, texts=processed_docs, dictionary=dictionary, coherence='c_v')\n",
    "coherence_lda = coherence_model_lda.get_coherence()\n",
    "print('\\nCoherence Score: ', coherence_lda)\n",
    "print(\"----------------------------------------------------------------------------------------------------------------------\")\n",
    "\n",
    "lda_model2 = gensim.models.LdaMulticore(bow_corpus, num_topics=20, id2word=dictionary, passes=2, workers=2,iterations=1000)\n",
    "print(\"LDA Multicore using Term Frequencey/Bag of Words with 1000 Iterations\")\n",
    "# Compute Perplexity\n",
    "print('\\nPerplexity: ', lda_model2.log_perplexity(bow_corpus))  # a measure of how good the model is. lower the better.\n",
    "\n",
    "# Compute Coherence Score\n",
    "coherence_model_lda = CoherenceModel(model=lda_model2, texts=processed_docs, dictionary=dictionary, coherence='c_v')\n",
    "coherence_lda = coherence_model_lda.get_coherence()\n",
    "print('\\nCoherence Score: ', coherence_lda)\n",
    "print(\"----------------------------------------------------------------------------------------------------------------------\")\n"
   ]
  },
  {
   "cell_type": "code",
   "execution_count": 48,
   "metadata": {},
   "outputs": [
    {
     "name": "stdout",
     "output_type": "stream",
     "text": [
      "LDA Multicore using TFIDF with 50 Iterations\n",
      "\n",
      "Perplexity:  -16.712187156\n",
      "\n",
      "Coherence Score:  0.390758809297\n",
      "----------------------------------------------------------------------------------------------------------------------\n",
      "LDA Multicore using TFIDF with 1000 Iterations\n",
      "\n",
      "Perplexity:  -16.505295558\n",
      "\n",
      "Coherence Score:  0.408270707219\n",
      "----------------------------------------------------------------------------------------------------------------------\n"
     ]
    }
   ],
   "source": [
    "# Build the LDA Multiocore Model using the TFIDF with  50 Iterations \n",
    "lda_model_tfidf1 = gensim.models.LdaMulticore(corpus_tfidf, num_topics=20, id2word=dictionary, passes=2, workers=4,iterations=50)\n",
    "#for idx, topic in lda_model_tfidf.print_topics(-1):\n",
    "#    print('Topic: {} Word: {}'.format(idx, topic))\n",
    "print(\"LDA Multicore using TFIDF with 50 Iterations\")\n",
    "# Compute Perplexity\n",
    "print('\\nPerplexity: ', lda_model_tfidf1.log_perplexity(corpus_tfidf))  # a measure of how good the model is. lower the better.\n",
    "\n",
    "# Compute Coherence Score\n",
    "coherence_model_lda = CoherenceModel(model=lda_model_tfidf1, texts=processed_docs, dictionary=dictionary, coherence='c_v')\n",
    "coherence_lda = coherence_model_lda.get_coherence()\n",
    "print('\\nCoherence Score: ', coherence_lda)\n",
    "print(\"----------------------------------------------------------------------------------------------------------------------\")\n",
    "\n",
    "# Build the LDA Multiocore Model using the TFIDF with  1000 Iterations \n",
    "lda_model_tfidf2 = gensim.models.LdaMulticore(corpus_tfidf, num_topics=20, id2word=dictionary, passes=2, workers=4,iterations=1000)\n",
    "print(\"LDA Multicore using TFIDF with 1000 Iterations\")\n",
    "# Compute Perplexity\n",
    "print('\\nPerplexity: ', lda_model_tfidf2.log_perplexity(corpus_tfidf))  # a measure of how good the model is. lower the better.\n",
    "\n",
    "# Compute Coherence Score\n",
    "coherence_model_lda = CoherenceModel(model=lda_model_tfidf2, texts=processed_docs, dictionary=dictionary, coherence='c_v')\n",
    "coherence_lda = coherence_model_lda.get_coherence()\n",
    "print('\\nCoherence Score: ', coherence_lda)\n",
    "print(\"----------------------------------------------------------------------------------------------------------------------\")\n",
    "\n"
   ]
  },
  {
   "cell_type": "code",
   "execution_count": 58,
   "metadata": {},
   "outputs": [
    {
     "data": {
      "text/plain": [
       "[(5, 0.57029849), (9, 0.10026167), (16, 0.18147592), (18, 0.13114551)]"
      ]
     },
     "execution_count": 58,
     "metadata": {},
     "output_type": "execute_result"
    }
   ],
   "source": [
    "lda_model_tfidf2.get_document_topics(bow_corpus[0])\n",
    "#print(processed_docs[0])\n",
    "lda_model_tfidf2.get_document_topics(bow_corpus[2])\n",
    "#print(processed_docs[2])"
   ]
  },
  {
   "cell_type": "code",
   "execution_count": 59,
   "metadata": {
    "collapsed": true
   },
   "outputs": [],
   "source": [
    "# Visualize the topics for the LDA Model with Number Topics as 20\n",
    "pyLDAvis.enable_notebook()\n",
    "#vis = pyLDAvis.sklearn.prepare(lda_model_tfidf2, bow_corpus, dictionary)\n",
    "vis = pyLDAvis.gensim.prepare(lda_model_tfidf2, bow_corpus, dictionary)\n",
    "from IPython.display import HTML\n",
    "HTML(filename=\"C:/Users/CHAITSU/Documents/LDAvis.html\")\n"
   ]
  },
  {
   "cell_type": "code",
   "execution_count": 1,
   "metadata": {
    "collapsed": true
   },
   "outputs": [],
   "source": [
    "#pyLDAvis.prepared_data_to_html(vis)\n",
    "#print(type(dir(vis)))\n",
    "#pprint(vis)\n",
    "\n",
    "#pyLDAvis.show(vis,local=True)\n",
    "#pyLDAvis.display(vis)"
   ]
  },
  {
   "cell_type": "code",
   "execution_count": 51,
   "metadata": {
    "collapsed": true
   },
   "outputs": [],
   "source": [
    "# Download File: http://mallet.cs.umass.edu/dist/mallet-2.0.8.zip\n",
    "import os\n",
    "os.environ.update({'MALLET_HOME': r'C:/Users/CHAITSU/mallet-2.0.8/'})\n",
    "mallet_path = 'C:/Users/CHAITSU/mallet-2.0.8/bin/mallet'\n",
    "ldamallet = gensim.models.wrappers.LdaMallet(mallet_path, corpus=bow_corpus, num_topics=20, id2word=dictionary,iterations=50)"
   ]
  },
  {
   "cell_type": "code",
   "execution_count": 52,
   "metadata": {},
   "outputs": [
    {
     "name": "stdout",
     "output_type": "stream",
     "text": [
      "(14,\n",
      " [('hayek', 0.023783783783783784),\n",
      "  ('knowledge', 0.01867740080506038),\n",
      "  ('theory', 0.016607245543415756),\n",
      "  ('ideas', 0.015204140310523289),\n",
      "  ('keynes', 0.0088786658999424964),\n",
      "  ('debate', 0.0076135710178263372),\n",
      "  ('friedman', 0.0071765382403680272),\n",
      "  ('produce', 0.0068315123634272567),\n",
      "  ('intellectual', 0.006417481311098332),\n",
      "  ('economist', 0.0063484761357101779)])\n",
      "\n",
      "Coherence Score:  0.504746756118\n"
     ]
    }
   ],
   "source": [
    "# Topic Distribution and Coherence using LDA Mallet Wrapper for a Random set of Topics\n",
    "pprint(ldamallet.show_topics(formatted=False)[5])\n",
    "\n",
    "# Compute Coherence Score\n",
    "coherence_model_ldamallet = CoherenceModel(model=ldamallet, texts=processed_docs, dictionary=dictionary, coherence='c_v')\n",
    "coherence_ldamallet = coherence_model_ldamallet.get_coherence()\n",
    "print('\\nCoherence Score: ', coherence_ldamallet)"
   ]
  },
  {
   "cell_type": "code",
   "execution_count": 53,
   "metadata": {
    "collapsed": true
   },
   "outputs": [],
   "source": [
    "# Build a model to compute Coherence score for different set of Topics Using LDA Mallet Wrapper\n",
    "def mallet_coherence_score(dictionary, corpus, texts, limit=40, start=2, step=6):\n",
    "    coherence_values = []\n",
    "    model_list = []\n",
    "    for num_topics in range(start, limit, step):\n",
    "        model = gensim.models.wrappers.LdaMallet(mallet_path, corpus=bow_corpus, num_topics=num_topics, id2word=dictionary,\n",
    "                                                 iterations=1000)\n",
    "        model_list.append(model)\n",
    "        coherencemodel = CoherenceModel(model=model, texts=processed_docs, dictionary=dictionary, coherence='c_v')\n",
    "        coherence_values.append(coherencemodel.get_coherence())\n",
    "    return model_list, coherence_values"
   ]
  },
  {
   "cell_type": "code",
   "execution_count": 54,
   "metadata": {
    "collapsed": true
   },
   "outputs": [],
   "source": [
    "model_list1, coherence_values1 = mallet_coherence_score(dictionary=dictionary, corpus=bow_corpus, texts=processed_docs, start=2, limit=40, step=6)"
   ]
  },
  {
   "cell_type": "code",
   "execution_count": 55,
   "metadata": {},
   "outputs": [
    {
     "data": {
      "image/png": "[encoded data removed]",
      "text/plain": [
       "<matplotlib.figure.Figure at 0x8374868828>"
      ]
     },
     "metadata": {},
     "output_type": "display_data"
    }
   ],
   "source": [
    "# Compare the Coherence score for different Topics\n",
    "limit=40; start=2; step=6;\n",
    "x = range(start, limit, step)\n",
    "plt.plot(x, coherence_values1)\n",
    "plt.xlabel(\"Num Topics\")\n",
    "plt.ylabel(\"Coherence score\")\n",
    "plt.legend((\"coherence_values\"), loc='best')\n",
    "plt.show()"
   ]
  },
  {
   "cell_type": "code",
   "execution_count": 56,
   "metadata": {},
   "outputs": [
    {
     "name": "stdout",
     "output_type": "stream",
     "text": [
      "Num Topics = 2  has Coherence Value of 0.3628\n",
      "Num Topics = 8  has Coherence Value of 0.4829\n",
      "Num Topics = 14  has Coherence Value of 0.5545\n",
      "Num Topics = 20  has Coherence Value of 0.5511\n",
      "Num Topics = 26  has Coherence Value of 0.581\n",
      "Num Topics = 32  has Coherence Value of 0.5444\n",
      "Num Topics = 38  has Coherence Value of 0.5662\n"
     ]
    }
   ],
   "source": [
    "# Print the coherence scores\n",
    "for m, cv in zip(x, coherence_values1):\n",
    "    print(\"Num Topics =\", m, \" has Coherence Value of\", round(cv, 4))"
   ]
  },
  {
   "cell_type": "code",
   "execution_count": 144,
   "metadata": {},
   "outputs": [
    {
     "name": "stdout",
     "output_type": "stream",
     "text": [
      "[(6,\n",
      "  '0.011*\"europe\" + 0.010*\"british\" + 0.010*\"history\" + 0.009*\"century\" + '\n",
      "  '0.009*\"king\" + 0.009*\"england\" + 0.008*\"germany\" + 0.008*\"church\" + '\n",
      "  '0.008*\"country\" + 0.007*\"slave\"'),\n",
      " (10,\n",
      "  '0.041*\"food\" + 0.016*\"farm\" + 0.011*\"farmers\" + 0.010*\"land\" + 0.009*\"fish\" '\n",
      "  '+ 0.009*\"corn\" + 0.008*\"plant\" + 0.006*\"cook\" + 0.006*\"local\" + '\n",
      "  '0.006*\"agriculture\"'),\n",
      " (12,\n",
      "  '0.019*\"technology\" + 0.019*\"machine\" + 0.012*\"brain\" + 0.010*\"knowledge\" + '\n",
      "  '0.008*\"science\" + 0.007*\"intelligence\" + 0.007*\"information\" + '\n",
      "  '0.006*\"imagine\" + 0.006*\"humans\" + 0.006*\"drive\"'),\n",
      " (15,\n",
      "  '0.014*\"regulation\" + 0.014*\"competition\" + 0.013*\"innovation\" + '\n",
      "  '0.013*\"license\" + 0.012*\"private\" + 0.011*\"industry\" + 0.008*\"sector\" + '\n",
      "  '0.008*\"patent\" + 0.007*\"service\" + 0.007*\"regulatory\"'),\n",
      " (7,\n",
      "  '0.026*\"risk\" + 0.016*\"game\" + 0.010*\"taleb\" + 0.009*\"nassim\" + '\n",
      "  '0.009*\"probability\" + 0.009*\"skin\" + 0.008*\"tail\" + 0.008*\"nicholas\" + '\n",
      "  '0.007*\"model\" + 0.006*\"mistake\"'),\n",
      " (18,\n",
      "  '0.037*\"smith\" + 0.023*\"moral\" + 0.013*\"adam\" + 0.010*\"society\" + '\n",
      "  '0.010*\"theory\" + 0.009*\"wealth\" + 0.008*\"social\" + 0.007*\"hume\" + '\n",
      "  '0.006*\"sentiments\" + 0.006*\"nature\"'),\n",
      " (4,\n",
      "  '0.030*\"hayek\" + 0.021*\"theory\" + 0.014*\"keynes\" + 0.011*\"model\" + '\n",
      "  '0.010*\"friedman\" + 0.010*\"ideas\" + 0.009*\"debate\" + 0.008*\"knowledge\" + '\n",
      "  '0.008*\"economist\" + 0.007*\"firm\"'),\n",
      " (2,\n",
      "  '0.022*\"vote\" + 0.016*\"party\" + 0.015*\"president\" + 0.015*\"congress\" + '\n",
      "  '0.013*\"tax\" + 0.010*\"federal\" + 0.009*\"security\" + 0.008*\"election\" + '\n",
      "  '0.008*\"obama\" + 0.007*\"budget\"'),\n",
      " (13,\n",
      "  '0.024*\"bitcoin\" + 0.018*\"trust\" + 0.014*\"dollars\" + 0.011*\"send\" + '\n",
      "  '0.010*\"credit\" + 0.009*\"private\" + 0.008*\"bitcoins\" + 0.008*\"foundation\" + '\n",
      "  '0.007*\"million\" + 0.007*\"check\"'),\n",
      " (1,\n",
      "  '0.020*\"rate\" + 0.019*\"monetary\" + 0.019*\"rat\" + 0.016*\"inflation\" + '\n",
      "  '0.014*\"bank\" + 0.011*\"reserve\" + 0.011*\"supply\" + 0.011*\"demand\" + '\n",
      "  '0.009*\"recession\" + 0.008*\"depression\"'),\n",
      " (24,\n",
      "  '0.029*\"city\" + 0.020*\"cities\" + 0.013*\"land\" + 0.012*\"york\" + '\n",
      "  '0.012*\"project\" + 0.011*\"private\" + 0.011*\"park\" + 0.009*\"area\" + '\n",
      "  '0.008*\"drive\" + 0.008*\"areas\"'),\n",
      " (0,\n",
      "  '0.041*\"countries\" + 0.021*\"growth\" + 0.020*\"trade\" + 0.019*\"country\" + '\n",
      "  '0.018*\"poor\" + 0.014*\"china\" + 0.013*\"development\" + 0.010*\"poverty\" + '\n",
      "  '0.009*\"develop\" + 0.009*\"india\"'),\n",
      " (23,\n",
      "  '0.056*\"bank\" + 0.020*\"financial\" + 0.018*\"risk\" + 0.014*\"crisis\" + '\n",
      "  '0.013*\"loan\" + 0.012*\"fund\" + 0.012*\"capital\" + 0.010*\"debt\" + '\n",
      "  '0.010*\"mortgage\" + 0.010*\"assets\"'),\n",
      " (9,\n",
      "  '0.081*\"school\" + 0.032*\"education\" + 0.025*\"teach\" + 0.021*\"students\" + '\n",
      "  '0.020*\"class\" + 0.017*\"teachers\" + 0.017*\"kid\" + 0.015*\"test\" + '\n",
      "  '0.015*\"college\" + 0.012*\"teacher\"'),\n",
      " (17,\n",
      "  '0.028*\"water\" + 0.016*\"climate\" + 0.015*\"energy\" + 0.013*\"carbon\" + '\n",
      "  '0.010*\"natural\" + 0.008*\"warm\" + 0.008*\"earth\" + 0.007*\"global\" + '\n",
      "  '0.007*\"environmental\" + 0.007*\"model\"'),\n",
      " (8,\n",
      "  '0.015*\"body\" + 0.013*\"sugar\" + 0.012*\"kidney\" + 0.011*\"diet\" + '\n",
      "  '0.010*\"disease\" + 0.009*\"heart\" + 0.009*\"weight\" + 0.008*\"obesity\" + '\n",
      "  '0.008*\"exercise\" + 0.007*\"eat\"'),\n",
      " (19,\n",
      "  '0.023*\"children\" + 0.019*\"women\" + 0.019*\"kid\" + 0.015*\"parent\" + '\n",
      "  '0.011*\"child\" + 0.011*\"family\" + 0.008*\"baby\" + 0.007*\"happy\" + '\n",
      "  '0.006*\"difference\" + 0.005*\"wife\"'),\n",
      " (11,\n",
      "  '0.039*\"drug\" + 0.037*\"health\" + 0.027*\"doctor\" + 0.020*\"insurance\" + '\n",
      "  '0.017*\"medical\" + 0.014*\"company\" + 0.011*\"patients\" + 0.010*\"medicine\" + '\n",
      "  '0.009*\"cancer\" + 0.009*\"patient\"'),\n",
      " (16,\n",
      "  '0.016*\"society\" + 0.015*\"social\" + 0.007*\"american\" + 0.007*\"politics\" + '\n",
      "  '0.006*\"capitalism\" + 0.006*\"freedom\" + 0.006*\"history\" + 0.006*\"respect\" + '\n",
      "  '0.006*\"ideas\" + 0.006*\"liberal\"'),\n",
      " (22,\n",
      "  '0.018*\"game\" + 0.015*\"sport\" + 0.015*\"team\" + 0.009*\"baseball\" + '\n",
      "  '0.008*\"players\" + 0.008*\"football\" + 0.008*\"player\" + 0.005*\"watch\" + '\n",
      "  '0.005*\"love\" + 0.005*\"run\"')]\n"
     ]
    }
   ],
   "source": [
    "# Select the model and print the topics\n",
    "optimal_model1 = model_list1[4]\n",
    "#model_topics = optimal_model1.show_topics(formatted=False)\n",
    "pprint(optimal_model1.print_topics(num_words=10))"
   ]
  },
  {
   "cell_type": "code",
   "execution_count": null,
   "metadata": {
    "collapsed": true
   },
   "outputs": [],
   "source": [
    "'optimize_interval',\n",
    " 'prefix',\n",
    " 'print_topic',\n",
    " 'print_topics',\n",
    " 'read_doctopics',\n",
    " 'save',\n",
    " 'show_topic',\n",
    " 'show_topics',\n",
    " 'topic_threshold',\n",
    " 'train',\n",
    " 'word_topics',\n",
    " 'wordtopics',\n",
    " 'workers']"
   ]
  },
  {
   "cell_type": "code",
   "execution_count": 86,
   "metadata": {},
   "outputs": [
    {
     "name": "stdout",
     "output_type": "stream",
     "text": [
      "<generator object LdaMallet.read_doctopics at 0x000000837FEE7D00>\n"
     ]
    }
   ],
   "source": [
    "doctopics = optimal_model1.read_doctopics(fname, eps=1e-06, renorm=True)\n",
    "print(doctopics)"
   ]
  },
  {
   "cell_type": "code",
   "execution_count": 83,
   "metadata": {
    "collapsed": true
   },
   "outputs": [],
   "source": [
    "fname = optimal_model1.fdoctopics()"
   ]
  },
  {
   "cell_type": "code",
   "execution_count": 38,
   "metadata": {
    "collapsed": true
   },
   "outputs": [],
   "source": [
    "# Convert LDA Mallet to LDA model to compute Coherence score for Visualizationa and comparision of Coherence Scores\n",
    "def mallet2lda_coherence_scores(dictionary, corpus, texts, limit=40, start=2, step=6):\n",
    "    coherence_values = []\n",
    "    model_list = []\n",
    "    for num_topics in range(start, limit, step):\n",
    "        mallet_model = gensim.models.wrappers.LdaMallet(mallet_path, corpus=bow_corpus, num_topics=num_topics, id2word=dictionary,\n",
    "                                                 iterations=1000)\n",
    "        lda_model = malletmodel2ldamodel(mallet_model)\n",
    "        model_list.append(lda_model)\n",
    "        coherencemodel = CoherenceModel(model=lda_model, texts=processed_docs, dictionary=dictionary, coherence='c_v')\n",
    "        coherence_values.append(coherencemodel.get_coherence())\n",
    "    return model_list, coherence_values"
   ]
  },
  {
   "cell_type": "code",
   "execution_count": 39,
   "metadata": {
    "collapsed": true
   },
   "outputs": [],
   "source": [
    "model_list2, coherence_values2 = mallet2lda_coherence_scores(dictionary=dictionary, corpus=bow_corpus, texts=processed_docs, start=2, limit=40, step=6)"
   ]
  },
  {
   "cell_type": "code",
   "execution_count": 40,
   "metadata": {},
   "outputs": [
    {
     "data": {
      "image/png": "[encoded data removed]",
      "text/plain": [
       "<matplotlib.figure.Figure object at 0x000000F14B9A9588>"
      ]
     },
     "metadata": {},
     "output_type": "display_data"
    }
   ],
   "source": [
    "# Compare the Coherence score for different Topics\n",
    "limit=40; start=2; step=6;\n",
    "x = range(start, limit, step)\n",
    "plt.plot(x, coherence_values2)\n",
    "plt.xlabel(\"Num Topics\")\n",
    "plt.ylabel(\"Coherence score\")\n",
    "plt.legend((\"coherence_values\"), loc='best')\n",
    "plt.show()"
   ]
  },
  {
   "cell_type": "code",
   "execution_count": 41,
   "metadata": {},
   "outputs": [
    {
     "name": "stdout",
     "output_type": "stream",
     "text": [
      "Num Topics = 2  has Coherence Value of 0.7394\n",
      "Num Topics = 8  has Coherence Value of 0.7067\n",
      "Num Topics = 14  has Coherence Value of 0.7001\n",
      "Num Topics = 20  has Coherence Value of 0.7048\n",
      "Num Topics = 26  has Coherence Value of 0.7138\n",
      "Num Topics = 32  has Coherence Value of 0.7104\n",
      "Num Topics = 38  has Coherence Value of 0.7076\n"
     ]
    }
   ],
   "source": [
    "# Print the coherence scores\n",
    "for m, cv in zip(x, coherence_values2):\n",
    "    print(\"Num Topics =\", m, \" has Coherence Value of\", round(cv, 4))"
   ]
  },
  {
   "cell_type": "code",
   "execution_count": 125,
   "metadata": {
    "collapsed": true
   },
   "outputs": [],
   "source": [
    "#dir(tm2)\n",
    "#optimal_model = model_list2[3]\n",
    "#vis2 = pyLDAvis.gensim.prepare(optimal_model, bow_corpus, dictionary) \n",
    "#pyLDAvis.show(vis2)"
   ]
  },
  {
   "cell_type": "code",
   "execution_count": 43,
   "metadata": {},
   "outputs": [
    {
     "name": "stdout",
     "output_type": "stream",
     "text": [
      "[(0,\n",
      "  '0.000*\"foment\" + 0.000*\"toothache\" + 0.000*\"overindulge\" + '\n",
      "  '0.000*\"untethered\" + 0.000*\"subcategory\" + 0.000*\"equal\" + 0.000*\"husk\" + '\n",
      "  '0.000*\"cellblock\" + 0.000*\"banners\" + 0.000*\"conventions\"'),\n",
      " (1,\n",
      "  '0.000*\"embracement\" + 0.000*\"whammy\" + 0.000*\"motto\" + 0.000*\"nevadan\" + '\n",
      "  '0.000*\"smellular\" + 0.000*\"wary\" + 0.000*\"toothpick\" + 0.000*\"redistribute\" '\n",
      "  '+ 0.000*\"scratchy\" + 0.000*\"informants\"'),\n",
      " (2,\n",
      "  '0.000*\"whomsoever\" + 0.000*\"microns\" + 0.000*\"abnormalities\" + '\n",
      "  '0.000*\"burnham\" + 0.000*\"mortensen\" + 0.000*\"militant\" + 0.000*\"mccord\" + '\n",
      "  '0.000*\"hotbot\" + 0.000*\"arcana\" + 0.000*\"yugoslavia\"'),\n",
      " (3,\n",
      "  '0.000*\"fenway\" + 0.000*\"addendum\" + 0.000*\"rottenberg\" + 0.000*\"carole\" + '\n",
      "  '0.000*\"reservations\" + 0.000*\"shaquille\" + 0.000*\"forgettable\" + '\n",
      "  '0.000*\"admire\" + 0.000*\"darpa\" + 0.000*\"sleeves\"'),\n",
      " (4,\n",
      "  '0.000*\"laborer\" + 0.000*\"toilets\" + 0.000*\"arbiter\" + 0.000*\"heroine\" + '\n",
      "  '0.000*\"syrups\" + 0.000*\"reagan\" + 0.000*\"dcatch\" + 0.000*\"unchangeable\" + '\n",
      "  '0.000*\"sirloin\" + 0.000*\"republic\"')]\n"
     ]
    }
   ],
   "source": [
    "# Select the model and print the topics\n",
    "optimal_model2 = model_list2[3]\n",
    "#model_topics = optimal_model2.show_topics(formatted=False)\n",
    "pprint(optimal_model2.print_topics(num_words=10)[:5])"
   ]
  },
  {
   "cell_type": "code",
   "execution_count": 130,
   "metadata": {},
   "outputs": [],
   "source": [
    "#  increase width and mumber of line in columns\n",
    "from notebook.services.config import ConfigManager\n",
    "cm = ConfigManager().update('notebook', {'limit_output': 10000})\n",
    "pd.set_option('display.max_rows', 500)\n",
    "pd.set_option('display.max_columns', 500)\n",
    "pd.set_option('display.max_colwidth', 1000)\n",
    "pd.set_option('display.width', 100000)\n",
    "pd.set_option('display.expand_frame_repr', {'currently': True})\n"
   ]
  },
  {
   "cell_type": "code",
   "execution_count": 141,
   "metadata": {},
   "outputs": [
    {
     "data": {
      "text/html": [
       "<div>\n",
       "<style>\n",
       "    .dataframe thead tr:only-child th {\n",
       "        text-align: right;\n",
       "    }\n",
       "\n",
       "    .dataframe thead th {\n",
       "        text-align: left;\n",
       "    }\n",
       "\n",
       "    .dataframe tbody tr th {\n",
       "        vertical-align: top;\n",
       "    }\n",
       "</style>\n",
       "<table border=\"1\" class=\"dataframe\">\n",
       "  <thead>\n",
       "    <tr style=\"text-align: right;\">\n",
       "      <th></th>\n",
       "      <th>Document_No</th>\n",
       "      <th>Dominant_Topic</th>\n",
       "      <th>Topic_Perc_Contrib</th>\n",
       "      <th>Keywords</th>\n",
       "      <th>Text</th>\n",
       "    </tr>\n",
       "  </thead>\n",
       "  <tbody>\n",
       "    <tr>\n",
       "      <th>0</th>\n",
       "      <td>0</td>\n",
       "      <td>16.0</td>\n",
       "      <td>0.5130</td>\n",
       "      <td>society, social, american, politics, capitalism, freedom, history, respect, ideas, liberal</td>\n",
       "      <td>[intro, record, date, june, russ, ambitious, book, try, analyze, america, go, think, provoke, start, america, argue, republicans, democrats, suffer, nostalgia, past, explain, guest, right, book, begin, intense, frustration, overwhelm, public, life, america, evident, politics, ways, things, want, understand, kind, frustration, source, listen, express, politics, listen, political, life, drench, kind, nostalgia, widely, share, sense, america, express, slogans, hear, politics, lose, grind, fast, peak, americans, remember, exactly, peak, vary, republicans, democrats, people, leave, peak, century, america, moment, enormous, confidence, large, institutions, government, labor, business, solve, kinds, challenge, alongside, liberalize, culture, people, right, miss, time, york, time, april, ask, donald, trump, america, great, ...]</td>\n",
       "    </tr>\n",
       "    <tr>\n",
       "      <th>1</th>\n",
       "      <td>1</td>\n",
       "      <td>16.0</td>\n",
       "      <td>0.5307</td>\n",
       "      <td>society, social, american, politics, capitalism, freedom, history, respect, ideas, liberal</td>\n",
       "      <td>[russ, talk, minute, feedback, loop, problems, welfare, state, get, bigger, private, ways, help, get, smaller, charity, family, incentives, marry, smaller, need, spouse, thrive, economically, extent, problems, self, create, economist, look, underlie, economic, force, market, force, cultural, economic, dynamism, economy, mainly, good, thing, unleash, policy, responses, think, problem, worse, create, demand, think, need, education, failure, failure, aren, root, problem, symptom, guest, think, root, maybe, slightly, different, force, operate, society, virtue, free, society, force, encourage, think, isolate, individuals, discourage, think, understand, human, flourish, kind, social, order, think, instead, flourish, individual, truth, society, wealthy, successful, dangerous, especially, come, people, live, go, people, need, ...]</td>\n",
       "    </tr>\n",
       "    <tr>\n",
       "      <th>2</th>\n",
       "      <td>2</td>\n",
       "      <td>3.0</td>\n",
       "      <td>0.1932</td>\n",
       "      <td>sell, store, profit, service, charge, buy, restaurant, uber, tip, wait</td>\n",
       "      <td>[intro, record, date, june, russ, topic, today, inequality, base, thoughtful, piece, write, reaction, article, york, time, york, time, article, bemoan, fact, norwegian, cruise, line, create, separate, status, cruise, elite, guests, turn, better, treatment, passengers, fancier, cabin, better, amenities, extent, physically, isolate, mass, know, right, word, cruise, ship, passengers, ironies, article, article, criticize, physical, isolation, different, class, interest, question, concern, socially, point, author, misunderstand, economics, situation, miss, guest, thing, account, seriously, notion, reveal, preferences, huge, indignity, respect, people, cruise, ship, expect, basic, demand, evaporate, elite, group, get, pamper, like, mean, people, boat, guess, plus, regard, modest, amenity, people, little, star, glitter, ...]</td>\n",
       "    </tr>\n",
       "    <tr>\n",
       "      <th>3</th>\n",
       "      <td>3</td>\n",
       "      <td>21.0</td>\n",
       "      <td>0.2115</td>\n",
       "      <td>income, labor, workers, job, growth, wage, measure, earn, wag, inequality</td>\n",
       "      <td>[russ, actually, make, clear, try, away, little, fix, cost, point, make, go, rephrase, go, push, general, feel, resentment, point, make, class, versus, coach, easily, see, automobile, fix, phenomenon, little, research, development, know, drive, honda, accord, drive, lexus, drive, ferrari, know, richard, know, guest, love, ferrari, russ, know, live, urban, guest, york, russ, poor, fellow, go, honda, fabulous, line, lexus, remarkably, great, fraction, price, think, remark, market, force, give, lower, market, dregs, incredibly, high, quality, products, cellphone, trip, country, airplane, fact, seat, little, cramp, major, issue, want, complainers, go, push, earlier, point, think, motivate, feel, confession, people, earn, money, robert, frank, ...]</td>\n",
       "    </tr>\n",
       "    <tr>\n",
       "      <th>4</th>\n",
       "      <td>4</td>\n",
       "      <td>12.0</td>\n",
       "      <td>0.3620</td>\n",
       "      <td>technology, machine, brain, knowledge, science, intelligence, information, imagine, humans, drive</td>\n",
       "      <td>[intro, record, date, june, russ, inevitable, great, book, book, read, single, word, succeed, host, time, able, despite, short, time, read, book, savor, vivid, snapshot, present, beautifully, write, speculation, head, provocative, mind, blow, true, go, touch, trend, go, start, chapter, call, argue, look, today, years, feel, like, look, great, hang, fruit, easy, come, stuff, certain, malaise, feel, look, technology, today, people, think, know, fly, cars, twitter, bunch, social, media, optimistic, present, potential, future, guest, read, history, look, go, optimistic, improvements, tend, overcome, problems, introduce, technology, introduce, host, problems, haven, general, think, look, history, optimistic, allow, look, future, russ, kind, internet, thing, ...]</td>\n",
       "    </tr>\n",
       "    <tr>\n",
       "      <th>5</th>\n",
       "      <td>5</td>\n",
       "      <td>20.0</td>\n",
       "      <td>0.3243</td>\n",
       "      <td>company, internet, google, information, product, search, online, amazon, phone, share</td>\n",
       "      <td>[russ, okay, point, people, book, human, be, people, screen, course, mean, death, read, point, like, point, people, read, probably, human, history, order, magnitude, read, blow, novels, history, book, read, kinds, things, wonderful, point, observation, differ, look, solve, problems, people, book, versus, people, screen, versus, technology, talk, guest, yeah, general, thesis, people, book, book, kind, fix, finish, precise, immutable, monumental, case, text, foundation, western, civilization, extent, eastern, civilization, thousand, document, country, know, constitution, bible, book, author, root, authority, authority, come, author, kind, orientation, have, cheap, access, book, public, libraries, literacy, read, write, produce, incredible, know, year, explosion, civilization, mean, sort, ways, ...]</td>\n",
       "    </tr>\n",
       "    <tr>\n",
       "      <th>6</th>\n",
       "      <td>6</td>\n",
       "      <td>12.0</td>\n",
       "      <td>0.3434</td>\n",
       "      <td>technology, machine, brain, knowledge, science, intelligence, information, imagine, humans, drive</td>\n",
       "      <td>[intro, record, date, russ, practical, work, question, preserve, digital, content, library, congress, national, science, foundation, task, force, open, book, digital, piece, america, heritage, declaration, independence, learn, people, react, see, artifact, guest, time, work, library, congress, hold, rough, draft, declaration, independence, know, official, document, declaration, independence, constitution, permanent, display, national, archive, tourists, people, think, declaration, independence, constitution, naturally, document, weren, bear, head, founder, actually, craft, work, time, case, declaration, independence, actually, come, statement, short, period, time, express, turn, retrospect, understand, completely, revolutionary, ideas, rough, draft, declaration, independence, library, congress, display, exhibition, page, hand, write, thomas, jefferson, handwrite, committee, draft, naturally, youngest, ...]</td>\n",
       "    </tr>\n",
       "    <tr>\n",
       "      <th>7</th>\n",
       "      <td>7</td>\n",
       "      <td>20.0</td>\n",
       "      <td>0.2727</td>\n",
       "      <td>company, internet, google, information, product, search, online, amazon, phone, share</td>\n",
       "      <td>[russ, want, twitter, question, mention, book, shock, spend, rest, time, spend, rest, time, talk, fact, twitter, get, correct, give, years, tweet, library, congress, things, include, own, tweet, aren, course, deal, issue, book, talk, twitter, actually, valuable, guest, twitter, valuable, question, announce, twitter, library, congress, reach, agreement, archive, archive, archive, tweet, reactions, like, garbage, library, congress, thomas, jefferson, paper, keep, twitter, people, twitter, data, away, realize, course, control, data, control, personal, email, gmail, mean, things, need, deal, russ, think, guest, yeah, think, deceptive, information, commercial, company, allow, away, monetize, nother, discussion, months, announcement, gift, cooperation, agreement, arab, spring, begin, tahrir, square, ...]</td>\n",
       "    </tr>\n",
       "    <tr>\n",
       "      <th>8</th>\n",
       "      <td>8</td>\n",
       "      <td>23.0</td>\n",
       "      <td>0.1483</td>\n",
       "      <td>bank, financial, risk, crisis, loan, fund, capital, debt, mortgage, assets</td>\n",
       "      <td>[intro, record, date, russ, ambrose, bierce, book, devil, dictionary, write, homage, bierce, good, guest, try, channel, pretense, cynical, good, writer, certainly, try, write, spirit, russ, go, book, minute, want, listeners, know, ambrose, bierce, amazingly, entertain, clever, fellow, nineteenth, century, right, guest, yeah, exact, contemporary, mark, twain, think, bear, believe, die, know, russ, sure, russ, appreciate, assumption, know, talk, want, quote, bierce, couple, time, people, flavor, bierce, think, know, certainly, know, encourage, listeners, check, book, jason, define, book, devil, dictionary, definitions, common, term, definition, politics, politics, strife, interest, masquerade, contest, principles, conduct, public, affairs, private, advantage, think, deep, true, define, egotist, ...]</td>\n",
       "    </tr>\n",
       "    <tr>\n",
       "      <th>9</th>\n",
       "      <td>9</td>\n",
       "      <td>23.0</td>\n",
       "      <td>0.1847</td>\n",
       "      <td>bank, financial, risk, crisis, loan, fund, capital, debt, mortgage, assets</td>\n",
       "      <td>[russ, want, read, definition, read, definition, bright, line, book, bright, line, line, divide, ethical, unethical, behavior, blur, dull, simplest, bright, line, rule, bright, line, test, answer, question, mother, proud, know, wall, street, voice, audible, urgently, need, listen, financial, industry, harbor, darkness, action, pass, bright, line, test, like, remind, little, adam, smith, impartial, spectator, smith, note, heat, moment, spectator, hard, hear, unethical, want, want, direction, think, wall, street, easily, crisis, failure, ethically, things, ashamed, guest, hard, think, thing, start, come, society, guess, think, american, society, particular, familiar, europe, asia, society, miss, financial, crisis, think, nation, crash, public, hang, term, metaphorically, obviously, ...]</td>\n",
       "    </tr>\n",
       "  </tbody>\n",
       "</table>\n",
       "</div>"
      ],
      "text/plain": [
       "   Document_No  Dominant_Topic  Topic_Perc_Contrib                                                                                           Keywords                                                                                                                                                                                                                                                                                                                                                                                                                                                                                                                                                                                                                                                                                                                                                                                                                                                                                                                                                     Text\n",
       "0            0            16.0              0.5130         society, social, american, politics, capitalism, freedom, history, respect, ideas, liberal                                                                                          [intro, record, date, june, russ, ambitious, book, try, analyze, america, go, think, provoke, start, america, argue, republicans, democrats, suffer, nostalgia, past, explain, guest, right, book, begin, intense, frustration, overwhelm, public, life, america, evident, politics, ways, things, want, understand, kind, frustration, source, listen, express, politics, listen, political, life, drench, kind, nostalgia, widely, share, sense, america, express, slogans, hear, politics, lose, grind, fast, peak, americans, remember, exactly, peak, vary, republicans, democrats, people, leave, peak, century, america, moment, enormous, confidence, large, institutions, government, labor, business, solve, kinds, challenge, alongside, liberalize, culture, people, right, miss, time, york, time, april, ask, donald, trump, america, great, ...]\n",
       "1            1            16.0              0.5307         society, social, american, politics, capitalism, freedom, history, respect, ideas, liberal                                                                                       [russ, talk, minute, feedback, loop, problems, welfare, state, get, bigger, private, ways, help, get, smaller, charity, family, incentives, marry, smaller, need, spouse, thrive, economically, extent, problems, self, create, economist, look, underlie, economic, force, market, force, cultural, economic, dynamism, economy, mainly, good, thing, unleash, policy, responses, think, problem, worse, create, demand, think, need, education, failure, failure, aren, root, problem, symptom, guest, think, root, maybe, slightly, different, force, operate, society, virtue, free, society, force, encourage, think, isolate, individuals, discourage, think, understand, human, flourish, kind, social, order, think, instead, flourish, individual, truth, society, wealthy, successful, dangerous, especially, come, people, live, go, people, need, ...]\n",
       "2            2             3.0              0.1932                             sell, store, profit, service, charge, buy, restaurant, uber, tip, wait                                                                                            [intro, record, date, june, russ, topic, today, inequality, base, thoughtful, piece, write, reaction, article, york, time, york, time, article, bemoan, fact, norwegian, cruise, line, create, separate, status, cruise, elite, guests, turn, better, treatment, passengers, fancier, cabin, better, amenities, extent, physically, isolate, mass, know, right, word, cruise, ship, passengers, ironies, article, article, criticize, physical, isolation, different, class, interest, question, concern, socially, point, author, misunderstand, economics, situation, miss, guest, thing, account, seriously, notion, reveal, preferences, huge, indignity, respect, people, cruise, ship, expect, basic, demand, evaporate, elite, group, get, pamper, like, mean, people, boat, guess, plus, regard, modest, amenity, people, little, star, glitter, ...]\n",
       "3            3            21.0              0.2115                          income, labor, workers, job, growth, wage, measure, earn, wag, inequality                                                                                                                                                                        [russ, actually, make, clear, try, away, little, fix, cost, point, make, go, rephrase, go, push, general, feel, resentment, point, make, class, versus, coach, easily, see, automobile, fix, phenomenon, little, research, development, know, drive, honda, accord, drive, lexus, drive, ferrari, know, richard, know, guest, love, ferrari, russ, know, live, urban, guest, york, russ, poor, fellow, go, honda, fabulous, line, lexus, remarkably, great, fraction, price, think, remark, market, force, give, lower, market, dregs, incredibly, high, quality, products, cellphone, trip, country, airplane, fact, seat, little, cramp, major, issue, want, complainers, go, push, earlier, point, think, motivate, feel, confession, people, earn, money, robert, frank, ...]\n",
       "4            4            12.0              0.3620  technology, machine, brain, knowledge, science, intelligence, information, imagine, humans, drive                                                                                                                                                          [intro, record, date, june, russ, inevitable, great, book, book, read, single, word, succeed, host, time, able, despite, short, time, read, book, savor, vivid, snapshot, present, beautifully, write, speculation, head, provocative, mind, blow, true, go, touch, trend, go, start, chapter, call, argue, look, today, years, feel, like, look, great, hang, fruit, easy, come, stuff, certain, malaise, feel, look, technology, today, people, think, know, fly, cars, twitter, bunch, social, media, optimistic, present, potential, future, guest, read, history, look, go, optimistic, improvements, tend, overcome, problems, introduce, technology, introduce, host, problems, haven, general, think, look, history, optimistic, allow, look, future, russ, kind, internet, thing, ...]\n",
       "5            5            20.0              0.3243              company, internet, google, information, product, search, online, amazon, phone, share                                                                                                                  [russ, okay, point, people, book, human, be, people, screen, course, mean, death, read, point, like, point, people, read, probably, human, history, order, magnitude, read, blow, novels, history, book, read, kinds, things, wonderful, point, observation, differ, look, solve, problems, people, book, versus, people, screen, versus, technology, talk, guest, yeah, general, thesis, people, book, book, kind, fix, finish, precise, immutable, monumental, case, text, foundation, western, civilization, extent, eastern, civilization, thousand, document, country, know, constitution, bible, book, author, root, authority, authority, come, author, kind, orientation, have, cheap, access, book, public, libraries, literacy, read, write, produce, incredible, know, year, explosion, civilization, mean, sort, ways, ...]\n",
       "6            6            12.0              0.3434  technology, machine, brain, knowledge, science, intelligence, information, imagine, humans, drive  [intro, record, date, russ, practical, work, question, preserve, digital, content, library, congress, national, science, foundation, task, force, open, book, digital, piece, america, heritage, declaration, independence, learn, people, react, see, artifact, guest, time, work, library, congress, hold, rough, draft, declaration, independence, know, official, document, declaration, independence, constitution, permanent, display, national, archive, tourists, people, think, declaration, independence, constitution, naturally, document, weren, bear, head, founder, actually, craft, work, time, case, declaration, independence, actually, come, statement, short, period, time, express, turn, retrospect, understand, completely, revolutionary, ideas, rough, draft, declaration, independence, library, congress, display, exhibition, page, hand, write, thomas, jefferson, handwrite, committee, draft, naturally, youngest, ...]\n",
       "7            7            20.0              0.2727              company, internet, google, information, product, search, online, amazon, phone, share                                                                                                                [russ, want, twitter, question, mention, book, shock, spend, rest, time, spend, rest, time, talk, fact, twitter, get, correct, give, years, tweet, library, congress, things, include, own, tweet, aren, course, deal, issue, book, talk, twitter, actually, valuable, guest, twitter, valuable, question, announce, twitter, library, congress, reach, agreement, archive, archive, archive, tweet, reactions, like, garbage, library, congress, thomas, jefferson, paper, keep, twitter, people, twitter, data, away, realize, course, control, data, control, personal, email, gmail, mean, things, need, deal, russ, think, guest, yeah, think, deceptive, information, commercial, company, allow, away, monetize, nother, discussion, months, announcement, gift, cooperation, agreement, arab, spring, begin, tahrir, square, ...]\n",
       "8            8            23.0              0.1483                         bank, financial, risk, crisis, loan, fund, capital, debt, mortgage, assets                                                                                                                 [intro, record, date, russ, ambrose, bierce, book, devil, dictionary, write, homage, bierce, good, guest, try, channel, pretense, cynical, good, writer, certainly, try, write, spirit, russ, go, book, minute, want, listeners, know, ambrose, bierce, amazingly, entertain, clever, fellow, nineteenth, century, right, guest, yeah, exact, contemporary, mark, twain, think, bear, believe, die, know, russ, sure, russ, appreciate, assumption, know, talk, want, quote, bierce, couple, time, people, flavor, bierce, think, know, certainly, know, encourage, listeners, check, book, jason, define, book, devil, dictionary, definitions, common, term, definition, politics, politics, strife, interest, masquerade, contest, principles, conduct, public, affairs, private, advantage, think, deep, true, define, egotist, ...]\n",
       "9            9            23.0              0.1847                         bank, financial, risk, crisis, loan, fund, capital, debt, mortgage, assets                                                                                                                              [russ, want, read, definition, read, definition, bright, line, book, bright, line, line, divide, ethical, unethical, behavior, blur, dull, simplest, bright, line, rule, bright, line, test, answer, question, mother, proud, know, wall, street, voice, audible, urgently, need, listen, financial, industry, harbor, darkness, action, pass, bright, line, test, like, remind, little, adam, smith, impartial, spectator, smith, note, heat, moment, spectator, hard, hear, unethical, want, want, direction, think, wall, street, easily, crisis, failure, ethically, things, ashamed, guest, hard, think, thing, start, come, society, guess, think, american, society, particular, familiar, europe, asia, society, miss, financial, crisis, think, nation, crash, public, hang, term, metaphorically, obviously, ...]"
      ]
     },
     "execution_count": 141,
     "metadata": {},
     "output_type": "execute_result"
    }
   ],
   "source": [
    "# Most Dominant Topic for each of the Documents\n",
    "def format_topics_sentences(ldamodel,corpus,texts):\n",
    "    # Init output\n",
    "    sent_topics_df = pd.DataFrame()\n",
    "\n",
    "    # Get main topic in each document\n",
    "    for i, row in enumerate(ldamodel[corpus]):\n",
    "        row = sorted(row, key=lambda x: (x[1]), reverse=True)\n",
    "        # Get the Dominant topic, Perc Contribution and Keywords for each document\n",
    "        for j, (topic_num, prop_topic) in enumerate(row):\n",
    "            if j == 0:  # => dominant topic\n",
    "                wp = ldamodel.show_topic(topic_num)\n",
    "                topic_keywords = \", \".join([word for word, prop in wp])\n",
    "                sent_topics_df = sent_topics_df.append(pd.Series([int(topic_num), round(prop_topic,4), topic_keywords]), ignore_index=True)\n",
    "            else:\n",
    "                break\n",
    "    sent_topics_df.columns = ['Dominant_Topic', 'Perc_Contribution', 'Topic_Keywords']\n",
    "\n",
    "    # Add original text to the end of the output\n",
    "    contents = pd.Series(texts)\n",
    "    sent_topics_df = pd.concat([sent_topics_df, contents], axis=1)\n",
    "    return(sent_topics_df)\n",
    "\n",
    "\n",
    "df_topic_sents_keywords = format_topics_sentences(ldamodel=optimal_model1, corpus=bow_corpus, texts=processed_docs)\n",
    "\n",
    "# Format\n",
    "df_dominant_topic = df_topic_sents_keywords.reset_index()\n",
    "df_dominant_topic.columns = ['Document_No', 'Dominant_Topic', 'Topic_Perc_Contrib', 'Keywords', 'Text']\n",
    "\n",
    "# Show\n",
    "df_dominant_topic.head(10)"
   ]
  },
  {
   "cell_type": "code",
   "execution_count": 140,
   "metadata": {},
   "outputs": [
    {
     "name": "stdout",
     "output_type": "stream",
     "text": [
      "0           society, social, american, politics, capitalism, freedom, history, respect, ideas, liberal\n",
      "1           society, social, american, politics, capitalism, freedom, history, respect, ideas, liberal\n",
      "2                               sell, store, profit, service, charge, buy, restaurant, uber, tip, wait\n",
      "3                            income, labor, workers, job, growth, wage, measure, earn, wag, inequality\n",
      "4    technology, machine, brain, knowledge, science, intelligence, information, imagine, humans, drive\n",
      "5                company, internet, google, information, product, search, online, amazon, phone, share\n",
      "6    technology, machine, brain, knowledge, science, intelligence, information, imagine, humans, drive\n",
      "7                company, internet, google, information, product, search, online, amazon, phone, share\n",
      "8                           bank, financial, risk, crisis, loan, fund, capital, debt, mortgage, assets\n",
      "9                           bank, financial, risk, crisis, loan, fund, capital, debt, mortgage, assets\n",
      "Name: Document_Topics, dtype: object\n",
      "0             [ambitious, book, try, analyze, america, go, think, provoke, start, america, argue, republicans, democrats, suffer, nostalgia, past, explain, guest, right, book, begin, intense, frustration, overwhelm, public, life, america, evident, politics, ways, things, want, understand, kind, frustration]\n",
      "1              [problems, welfare, state, get, bigger, private, ways, help, get, smaller, charity, family, incentives, marry, smaller, need, spouse, thrive, economically, extent, problems, self, create, economist, look, underlie, economic, force, market, force, cultural, economic, dynamism, economy, mainly]\n",
      "2                 [topic, today, inequality, base, thoughtful, piece, write, reaction, article, york, time, york, time, article, bemoan, fact, norwegian, cruise, line, create, separate, status, cruise, elite, guests, turn, better, treatment, passengers, fancier, cabin, better, amenities, extent, physically]\n",
      "3                                              [away, little, fix, cost, point, make, go, rephrase, go, push, general, feel, resentment, point, make, class, versus, coach, easily, see, automobile, fix, phenomenon, little, research, development, know, drive, honda, accord, drive, lexus, drive, ferrari, know]\n",
      "4                                                [inevitable, great, book, book, read, single, word, succeed, host, time, able, despite, short, time, read, book, savor, vivid, snapshot, present, beautifully, write, speculation, head, provocative, mind, blow, true, go, touch, trend, go, start, chapter, call]\n",
      "5                                           [human, be, people, screen, course, mean, death, read, point, like, point, people, read, probably, human, history, order, magnitude, read, blow, novels, history, book, read, kinds, things, wonderful, point, observation, differ, look, solve, problems, people, book]\n",
      "6    [work, question, preserve, digital, content, library, congress, national, science, foundation, task, force, open, book, digital, piece, america, heritage, declaration, independence, learn, people, react, see, artifact, guest, time, work, library, congress, hold, rough, draft, declaration, independence]\n",
      "7                                                 [book, shock, spend, rest, time, spend, rest, time, talk, fact, twitter, get, correct, give, years, tweet, library, congress, things, include, own, tweet, aren, course, deal, issue, book, talk, twitter, actually, valuable, guest, twitter, valuable, question]\n",
      "8                              [bierce, book, devil, dictionary, write, homage, bierce, good, guest, try, channel, pretense, cynical, good, writer, certainly, try, write, spirit, russ, go, book, minute, want, listeners, know, ambrose, bierce, amazingly, entertain, clever, fellow, nineteenth, century, right]\n",
      "9                                 [definition, bright, line, book, bright, line, line, divide, ethical, unethical, behavior, blur, dull, simplest, bright, line, rule, bright, line, test, answer, question, mother, proud, know, wall, street, voice, audible, urgently, need, listen, financial, industry, harbor]\n",
      "Name: Document_blurb, dtype: object\n"
     ]
    }
   ],
   "source": [
    "Relate_doc_topics = pd.DataFrame()\n",
    "Relate_doc_topics['Document_no'] = df_dominant_topic['Document_No']\n",
    "Relate_doc_topics['Document_blurb'] = doc_glimpse\n",
    "Relate_doc_topics['Document_Topics'] = df_dominant_topic['Keywords']\n",
    "pprint(Relate_doc_topics.loc[:,'Document_Topics'].head(10))\n",
    "pprint(Relate_doc_topics.loc[:,'Document_blurb'].head(10))"
   ]
  },
  {
   "cell_type": "code",
   "execution_count": 142,
   "metadata": {},
   "outputs": [
    {
     "data": {
      "text/html": [
       "<div>\n",
       "<style>\n",
       "    .dataframe thead tr:only-child th {\n",
       "        text-align: right;\n",
       "    }\n",
       "\n",
       "    .dataframe thead th {\n",
       "        text-align: left;\n",
       "    }\n",
       "\n",
       "    .dataframe tbody tr th {\n",
       "        vertical-align: top;\n",
       "    }\n",
       "</style>\n",
       "<table border=\"1\" class=\"dataframe\">\n",
       "  <thead>\n",
       "    <tr style=\"text-align: right;\">\n",
       "      <th></th>\n",
       "      <th>Topic_Num</th>\n",
       "      <th>Topic_Perc_Contrib</th>\n",
       "      <th>Keywords</th>\n",
       "      <th>Text</th>\n",
       "    </tr>\n",
       "  </thead>\n",
       "  <tbody>\n",
       "    <tr>\n",
       "      <th>0</th>\n",
       "      <td>0.0</td>\n",
       "      <td>0.5590</td>\n",
       "      <td>countries, growth, trade, country, poor, china, development, poverty, develop, india</td>\n",
       "      <td>[intro, record, date, russ, roberts, topic, today, come, open, letter, chris, blattman, econtalk, guest, open, letter, chris, write, gate, gate, suggest, want, reduce, poverty, saharan, africans, chickens, right, think, number, saharan, africans, poor, people, general, raise, chickens, number, dent, poverty, chris, blattman, think, hmmm, maybe, money, chris, work, econtalk, chris, propose, experiment, better, give, poor, people, chickens, money, chris, write, despite, suggestive, research, cite, race, chickens, cash, program, ask, expensive, train, supervision, go, things, worth, straightforward, study, thousand, people, countries, variations, understand, combination, work, best, chris, blattman, write, gate, answer, best, investment, fight, world, poverty, mean, figure, progress, quote, lant, ...]</td>\n",
       "    </tr>\n",
       "    <tr>\n",
       "      <th>1</th>\n",
       "      <td>1.0</td>\n",
       "      <td>0.7673</td>\n",
       "      <td>rate, monetary, rat, inflation, bank, reserve, supply, demand, recession, depression</td>\n",
       "      <td>[clarify, question, observation, difficult, measure, price, consumer, price, index, attempt, create, basket, goods, challenge, example, blog, consumer, price, index, middle, year, core, inflation, look, components, house, core, inflation, government, claim, house, price, peculiar, measure, implicit, rent, government, try, figure, house, rend, look, market, house, price, fall, people, sign, long, term, rent, contract, lock, long, term, schedule, nominal, avoid, problem, time, put, weight, construction, nominal, house, construct, fell, sharply, cause, construction, workers, lose, job, distinction, deflator, deflator, flaw, better, nominal, measure, size, nominal, shock, eventually, cause, price, deflator, lower, short, happen, price, fall, output, fall, nominal, fall, price, output, fall, cause, ...]</td>\n",
       "    </tr>\n",
       "    <tr>\n",
       "      <th>2</th>\n",
       "      <td>2.0</td>\n",
       "      <td>0.6989</td>\n",
       "      <td>vote, party, president, congress, tax, federal, security, election, obama, budget</td>\n",
       "      <td>[intro, record, date, july, tap, days, debt, ceiling, suppose, reach, sure, go, happen, live, fascinate, political, time, want, broad, look, years, congressional, presidential, politics, talk, electorate, maybe, speculations, head, year, speak, august, months, midterm, elections, say, typical, democratic, president, midterm, elections, lose, seat, talk, mislead, formal, model, midterm, elections, academic, political, scientists, predict, roughly, range, systematically, underestimate, turn, loss, seat, democrats, happen, model, fail, model, fail, essentially, build, congressmen, congresswomen, act, rationally, members, vote, line, constituents, want, idea, want, elect, think, highest, chance, good, work, assumption, happen, recall, expectations, president, obama, high, believe, israelis, palestinians, suddenly, hold, hand, kumbaya, economy, ...]</td>\n",
       "    </tr>\n",
       "    <tr>\n",
       "      <th>3</th>\n",
       "      <td>3.0</td>\n",
       "      <td>0.7721</td>\n",
       "      <td>sell, store, profit, service, charge, buy, restaurant, uber, tip, wait</td>\n",
       "      <td>[intro, record, date, october, russ, roberts, anthony, gill, today, talk, recent, paper, write, tip, little, extra, restaurant, taxi, fare, server, restaurant, driver, unease, tip, recent, years, people, try, restaurants, stop, tip, practice, social, commentary, tip, thing, unease, criticism, talk, tip, persist, despite, unease, anthony, gill, yeah, years, trend, restaurant, industry, live, wage, model, provide, wait, staff, spate, article, popular, journals, market, watch, fortune, magazine, slate, say, tip, go, fashion, pleasant, customers, efficient, restaurants, flat, service, price, actual, price, leave, customer, happen, dozen, restaurants, tend, upper, scale, boutique, type, restaurants, movement, hasn, catch, hasn, move, watch, teach, tip, teach, economic, principles, ...]</td>\n",
       "    </tr>\n",
       "    <tr>\n",
       "      <th>4</th>\n",
       "      <td>4.0</td>\n",
       "      <td>0.6738</td>\n",
       "      <td>hayek, theory, keynes, model, friedman, ideas, debate, knowledge, economist, firm</td>\n",
       "      <td>[write, paper, call, socialist, calculation, debate, take, place, space, time, mises, hayek, say, logistics, problem, robbins, abba, lerner, know, happen, mises, publish, book, call, socialism, huge, impact, people, inner, circle, vienna, robbins, come, visit, convert, book, available, online, charge, library, economics, liberty, german, language, debate, debate, people, like, jacob, marschak, famous, economist, debate, take, place, german, hayek, move, representative, english, mises, book, available, english, article, available, english, hayek, bring, collection, call, collectivist, economic, plan, summary, calculation, debate, english, hayek, write, introduction, conclusion, volume, position, lay, time, appear, english, oskar, lange, student, abba, lerner, hayek, oskar, try, pick, challenge, mises, position, ...]</td>\n",
       "    </tr>\n",
       "  </tbody>\n",
       "</table>\n",
       "</div>"
      ],
      "text/plain": [
       "   Topic_Num  Topic_Perc_Contrib                                                                              Keywords                                                                                                                                                                                                                                                                                                                                                                                                                                                                                                                                                                                                                                                                                                                                                                                                                                                                                      Text\n",
       "0        0.0              0.5590  countries, growth, trade, country, poor, china, development, poverty, develop, india                                                 [intro, record, date, russ, roberts, topic, today, come, open, letter, chris, blattman, econtalk, guest, open, letter, chris, write, gate, gate, suggest, want, reduce, poverty, saharan, africans, chickens, right, think, number, saharan, africans, poor, people, general, raise, chickens, number, dent, poverty, chris, blattman, think, hmmm, maybe, money, chris, work, econtalk, chris, propose, experiment, better, give, poor, people, chickens, money, chris, write, despite, suggestive, research, cite, race, chickens, cash, program, ask, expensive, train, supervision, go, things, worth, straightforward, study, thousand, people, countries, variations, understand, combination, work, best, chris, blattman, write, gate, answer, best, investment, fight, world, poverty, mean, figure, progress, quote, lant, ...]\n",
       "1        1.0              0.7673  rate, monetary, rat, inflation, bank, reserve, supply, demand, recession, depression                                                 [clarify, question, observation, difficult, measure, price, consumer, price, index, attempt, create, basket, goods, challenge, example, blog, consumer, price, index, middle, year, core, inflation, look, components, house, core, inflation, government, claim, house, price, peculiar, measure, implicit, rent, government, try, figure, house, rend, look, market, house, price, fall, people, sign, long, term, rent, contract, lock, long, term, schedule, nominal, avoid, problem, time, put, weight, construction, nominal, house, construct, fell, sharply, cause, construction, workers, lose, job, distinction, deflator, deflator, flaw, better, nominal, measure, size, nominal, shock, eventually, cause, price, deflator, lower, short, happen, price, fall, output, fall, nominal, fall, price, output, fall, cause, ...]\n",
       "2        2.0              0.6989     vote, party, president, congress, tax, federal, security, election, obama, budget  [intro, record, date, july, tap, days, debt, ceiling, suppose, reach, sure, go, happen, live, fascinate, political, time, want, broad, look, years, congressional, presidential, politics, talk, electorate, maybe, speculations, head, year, speak, august, months, midterm, elections, say, typical, democratic, president, midterm, elections, lose, seat, talk, mislead, formal, model, midterm, elections, academic, political, scientists, predict, roughly, range, systematically, underestimate, turn, loss, seat, democrats, happen, model, fail, model, fail, essentially, build, congressmen, congresswomen, act, rationally, members, vote, line, constituents, want, idea, want, elect, think, highest, chance, good, work, assumption, happen, recall, expectations, president, obama, high, believe, israelis, palestinians, suddenly, hold, hand, kumbaya, economy, ...]\n",
       "3        3.0              0.7721                sell, store, profit, service, charge, buy, restaurant, uber, tip, wait                                                                   [intro, record, date, october, russ, roberts, anthony, gill, today, talk, recent, paper, write, tip, little, extra, restaurant, taxi, fare, server, restaurant, driver, unease, tip, recent, years, people, try, restaurants, stop, tip, practice, social, commentary, tip, thing, unease, criticism, talk, tip, persist, despite, unease, anthony, gill, yeah, years, trend, restaurant, industry, live, wage, model, provide, wait, staff, spate, article, popular, journals, market, watch, fortune, magazine, slate, say, tip, go, fashion, pleasant, customers, efficient, restaurants, flat, service, price, actual, price, leave, customer, happen, dozen, restaurants, tend, upper, scale, boutique, type, restaurants, movement, hasn, catch, hasn, move, watch, teach, tip, teach, economic, principles, ...]\n",
       "4        4.0              0.6738     hayek, theory, keynes, model, friedman, ideas, debate, knowledge, economist, firm                                [write, paper, call, socialist, calculation, debate, take, place, space, time, mises, hayek, say, logistics, problem, robbins, abba, lerner, know, happen, mises, publish, book, call, socialism, huge, impact, people, inner, circle, vienna, robbins, come, visit, convert, book, available, online, charge, library, economics, liberty, german, language, debate, debate, people, like, jacob, marschak, famous, economist, debate, take, place, german, hayek, move, representative, english, mises, book, available, english, article, available, english, hayek, bring, collection, call, collectivist, economic, plan, summary, calculation, debate, english, hayek, write, introduction, conclusion, volume, position, lay, time, appear, english, oskar, lange, student, abba, lerner, hayek, oskar, try, pick, challenge, mises, position, ...]"
      ]
     },
     "execution_count": 142,
     "metadata": {},
     "output_type": "execute_result"
    }
   ],
   "source": [
    "# Most Representative Document for each topic #\n",
    "# Group top 5 Documents under each Topic\n",
    "sent_topics_sorteddf_mallet = pd.DataFrame()\n",
    "\n",
    "sent_topics_outdf_grpd = df_topic_sents_keywords.groupby('Dominant_Topic')\n",
    "\n",
    "for i, grp in sent_topics_outdf_grpd:\n",
    "    sent_topics_sorteddf_mallet = pd.concat([sent_topics_sorteddf_mallet, \n",
    "                                             grp.sort_values(['Perc_Contribution'], ascending=[0]).head(1)], \n",
    "                                            axis=0)\n",
    "\n",
    "# Reset Index    \n",
    "sent_topics_sorteddf_mallet.reset_index(drop=True, inplace=True)\n",
    "\n",
    "# Format\n",
    "sent_topics_sorteddf_mallet.columns = ['Topic_Num', \"Topic_Perc_Contrib\", \"Keywords\", \"Text\"]\n",
    "\n",
    "# Show\n",
    "sent_topics_sorteddf_mallet.head()"
   ]
  },
  {
   "cell_type": "code",
   "execution_count": 143,
   "metadata": {},
   "outputs": [
    {
     "data": {
      "text/html": [
       "<div>\n",
       "<style>\n",
       "    .dataframe thead tr:only-child th {\n",
       "        text-align: right;\n",
       "    }\n",
       "\n",
       "    .dataframe thead th {\n",
       "        text-align: left;\n",
       "    }\n",
       "\n",
       "    .dataframe tbody tr th {\n",
       "        vertical-align: top;\n",
       "    }\n",
       "</style>\n",
       "<table border=\"1\" class=\"dataframe\">\n",
       "  <thead>\n",
       "    <tr style=\"text-align: right;\">\n",
       "      <th></th>\n",
       "      <th>Dominant_Topic</th>\n",
       "      <th>Topic_Keywords</th>\n",
       "      <th>Num_Documents</th>\n",
       "      <th>Perc_Documents</th>\n",
       "    </tr>\n",
       "  </thead>\n",
       "  <tbody>\n",
       "    <tr>\n",
       "      <th>0</th>\n",
       "      <td>16.0</td>\n",
       "      <td>society, social, american, politics, capitalism, freedom, history, respect, ideas, liberal</td>\n",
       "      <td>56.0</td>\n",
       "      <td>0.0538</td>\n",
       "    </tr>\n",
       "    <tr>\n",
       "      <th>1</th>\n",
       "      <td>16.0</td>\n",
       "      <td>society, social, american, politics, capitalism, freedom, history, respect, ideas, liberal</td>\n",
       "      <td>83.0</td>\n",
       "      <td>0.0798</td>\n",
       "    </tr>\n",
       "    <tr>\n",
       "      <th>2</th>\n",
       "      <td>3.0</td>\n",
       "      <td>sell, store, profit, service, charge, buy, restaurant, uber, tip, wait</td>\n",
       "      <td>42.0</td>\n",
       "      <td>0.0404</td>\n",
       "    </tr>\n",
       "    <tr>\n",
       "      <th>3</th>\n",
       "      <td>21.0</td>\n",
       "      <td>income, labor, workers, job, growth, wage, measure, earn, wag, inequality</td>\n",
       "      <td>35.0</td>\n",
       "      <td>0.0337</td>\n",
       "    </tr>\n",
       "    <tr>\n",
       "      <th>4</th>\n",
       "      <td>12.0</td>\n",
       "      <td>technology, machine, brain, knowledge, science, intelligence, information, imagine, humans, drive</td>\n",
       "      <td>33.0</td>\n",
       "      <td>0.0317</td>\n",
       "    </tr>\n",
       "    <tr>\n",
       "      <th>5</th>\n",
       "      <td>20.0</td>\n",
       "      <td>company, internet, google, information, product, search, online, amazon, phone, share</td>\n",
       "      <td>49.0</td>\n",
       "      <td>0.0471</td>\n",
       "    </tr>\n",
       "    <tr>\n",
       "      <th>6</th>\n",
       "      <td>12.0</td>\n",
       "      <td>technology, machine, brain, knowledge, science, intelligence, information, imagine, humans, drive</td>\n",
       "      <td>36.0</td>\n",
       "      <td>0.0346</td>\n",
       "    </tr>\n",
       "    <tr>\n",
       "      <th>7</th>\n",
       "      <td>20.0</td>\n",
       "      <td>company, internet, google, information, product, search, online, amazon, phone, share</td>\n",
       "      <td>20.0</td>\n",
       "      <td>0.0192</td>\n",
       "    </tr>\n",
       "    <tr>\n",
       "      <th>8</th>\n",
       "      <td>23.0</td>\n",
       "      <td>bank, financial, risk, crisis, loan, fund, capital, debt, mortgage, assets</td>\n",
       "      <td>15.0</td>\n",
       "      <td>0.0144</td>\n",
       "    </tr>\n",
       "    <tr>\n",
       "      <th>9</th>\n",
       "      <td>23.0</td>\n",
       "      <td>bank, financial, risk, crisis, loan, fund, capital, debt, mortgage, assets</td>\n",
       "      <td>46.0</td>\n",
       "      <td>0.0442</td>\n",
       "    </tr>\n",
       "    <tr>\n",
       "      <th>10</th>\n",
       "      <td>1.0</td>\n",
       "      <td>rate, monetary, rat, inflation, bank, reserve, supply, demand, recession, depression</td>\n",
       "      <td>38.0</td>\n",
       "      <td>0.0365</td>\n",
       "    </tr>\n",
       "    <tr>\n",
       "      <th>11</th>\n",
       "      <td>1.0</td>\n",
       "      <td>rate, monetary, rat, inflation, bank, reserve, supply, demand, recession, depression</td>\n",
       "      <td>34.0</td>\n",
       "      <td>0.0327</td>\n",
       "    </tr>\n",
       "    <tr>\n",
       "      <th>12</th>\n",
       "      <td>21.0</td>\n",
       "      <td>income, labor, workers, job, growth, wage, measure, earn, wag, inequality</td>\n",
       "      <td>42.0</td>\n",
       "      <td>0.0404</td>\n",
       "    </tr>\n",
       "    <tr>\n",
       "      <th>13</th>\n",
       "      <td>21.0</td>\n",
       "      <td>income, labor, workers, job, growth, wage, measure, earn, wag, inequality</td>\n",
       "      <td>19.0</td>\n",
       "      <td>0.0183</td>\n",
       "    </tr>\n",
       "    <tr>\n",
       "      <th>14</th>\n",
       "      <td>0.0</td>\n",
       "      <td>countries, growth, trade, country, poor, china, development, poverty, develop, india</td>\n",
       "      <td>23.0</td>\n",
       "      <td>0.0221</td>\n",
       "    </tr>\n",
       "    <tr>\n",
       "      <th>15</th>\n",
       "      <td>0.0</td>\n",
       "      <td>countries, growth, trade, country, poor, china, development, poverty, develop, india</td>\n",
       "      <td>31.0</td>\n",
       "      <td>0.0298</td>\n",
       "    </tr>\n",
       "    <tr>\n",
       "      <th>16</th>\n",
       "      <td>12.0</td>\n",
       "      <td>technology, machine, brain, knowledge, science, intelligence, information, imagine, humans, drive</td>\n",
       "      <td>34.0</td>\n",
       "      <td>0.0327</td>\n",
       "    </tr>\n",
       "    <tr>\n",
       "      <th>17</th>\n",
       "      <td>12.0</td>\n",
       "      <td>technology, machine, brain, knowledge, science, intelligence, information, imagine, humans, drive</td>\n",
       "      <td>32.0</td>\n",
       "      <td>0.0308</td>\n",
       "    </tr>\n",
       "    <tr>\n",
       "      <th>18</th>\n",
       "      <td>1.0</td>\n",
       "      <td>rate, monetary, rat, inflation, bank, reserve, supply, demand, recession, depression</td>\n",
       "      <td>45.0</td>\n",
       "      <td>0.0433</td>\n",
       "    </tr>\n",
       "    <tr>\n",
       "      <th>19</th>\n",
       "      <td>15.0</td>\n",
       "      <td>regulation, competition, innovation, license, private, industry, sector, patent, service, regulatory</td>\n",
       "      <td>24.0</td>\n",
       "      <td>0.0231</td>\n",
       "    </tr>\n",
       "  </tbody>\n",
       "</table>\n",
       "</div>"
      ],
      "text/plain": [
       "    Dominant_Topic                                                                                        Topic_Keywords  Num_Documents  Perc_Documents\n",
       "0             16.0            society, social, american, politics, capitalism, freedom, history, respect, ideas, liberal           56.0          0.0538\n",
       "1             16.0            society, social, american, politics, capitalism, freedom, history, respect, ideas, liberal           83.0          0.0798\n",
       "2              3.0                                sell, store, profit, service, charge, buy, restaurant, uber, tip, wait           42.0          0.0404\n",
       "3             21.0                             income, labor, workers, job, growth, wage, measure, earn, wag, inequality           35.0          0.0337\n",
       "4             12.0     technology, machine, brain, knowledge, science, intelligence, information, imagine, humans, drive           33.0          0.0317\n",
       "5             20.0                 company, internet, google, information, product, search, online, amazon, phone, share           49.0          0.0471\n",
       "6             12.0     technology, machine, brain, knowledge, science, intelligence, information, imagine, humans, drive           36.0          0.0346\n",
       "7             20.0                 company, internet, google, information, product, search, online, amazon, phone, share           20.0          0.0192\n",
       "8             23.0                            bank, financial, risk, crisis, loan, fund, capital, debt, mortgage, assets           15.0          0.0144\n",
       "9             23.0                            bank, financial, risk, crisis, loan, fund, capital, debt, mortgage, assets           46.0          0.0442\n",
       "10             1.0                  rate, monetary, rat, inflation, bank, reserve, supply, demand, recession, depression           38.0          0.0365\n",
       "11             1.0                  rate, monetary, rat, inflation, bank, reserve, supply, demand, recession, depression           34.0          0.0327\n",
       "12            21.0                             income, labor, workers, job, growth, wage, measure, earn, wag, inequality           42.0          0.0404\n",
       "13            21.0                             income, labor, workers, job, growth, wage, measure, earn, wag, inequality           19.0          0.0183\n",
       "14             0.0                  countries, growth, trade, country, poor, china, development, poverty, develop, india           23.0          0.0221\n",
       "15             0.0                  countries, growth, trade, country, poor, china, development, poverty, develop, india           31.0          0.0298\n",
       "16            12.0     technology, machine, brain, knowledge, science, intelligence, information, imagine, humans, drive           34.0          0.0327\n",
       "17            12.0     technology, machine, brain, knowledge, science, intelligence, information, imagine, humans, drive           32.0          0.0308\n",
       "18             1.0                  rate, monetary, rat, inflation, bank, reserve, supply, demand, recession, depression           45.0          0.0433\n",
       "19            15.0  regulation, competition, innovation, license, private, industry, sector, patent, service, regulatory           24.0          0.0231"
      ]
     },
     "execution_count": 143,
     "metadata": {},
     "output_type": "execute_result"
    }
   ],
   "source": [
    "#### Topic Distribution across Documents ####\n",
    "# Number of Documents for Each Topic\n",
    "topic_counts = df_topic_sents_keywords['Dominant_Topic'].value_counts()\n",
    "\n",
    "# Percentage of Documents for Each Topic\n",
    "topic_contribution = round(topic_counts/topic_counts.sum(), 4)\n",
    "\n",
    "# Topic Number and Keywords\n",
    "topic_num_keywords = df_topic_sents_keywords[['Dominant_Topic', 'Topic_Keywords']]\n",
    "\n",
    "# Concatenate Column wise\n",
    "df_dominant_topics = pd.concat([topic_num_keywords, topic_counts, topic_contribution], axis=1)\n",
    "\n",
    "# Change Column names\n",
    "df_dominant_topics.columns = ['Dominant_Topic', 'Topic_Keywords', 'Num_Documents', 'Perc_Documents']\n",
    "\n",
    "# Show\n",
    "df_dominant_topics.head(20)"
   ]
  }
 ],
 "metadata": {
  "kernelspec": {
   "display_name": "Python 3",
   "language": "python",
   "name": "python3"
  },
  "language_info": {
   "codemirror_mode": {
    "name": "ipython",
    "version": 3
   },
   "file_extension": ".py",
   "mimetype": "text/x-python",
   "name": "python",
   "nbconvert_exporter": "python",
   "pygments_lexer": "ipython3",
   "version": "3.6.2"
  }
 },
 "nbformat": 4,
 "nbformat_minor": 2
}
